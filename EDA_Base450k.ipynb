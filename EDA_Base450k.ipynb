{
 "cells": [
  {
   "cell_type": "code",
   "execution_count": 1,
   "metadata": {},
   "outputs": [],
   "source": [
    "# https://cnes.datasus.gov.br/pages/downloads/arquivosBaseDados.jsp\n",
    "# base veio daqui"
   ]
  },
  {
   "cell_type": "code",
   "execution_count": 1,
   "metadata": {},
   "outputs": [],
   "source": [
    "import pandas as pd\n",
    "import numpy as np"
   ]
  },
  {
   "cell_type": "code",
   "execution_count": 6,
   "metadata": {},
   "outputs": [
    {
     "name": "stderr",
     "output_type": "stream",
     "text": [
      "<ipython-input-6-a4d47e62ff35>:1: DtypeWarning: Columns (0,45) have mixed types. Specify dtype option on import or set low_memory=False.\n",
      "  df = pd.read_csv(r'C:\\Users\\Renato\\OneDrive\\Pessoal\\RSL Consultoria\\Horizon\\05-Tese Psiquiatria\\HZN-tese-psiquiatria\\tbEstabelecimento202201.csv',sep=';',dtype={'NU_CNPJ':np.float64})\n"
     ]
    }
   ],
   "source": [
    "df = pd.read_csv(r'C:\\Users\\Renato\\OneDrive\\Pessoal\\RSL Consultoria\\Horizon\\05-Tese Psiquiatria\\HZN-tese-psiquiatria\\tbEstabelecimento202201.csv',sep=';',dtype={'NU_CNPJ':np.float64})"
   ]
  },
  {
   "cell_type": "code",
   "execution_count": 7,
   "metadata": {},
   "outputs": [
    {
     "data": {
      "text/html": [
       "<div>\n",
       "<style scoped>\n",
       "    .dataframe tbody tr th:only-of-type {\n",
       "        vertical-align: middle;\n",
       "    }\n",
       "\n",
       "    .dataframe tbody tr th {\n",
       "        vertical-align: top;\n",
       "    }\n",
       "\n",
       "    .dataframe thead th {\n",
       "        text-align: right;\n",
       "    }\n",
       "</style>\n",
       "<table border=\"1\" class=\"dataframe\">\n",
       "  <thead>\n",
       "    <tr style=\"text-align: right;\">\n",
       "      <th></th>\n",
       "      <th>CO_UNIDADE</th>\n",
       "      <th>CO_CNES</th>\n",
       "      <th>NU_CNPJ_MANTENEDORA</th>\n",
       "      <th>TP_PFPJ</th>\n",
       "      <th>NIVEL_DEP</th>\n",
       "      <th>NO_RAZAO_SOCIAL</th>\n",
       "      <th>NO_FANTASIA</th>\n",
       "      <th>NO_LOGRADOURO</th>\n",
       "      <th>NU_ENDERECO</th>\n",
       "      <th>NO_COMPLEMENTO</th>\n",
       "      <th>...</th>\n",
       "      <th>TP_ESTAB_SEMPRE_ABERTO</th>\n",
       "      <th>ST_GERACREDITO_GERENTE_SGIF</th>\n",
       "      <th>ST_CONEXAO_INTERNET</th>\n",
       "      <th>CO_TIPO_UNIDADE</th>\n",
       "      <th>NO_FANTASIA_ABREV</th>\n",
       "      <th>TP_GESTAO</th>\n",
       "      <th>TO_CHAR(DT_ATUALIZACAO_ORIGEM,'DD/MM/YYYY')</th>\n",
       "      <th>CO_TIPO_ESTABELECIMENTO</th>\n",
       "      <th>CO_ATIVIDADE_PRINCIPAL</th>\n",
       "      <th>ST_CONTRATO_FORMALIZADO</th>\n",
       "    </tr>\n",
       "  </thead>\n",
       "  <tbody>\n",
       "    <tr>\n",
       "      <th>0</th>\n",
       "      <td>MG0000312490000000000000161748</td>\n",
       "      <td>2195291</td>\n",
       "      <td>1.794766e+13</td>\n",
       "      <td>3</td>\n",
       "      <td>3</td>\n",
       "      <td>PREFEITURA MUNICIPAL DE EUGENOPOLIS</td>\n",
       "      <td>PSF JOAO DA CRUZ REIS</td>\n",
       "      <td>RUA MAESTRO ABIGAIL DE MOURA</td>\n",
       "      <td>S/N</td>\n",
       "      <td>NaN</td>\n",
       "      <td>...</td>\n",
       "      <td>NaN</td>\n",
       "      <td>NaN</td>\n",
       "      <td>NaN</td>\n",
       "      <td>NaN</td>\n",
       "      <td>NaN</td>\n",
       "      <td>M</td>\n",
       "      <td>07/10/2002</td>\n",
       "      <td>NaN</td>\n",
       "      <td>NaN</td>\n",
       "      <td>NaN</td>\n",
       "    </tr>\n",
       "    <tr>\n",
       "      <th>1</th>\n",
       "      <td>RO00000000000000099990010000188</td>\n",
       "      <td>2497492</td>\n",
       "      <td>5.893631e+12</td>\n",
       "      <td>3</td>\n",
       "      <td>3</td>\n",
       "      <td>PREFEITURA MUNICIPAL DE GUAJARA MIRIM</td>\n",
       "      <td>HEMONUCLEO DE GUAJARA MIRIM GUAJARA MIRIM</td>\n",
       "      <td>AV MARECHAL DEODORO</td>\n",
       "      <td>S/N</td>\n",
       "      <td>NaN</td>\n",
       "      <td>...</td>\n",
       "      <td>NaN</td>\n",
       "      <td>NaN</td>\n",
       "      <td>NaN</td>\n",
       "      <td>NaN</td>\n",
       "      <td>NaN</td>\n",
       "      <td>M</td>\n",
       "      <td>30/01/2002</td>\n",
       "      <td>NaN</td>\n",
       "      <td>NaN</td>\n",
       "      <td>NaN</td>\n",
       "    </tr>\n",
       "    <tr>\n",
       "      <th>2</th>\n",
       "      <td>RO00000000000000099990010000196</td>\n",
       "      <td>2497573</td>\n",
       "      <td>4.632212e+12</td>\n",
       "      <td>3</td>\n",
       "      <td>3</td>\n",
       "      <td>PREFEITURA MUNICIPAL DE PRESIDENTE MEDICI</td>\n",
       "      <td>POSTO DE SAUDE CRISTO REI PRESIDENTE MEDICI</td>\n",
       "      <td>LINHA 132</td>\n",
       "      <td>S/N</td>\n",
       "      <td>NaN</td>\n",
       "      <td>...</td>\n",
       "      <td>NaN</td>\n",
       "      <td>NaN</td>\n",
       "      <td>NaN</td>\n",
       "      <td>NaN</td>\n",
       "      <td>NaN</td>\n",
       "      <td>M</td>\n",
       "      <td>30/01/2002</td>\n",
       "      <td>NaN</td>\n",
       "      <td>NaN</td>\n",
       "      <td>NaN</td>\n",
       "    </tr>\n",
       "    <tr>\n",
       "      <th>3</th>\n",
       "      <td>RO00000000000000099990010000198</td>\n",
       "      <td>2497603</td>\n",
       "      <td>4.632212e+12</td>\n",
       "      <td>3</td>\n",
       "      <td>3</td>\n",
       "      <td>PREFEITURA MUNICIPAL DE PRESIDENTE MEDICI</td>\n",
       "      <td>POSTO DE SAUDE SANTA SOFIA PRESIDENTE MEDICI</td>\n",
       "      <td>LINHA 110</td>\n",
       "      <td>S/N</td>\n",
       "      <td>NaN</td>\n",
       "      <td>...</td>\n",
       "      <td>NaN</td>\n",
       "      <td>NaN</td>\n",
       "      <td>NaN</td>\n",
       "      <td>NaN</td>\n",
       "      <td>NaN</td>\n",
       "      <td>M</td>\n",
       "      <td>30/01/2002</td>\n",
       "      <td>NaN</td>\n",
       "      <td>NaN</td>\n",
       "      <td>NaN</td>\n",
       "    </tr>\n",
       "    <tr>\n",
       "      <th>4</th>\n",
       "      <td>2311302565374</td>\n",
       "      <td>2565374</td>\n",
       "      <td>2.344475e+13</td>\n",
       "      <td>3</td>\n",
       "      <td>3</td>\n",
       "      <td>PREFEITURA MUNICIPAL DE QUIXADA</td>\n",
       "      <td>POSTO DE SAUDE FRANCISCO ENEAS DE LIMA</td>\n",
       "      <td>RUA EMIPIDIO CORREIA LIMA</td>\n",
       "      <td>1163</td>\n",
       "      <td>ZONA RURAL</td>\n",
       "      <td>...</td>\n",
       "      <td>NaN</td>\n",
       "      <td>NaN</td>\n",
       "      <td>NaN</td>\n",
       "      <td>NaN</td>\n",
       "      <td>NaN</td>\n",
       "      <td>M</td>\n",
       "      <td>08/05/2002</td>\n",
       "      <td>NaN</td>\n",
       "      <td>NaN</td>\n",
       "      <td>NaN</td>\n",
       "    </tr>\n",
       "  </tbody>\n",
       "</table>\n",
       "<p>5 rows × 54 columns</p>\n",
       "</div>"
      ],
      "text/plain": [
       "                        CO_UNIDADE  CO_CNES  NU_CNPJ_MANTENEDORA  TP_PFPJ  \\\n",
       "0   MG0000312490000000000000161748  2195291         1.794766e+13        3   \n",
       "1  RO00000000000000099990010000188  2497492         5.893631e+12        3   \n",
       "2  RO00000000000000099990010000196  2497573         4.632212e+12        3   \n",
       "3  RO00000000000000099990010000198  2497603         4.632212e+12        3   \n",
       "4                    2311302565374  2565374         2.344475e+13        3   \n",
       "\n",
       "   NIVEL_DEP                            NO_RAZAO_SOCIAL  \\\n",
       "0          3        PREFEITURA MUNICIPAL DE EUGENOPOLIS   \n",
       "1          3      PREFEITURA MUNICIPAL DE GUAJARA MIRIM   \n",
       "2          3  PREFEITURA MUNICIPAL DE PRESIDENTE MEDICI   \n",
       "3          3  PREFEITURA MUNICIPAL DE PRESIDENTE MEDICI   \n",
       "4          3            PREFEITURA MUNICIPAL DE QUIXADA   \n",
       "\n",
       "                                    NO_FANTASIA                 NO_LOGRADOURO  \\\n",
       "0                         PSF JOAO DA CRUZ REIS  RUA MAESTRO ABIGAIL DE MOURA   \n",
       "1     HEMONUCLEO DE GUAJARA MIRIM GUAJARA MIRIM           AV MARECHAL DEODORO   \n",
       "2   POSTO DE SAUDE CRISTO REI PRESIDENTE MEDICI                     LINHA 132   \n",
       "3  POSTO DE SAUDE SANTA SOFIA PRESIDENTE MEDICI                     LINHA 110   \n",
       "4        POSTO DE SAUDE FRANCISCO ENEAS DE LIMA     RUA EMIPIDIO CORREIA LIMA   \n",
       "\n",
       "  NU_ENDERECO NO_COMPLEMENTO  ... TP_ESTAB_SEMPRE_ABERTO  \\\n",
       "0         S/N            NaN  ...                    NaN   \n",
       "1         S/N            NaN  ...                    NaN   \n",
       "2         S/N            NaN  ...                    NaN   \n",
       "3         S/N            NaN  ...                    NaN   \n",
       "4        1163     ZONA RURAL  ...                    NaN   \n",
       "\n",
       "   ST_GERACREDITO_GERENTE_SGIF ST_CONEXAO_INTERNET CO_TIPO_UNIDADE  \\\n",
       "0                          NaN                 NaN             NaN   \n",
       "1                          NaN                 NaN             NaN   \n",
       "2                          NaN                 NaN             NaN   \n",
       "3                          NaN                 NaN             NaN   \n",
       "4                          NaN                 NaN             NaN   \n",
       "\n",
       "  NO_FANTASIA_ABREV TP_GESTAO TO_CHAR(DT_ATUALIZACAO_ORIGEM,'DD/MM/YYYY')  \\\n",
       "0               NaN         M                                  07/10/2002   \n",
       "1               NaN         M                                  30/01/2002   \n",
       "2               NaN         M                                  30/01/2002   \n",
       "3               NaN         M                                  30/01/2002   \n",
       "4               NaN         M                                  08/05/2002   \n",
       "\n",
       "  CO_TIPO_ESTABELECIMENTO CO_ATIVIDADE_PRINCIPAL  ST_CONTRATO_FORMALIZADO  \n",
       "0                     NaN                    NaN                      NaN  \n",
       "1                     NaN                    NaN                      NaN  \n",
       "2                     NaN                    NaN                      NaN  \n",
       "3                     NaN                    NaN                      NaN  \n",
       "4                     NaN                    NaN                      NaN  \n",
       "\n",
       "[5 rows x 54 columns]"
      ]
     },
     "execution_count": 7,
     "metadata": {},
     "output_type": "execute_result"
    }
   ],
   "source": [
    "df.head()"
   ]
  },
  {
   "cell_type": "code",
   "execution_count": 7,
   "metadata": {},
   "outputs": [
    {
     "data": {
      "text/plain": [
       "Index(['CO_UNIDADE', 'CO_CNES', 'NU_CNPJ_MANTENEDORA', 'TP_PFPJ', 'NIVEL_DEP',\n",
       "       'NO_RAZAO_SOCIAL', 'NO_FANTASIA', 'NO_LOGRADOURO', 'NU_ENDERECO',\n",
       "       'NO_COMPLEMENTO', 'NO_BAIRRO', 'CO_CEP', 'CO_REGIAO_SAUDE',\n",
       "       'CO_MICRO_REGIAO', 'CO_DISTRITO_SANITARIO',\n",
       "       'CO_DISTRITO_ADMINISTRATIVO', 'NU_TELEFONE', 'NU_FAX', 'NO_EMAIL',\n",
       "       'NU_CPF', 'NU_CNPJ', 'CO_ATIVIDADE', 'CO_CLIENTELA', 'NU_ALVARA',\n",
       "       'DT_EXPEDICAO', 'TP_ORGAO_EXPEDIDOR', 'DT_VAL_LIC_SANI', 'TP_LIC_SANI',\n",
       "       'TP_UNIDADE', 'CO_TURNO_ATENDIMENTO', 'CO_ESTADO_GESTOR',\n",
       "       'CO_MUNICIPIO_GESTOR', 'TO_CHAR(DT_ATUALIZACAO,'DD/MM/YYYY')',\n",
       "       'CO_USUARIO', 'CO_CPFDIRETORCLN', 'REG_DIRETORCLN',\n",
       "       'ST_ADESAO_FILANTROP', 'CO_MOTIVO_DESAB', 'NO_URL', 'NU_LATITUDE',\n",
       "       'NU_LONGITUDE', 'TO_CHAR(DT_ATU_GEO,'DD/MM/YYYY')', 'NO_USUARIO_GEO',\n",
       "       'CO_NATUREZA_JUR', 'TP_ESTAB_SEMPRE_ABERTO',\n",
       "       'ST_GERACREDITO_GERENTE_SGIF', 'ST_CONEXAO_INTERNET', 'CO_TIPO_UNIDADE',\n",
       "       'NO_FANTASIA_ABREV', 'TP_GESTAO',\n",
       "       'TO_CHAR(DT_ATUALIZACAO_ORIGEM,'DD/MM/YYYY')',\n",
       "       'CO_TIPO_ESTABELECIMENTO', 'CO_ATIVIDADE_PRINCIPAL',\n",
       "       'ST_CONTRATO_FORMALIZADO'],\n",
       "      dtype='object')"
      ]
     },
     "execution_count": 7,
     "metadata": {},
     "output_type": "execute_result"
    }
   ],
   "source": [
    "df.columns"
   ]
  },
  {
   "cell_type": "code",
   "execution_count": 8,
   "metadata": {},
   "outputs": [
    {
     "data": {
      "text/plain": [
       "(452740, 54)"
      ]
     },
     "execution_count": 8,
     "metadata": {},
     "output_type": "execute_result"
    }
   ],
   "source": [
    "df.shape"
   ]
  },
  {
   "cell_type": "code",
   "execution_count": 8,
   "metadata": {},
   "outputs": [
    {
     "data": {
      "text/plain": [
       "43364538000198.0"
      ]
     },
     "execution_count": 8,
     "metadata": {},
     "output_type": "execute_result"
    }
   ],
   "source": [
    "df['NU_CNPJ'][452739]"
   ]
  }
 ],
 "metadata": {
  "interpreter": {
   "hash": "21b8f758fb4715b4b81f2c423d88e7315ea58c9a3d8976542b4ef22d08a865e7"
  },
  "kernelspec": {
   "display_name": "Python 3.8.8 ('Data_Science')",
   "language": "python",
   "name": "python3"
  },
  "language_info": {
   "codemirror_mode": {
    "name": "ipython",
    "version": 3
   },
   "file_extension": ".py",
   "mimetype": "text/x-python",
   "name": "python",
   "nbconvert_exporter": "python",
   "pygments_lexer": "ipython3",
   "version": "3.8.8"
  },
  "orig_nbformat": 4
 },
 "nbformat": 4,
 "nbformat_minor": 2
}
