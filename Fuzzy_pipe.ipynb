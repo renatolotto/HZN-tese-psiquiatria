{
 "cells": [
  {
   "cell_type": "code",
   "execution_count": 1,
   "metadata": {},
   "outputs": [
    {
     "name": "stderr",
     "output_type": "stream",
     "text": [
      "c:\\Users\\Renato\\anaconda3\\envs\\Data_Science\\lib\\site-packages\\fuzzywuzzy\\fuzz.py:11: UserWarning: Using slow pure-python SequenceMatcher. Install python-Levenshtein to remove this warning\n",
      "  warnings.warn('Using slow pure-python SequenceMatcher. Install python-Levenshtein to remove this warning')\n"
     ]
    }
   ],
   "source": [
    "import pandas as pd\n",
    "import missingno as msno\n",
    "from fuzzywuzzy import fuzz\n",
    "from unidecode import unidecode"
   ]
  },
  {
   "cell_type": "code",
   "execution_count": 2,
   "metadata": {},
   "outputs": [],
   "source": [
    "# Pipe para receber base consolidada e criar colunas de fuzzy, inclui regras que eliminam dados caso fuzzy tenha score baixo\n",
    "# [X] = CNES vs RF\n",
    "# [ ] = CNES vs Google Places (falta NOME)\n",
    "# [ ] = CNES vs Transunion"
   ]
  },
  {
   "cell_type": "code",
   "execution_count": 3,
   "metadata": {},
   "outputs": [
    {
     "name": "stderr",
     "output_type": "stream",
     "text": [
      "<ipython-input-3-fa86f462b955>:1: DtypeWarning: Columns (92,93,123,153,155,156,180) have mixed types. Specify dtype option on import or set low_memory=False.\n",
      "  df = pd.read_csv(r'App\\base2.csv',dtype={'cnpj': object,'CNPJ': object,'cep': object,'CEP': object,'CNPJ_8_Digitos':object})\n"
     ]
    }
   ],
   "source": [
    "df = pd.read_csv(r'App\\base2.csv',dtype={'cnpj': object,'CNPJ': object,'cep': object,'CEP': object,'CNPJ_8_Digitos':object})"
   ]
  },
  {
   "cell_type": "markdown",
   "metadata": {},
   "source": [
    "CNES vs RF"
   ]
  },
  {
   "cell_type": "code",
   "execution_count": 4,
   "metadata": {},
   "outputs": [
    {
     "name": "stdout",
     "output_type": "stream",
     "text": [
      "<class 'pandas.core.frame.DataFrame'>\n",
      "RangeIndex: 21053 entries, 0 to 21052\n",
      "Data columns (total 2 columns):\n",
      " #   Column  Non-Null Count  Dtype \n",
      "---  ------  --------------  ----- \n",
      " 0   CNPJ    21053 non-null  object\n",
      " 1   cnpj    21053 non-null  object\n",
      "dtypes: object(2)\n",
      "memory usage: 329.1+ KB\n"
     ]
    }
   ],
   "source": [
    "#CNPJ\n",
    "df[['CNPJ','cnpj']].info()\n",
    "for index,row in df.iterrows():\n",
    "    # if row['cnpj']:\n",
    "    df.loc[index, \"Fuzzy_CNPJ_CNESvsRF\"] =  fuzz.ratio(unidecode(row['CNPJ'].lower()),unidecode(row['cnpj'].lower()))\n",
    "    # df.loc[index, \"Fuzzy_partial_ratio_CNPJ_CNESvsRF\"] =  fuzz.partial_ratio(unidecode(row['CNPJ'].lower()),unidecode(row['cnpj'].lower()))\n",
    "    # df.loc[index, \"Fuzzy_token_sort_ratio_CNPJ_CNESvsRF\"] =  fuzz.token_sort_ratio(unidecode(row['CNPJ'].lower()),unidecode(row['cnpj'].lower()))\n",
    "    # df.loc[index, \"Fuzzy_token_set_ratio_CNPJ_CNESvsRF\"] =  fuzz.token_set_ratio(unidecode(row['CNPJ'].lower()),unidecode(row['cnpj'].lower()))\n",
    "# df[['CNPJ','cnpj','Fuzzy_CNPJ_CNESvsRF']].sort_values(by='Fuzzy_CNPJ_CNESvsRF',ascending=False).head()#,\"Fuzzy_partial_ratio_Fantasia_CNESvsRF\",\"Fuzzy_token_sort_ratio_Fantasia_CNESvsRF\",\"Fuzzy_token_set_ratio_Fantasia_CNESvsRF\""
   ]
  },
  {
   "cell_type": "code",
   "execution_count": 5,
   "metadata": {},
   "outputs": [
    {
     "data": {
      "text/plain": [
       "100.0    21053\n",
       "Name: Fuzzy_CNPJ_CNESvsRF, dtype: int64"
      ]
     },
     "execution_count": 5,
     "metadata": {},
     "output_type": "execute_result"
    }
   ],
   "source": [
    "df[\"Fuzzy_CNPJ_CNESvsRF\"].value_counts()"
   ]
  },
  {
   "cell_type": "code",
   "execution_count": 6,
   "metadata": {},
   "outputs": [
    {
     "name": "stdout",
     "output_type": "stream",
     "text": [
      "<class 'pandas.core.frame.DataFrame'>\n",
      "RangeIndex: 21053 entries, 0 to 21052\n",
      "Data columns (total 2 columns):\n",
      " #   Column         Non-Null Count  Dtype \n",
      "---  ------         --------------  ----- \n",
      " 0   Nome Fantasia  21053 non-null  object\n",
      " 1   fantasia       13688 non-null  object\n",
      "dtypes: object(2)\n",
      "memory usage: 329.1+ KB\n"
     ]
    },
    {
     "data": {
      "text/html": [
       "<div>\n",
       "<style scoped>\n",
       "    .dataframe tbody tr th:only-of-type {\n",
       "        vertical-align: middle;\n",
       "    }\n",
       "\n",
       "    .dataframe tbody tr th {\n",
       "        vertical-align: top;\n",
       "    }\n",
       "\n",
       "    .dataframe thead th {\n",
       "        text-align: right;\n",
       "    }\n",
       "</style>\n",
       "<table border=\"1\" class=\"dataframe\">\n",
       "  <thead>\n",
       "    <tr style=\"text-align: right;\">\n",
       "      <th></th>\n",
       "      <th>Nome Fantasia</th>\n",
       "      <th>fantasia</th>\n",
       "      <th>Fuzzy_Fantasia_CNESvsRF</th>\n",
       "    </tr>\n",
       "  </thead>\n",
       "  <tbody>\n",
       "    <tr>\n",
       "      <th>0</th>\n",
       "      <td>CENTRAL IMAGEM CLINICA MEDICA</td>\n",
       "      <td>CENTRAL IMAGEM CLINICA MEDICA</td>\n",
       "      <td>100.0</td>\n",
       "    </tr>\n",
       "    <tr>\n",
       "      <th>12374</th>\n",
       "      <td>ASSOCIACAO PESTALOZZI DE CUIABA</td>\n",
       "      <td>ASSOCIACAO PESTALOZZI DE CUIABA</td>\n",
       "      <td>100.0</td>\n",
       "    </tr>\n",
       "    <tr>\n",
       "      <th>12343</th>\n",
       "      <td>PSICODONTO</td>\n",
       "      <td>PSICODONTO</td>\n",
       "      <td>100.0</td>\n",
       "    </tr>\n",
       "    <tr>\n",
       "      <th>12349</th>\n",
       "      <td>CLINICA CORTEZ</td>\n",
       "      <td>CLINICA CORTEZ</td>\n",
       "      <td>100.0</td>\n",
       "    </tr>\n",
       "    <tr>\n",
       "      <th>12353</th>\n",
       "      <td>VITACLIN INTERAGINDO</td>\n",
       "      <td>VITACLIN INTERAGINDO</td>\n",
       "      <td>100.0</td>\n",
       "    </tr>\n",
       "    <tr>\n",
       "      <th>...</th>\n",
       "      <td>...</td>\n",
       "      <td>...</td>\n",
       "      <td>...</td>\n",
       "    </tr>\n",
       "    <tr>\n",
       "      <th>3283</th>\n",
       "      <td>VIDA ITU</td>\n",
       "      <td>#NOME?</td>\n",
       "      <td>0.0</td>\n",
       "    </tr>\n",
       "    <tr>\n",
       "      <th>3270</th>\n",
       "      <td>PRONEFRON</td>\n",
       "      <td>DAVITA</td>\n",
       "      <td>0.0</td>\n",
       "    </tr>\n",
       "    <tr>\n",
       "      <th>13273</th>\n",
       "      <td>CISA</td>\n",
       "      <td>PROPREV</td>\n",
       "      <td>0.0</td>\n",
       "    </tr>\n",
       "    <tr>\n",
       "      <th>19073</th>\n",
       "      <td>S E R TAUBATE</td>\n",
       "      <td>.</td>\n",
       "      <td>0.0</td>\n",
       "    </tr>\n",
       "    <tr>\n",
       "      <th>17699</th>\n",
       "      <td>CENTRO ESPECIALIZADO TERAPEUTICO INTEGRADO</td>\n",
       "      <td>-</td>\n",
       "      <td>0.0</td>\n",
       "    </tr>\n",
       "  </tbody>\n",
       "</table>\n",
       "<p>13688 rows × 3 columns</p>\n",
       "</div>"
      ],
      "text/plain": [
       "                                    Nome Fantasia  \\\n",
       "0                   CENTRAL IMAGEM CLINICA MEDICA   \n",
       "12374             ASSOCIACAO PESTALOZZI DE CUIABA   \n",
       "12343                                  PSICODONTO   \n",
       "12349                              CLINICA CORTEZ   \n",
       "12353                        VITACLIN INTERAGINDO   \n",
       "...                                           ...   \n",
       "3283                                     VIDA ITU   \n",
       "3270                                    PRONEFRON   \n",
       "13273                                        CISA   \n",
       "19073                               S E R TAUBATE   \n",
       "17699  CENTRO ESPECIALIZADO TERAPEUTICO INTEGRADO   \n",
       "\n",
       "                              fantasia  Fuzzy_Fantasia_CNESvsRF  \n",
       "0        CENTRAL IMAGEM CLINICA MEDICA                    100.0  \n",
       "12374  ASSOCIACAO PESTALOZZI DE CUIABA                    100.0  \n",
       "12343                       PSICODONTO                    100.0  \n",
       "12349                   CLINICA CORTEZ                    100.0  \n",
       "12353             VITACLIN INTERAGINDO                    100.0  \n",
       "...                                ...                      ...  \n",
       "3283                            #NOME?                      0.0  \n",
       "3270                            DAVITA                      0.0  \n",
       "13273                          PROPREV                      0.0  \n",
       "19073                                .                      0.0  \n",
       "17699                                -                      0.0  \n",
       "\n",
       "[13688 rows x 3 columns]"
      ]
     },
     "execution_count": 6,
     "metadata": {},
     "output_type": "execute_result"
    }
   ],
   "source": [
    "# Nome Fantasia\n",
    "df[['Nome Fantasia','fantasia']].info()#muitos nomes fantasias da RF nulos\n",
    "df['Nome Fantasia'] = df['Nome Fantasia'].astype(str)\n",
    "df['fantasia'] = df['fantasia'].astype(str)\n",
    "for index,row in df.iterrows():\n",
    "    if row['fantasia']:\n",
    "        df.loc[index, \"Fuzzy_Fantasia_CNESvsRF\"] =  fuzz.ratio(unidecode(row['Nome Fantasia'].lower()),unidecode(row['fantasia'].lower()))\n",
    "        # df.loc[index, \"Fuzzy_partial_ratio_Fantasia_CNESvsRF\"] =  fuzz.partial_ratio(unidecode(row['Nome Fantasia'].lower()),unidecode(row['fantasia'].lower()))\n",
    "        # df.loc[index, \"Fuzzy_token_sort_ratio_Fantasia_CNESvsRF\"] =  fuzz.token_sort_ratio(unidecode(row['Nome Fantasia'].lower()),unidecode(row['fantasia'].lower()))\n",
    "        # df.loc[index, \"Fuzzy_token_set_ratio_Fantasia_CNESvsRF\"] =  fuzz.token_set_ratio(unidecode(row['Nome Fantasia'].lower()),unidecode(row['fantasia'].lower()))\n",
    "df[['Nome Fantasia','fantasia','Fuzzy_Fantasia_CNESvsRF']][df['fantasia']!='nan'].sort_values(by='Fuzzy_Fantasia_CNESvsRF',ascending=False)#,\"Fuzzy_partial_ratio_Fantasia_CNESvsRF\",\"Fuzzy_token_sort_ratio_Fantasia_CNESvsRF\",\"Fuzzy_token_set_ratio_Fantasia_CNESvsRF\""
   ]
  },
  {
   "cell_type": "code",
   "execution_count": 7,
   "metadata": {},
   "outputs": [
    {
     "data": {
      "text/plain": [
       "<AxesSubplot:>"
      ]
     },
     "execution_count": 7,
     "metadata": {},
     "output_type": "execute_result"
    },
    {
     "data": {
      "image/png": "[encoded data removed]",
      "text/plain": [
       "<Figure size 432x288 with 1 Axes>"
      ]
     },
     "metadata": {
      "needs_background": "light"
     },
     "output_type": "display_data"
    }
   ],
   "source": [
    "df['Fuzzy_Fantasia_CNESvsRF'].hist(bins=20)"
   ]
  },
  {
   "cell_type": "code",
   "execution_count": 8,
   "metadata": {},
   "outputs": [
    {
     "name": "stdout",
     "output_type": "stream",
     "text": [
      "<class 'pandas.core.frame.DataFrame'>\n",
      "RangeIndex: 21053 entries, 0 to 21052\n",
      "Data columns (total 2 columns):\n",
      " #   Column        Non-Null Count  Dtype \n",
      "---  ------        --------------  ----- \n",
      " 0   Razão Social  21053 non-null  object\n",
      " 1   nome:1        21052 non-null  object\n",
      "dtypes: object(2)\n",
      "memory usage: 329.1+ KB\n"
     ]
    }
   ],
   "source": [
    "#Razão Social\n",
    "df[['Razão Social','nome:1']].info()\n",
    "df['Razão Social'] = df['Razão Social'].astype(str)\n",
    "df['nome:1'] = df['nome:1'].astype(str)\n",
    "for index,row in df.iterrows():\n",
    "    if row['nome:1']:\n",
    "        df.loc[index, \"Fuzzy_Razão_CNESvsRF\"] =  fuzz.ratio(unidecode(row['Razão Social'].lower()),unidecode(row['nome:1'].lower()))\n",
    "#         df.loc[index, \"Fuzzy_partial_ratio_Razão_CNESvsRF\"] =  fuzz.partial_ratio(unidecode(row['Razão Social'].lower()),unidecode(row['nome:1'].lower()))\n",
    "#         df.loc[index, \"Fuzzy_token_sort_ratio_Razão_CNESvsRF\"] =  fuzz.token_sort_ratio(unidecode(row['Razão Social'].lower()),unidecode(row['nome:1'].lower()))\n",
    "#         df.loc[index, \"Fuzzy_token_set_ratio_Razão_CNESvsRF\"] =  fuzz.token_set_ratio(unidecode(row['Razão Social'].lower()),unidecode(row['nome:1'].lower()))\n",
    "# df[['Razão Social','nome:1','Fuzzy_Razão_CNESvsRF',\"Fuzzy_partial_ratio_Razão_CNESvsRF\",\"Fuzzy_token_sort_ratio_Razão_CNESvsRF\",\"Fuzzy_token_set_ratio_Razão_CNESvsRF\"]][df['nome:1']!='nan'].sort_values(by='Fuzzy_Razão_CNESvsRF',ascending=False)"
   ]
  },
  {
   "cell_type": "code",
   "execution_count": 9,
   "metadata": {},
   "outputs": [
    {
     "data": {
      "text/plain": [
       "<AxesSubplot:>"
      ]
     },
     "execution_count": 9,
     "metadata": {},
     "output_type": "execute_result"
    },
    {
     "data": {
      "image/png": "[encoded data removed]",
      "text/plain": [
       "<Figure size 432x288 with 1 Axes>"
      ]
     },
     "metadata": {
      "needs_background": "light"
     },
     "output_type": "display_data"
    }
   ],
   "source": [
    "df[\"Fuzzy_Razão_CNESvsRF\"].hist(bins=20)"
   ]
  },
  {
   "cell_type": "code",
   "execution_count": 10,
   "metadata": {},
   "outputs": [
    {
     "name": "stdout",
     "output_type": "stream",
     "text": [
      "<class 'pandas.core.frame.DataFrame'>\n",
      "RangeIndex: 21053 entries, 0 to 21052\n",
      "Data columns (total 2 columns):\n",
      " #   Column      Non-Null Count  Dtype \n",
      "---  ------      --------------  ----- \n",
      " 0   Logradouro  21053 non-null  object\n",
      " 1   logradouro  19095 non-null  object\n",
      "dtypes: object(2)\n",
      "memory usage: 329.1+ KB\n"
     ]
    }
   ],
   "source": [
    "#Logradouro\n",
    "df[['Logradouro','logradouro']].info()\n",
    "df['Logradouro'] = df['Logradouro'].astype(str)\n",
    "df['logradouro'] = df['logradouro'].astype(str)\n",
    "for index,row in df.iterrows():\n",
    "    if row['logradouro']:\n",
    "        df.loc[index, \"Fuzzy_Logradouro_CNESvsRF\"] =  fuzz.ratio(unidecode(row['Logradouro'].lower()),unidecode(row['logradouro'].lower()))\n",
    "#         df.loc[index, \"Fuzzy_partial_ratio_Logradouro_CNESvsRF\"] =  fuzz.partial_ratio(unidecode(row['Logradouro'].lower()),unidecode(row['logradouro'].lower()))\n",
    "#         df.loc[index, \"Fuzzy_token_sort_ratio_Logradouro_CNESvsRF\"] =  fuzz.token_sort_ratio(unidecode(row['Logradouro'].lower()),unidecode(row['logradouro'].lower()))\n",
    "#         df.loc[index, \"Fuzzy_token_set_ratio_Logradouro_CNESvsRF\"] =  fuzz.token_set_ratio(unidecode(row['Logradouro'].lower()),unidecode(row['logradouro'].lower()))\n",
    "# df[['Logradouro','logradouro','Fuzzy_Logradouro_CNESvsRF',\"Fuzzy_partial_ratio_Logradouro_CNESvsRF\",\"Fuzzy_token_sort_ratio_Logradouro_CNESvsRF\",\"Fuzzy_token_set_ratio_Logradouro_CNESvsRF\"]][df['logradouro']!='nan'].sort_values(by='Fuzzy_Logradouro_CNESvsRF',ascending=False)"
   ]
  },
  {
   "cell_type": "code",
   "execution_count": 11,
   "metadata": {},
   "outputs": [
    {
     "data": {
      "text/plain": [
       "<AxesSubplot:>"
      ]
     },
     "execution_count": 11,
     "metadata": {},
     "output_type": "execute_result"
    },
    {
     "data": {
      "image/png": "[encoded data removed]",
      "text/plain": [
       "<Figure size 432x288 with 1 Axes>"
      ]
     },
     "metadata": {
      "needs_background": "light"
     },
     "output_type": "display_data"
    }
   ],
   "source": [
    "df[\"Fuzzy_Logradouro_CNESvsRF\"].hist(bins=20)"
   ]
  },
  {
   "cell_type": "code",
   "execution_count": 12,
   "metadata": {},
   "outputs": [
    {
     "name": "stdout",
     "output_type": "stream",
     "text": [
      "<class 'pandas.core.frame.DataFrame'>\n",
      "RangeIndex: 21053 entries, 0 to 21052\n",
      "Data columns (total 2 columns):\n",
      " #   Column              Non-Null Count  Dtype \n",
      "---  ------              --------------  ----- \n",
      " 0   Número do endereço  21049 non-null  object\n",
      " 1   numero              19084 non-null  object\n",
      "dtypes: object(2)\n",
      "memory usage: 329.1+ KB\n"
     ]
    }
   ],
   "source": [
    "#Numero do endereço\n",
    "df[['Número do endereço','numero']].info()\n",
    "df['Número do endereço'] = df['Número do endereço'].astype(str)\n",
    "df['numero'] = df['numero'].astype(str)\n",
    "for index,row in df.iterrows():\n",
    "    if row['numero']:\n",
    "        df.loc[index, \"Fuzzy_Número_CNESvsRF\"] =  fuzz.ratio(unidecode(row['Número do endereço'].lower()),unidecode(row['numero'].lower()))\n",
    "#         df.loc[index, \"Fuzzy_partial_ratio_Número_CNESvsRF\"] =  fuzz.partial_ratio(unidecode(row['Número do endereço'].lower()),unidecode(row['numero'].lower()))\n",
    "#         df.loc[index, \"Fuzzy_token_sort_ratio_Número_CNESvsRF\"] =  fuzz.token_sort_ratio(unidecode(row['Número do endereço'].lower()),unidecode(row['numero'].lower()))\n",
    "#         df.loc[index, \"Fuzzy_token_set_ratio_Número_CNESvsRF\"] =  fuzz.token_set_ratio(unidecode(row['Número do endereço'].lower()),unidecode(row['numero'].lower()))\n",
    "# df[['Número do endereço','numero','Fuzzy_Número_CNESvsRF',\"Fuzzy_partial_ratio_Número_CNESvsRF\",\"Fuzzy_token_sort_ratio_Número_CNESvsRF\",\"Fuzzy_token_set_ratio_Número_CNESvsRF\"]][df['numero']!='nan'].sort_values(by='Fuzzy_Número_CNESvsRF',ascending=False)"
   ]
  },
  {
   "cell_type": "code",
   "execution_count": 13,
   "metadata": {},
   "outputs": [
    {
     "data": {
      "text/plain": [
       "<AxesSubplot:>"
      ]
     },
     "execution_count": 13,
     "metadata": {},
     "output_type": "execute_result"
    },
    {
     "data": {
      "image/png": "[encoded data removed]",
      "text/plain": [
       "<Figure size 432x288 with 1 Axes>"
      ]
     },
     "metadata": {
      "needs_background": "light"
     },
     "output_type": "display_data"
    }
   ],
   "source": [
    "df[\"Fuzzy_Número_CNESvsRF\"].hist(bins=20)"
   ]
  },
  {
   "cell_type": "code",
   "execution_count": 14,
   "metadata": {},
   "outputs": [
    {
     "name": "stdout",
     "output_type": "stream",
     "text": [
      "<class 'pandas.core.frame.DataFrame'>\n",
      "RangeIndex: 21053 entries, 0 to 21052\n",
      "Data columns (total 2 columns):\n",
      " #   Column     Non-Null Count  Dtype \n",
      "---  ------     --------------  ----- \n",
      " 0   Município  21053 non-null  object\n",
      " 1   municipio  19094 non-null  object\n",
      "dtypes: object(2)\n",
      "memory usage: 329.1+ KB\n"
     ]
    }
   ],
   "source": [
    "#Município\n",
    "df[['Município','municipio']].info()\n",
    "df['Município'] = df['Município'].astype(str)\n",
    "df['municipio'] = df['municipio'].astype(str)\n",
    "for index,row in df.iterrows():\n",
    "    if row['municipio']:\n",
    "        df.loc[index, \"Fuzzy_Município_CNESvsRF\"] =  fuzz.ratio(unidecode(row['Município'].lower()),unidecode(row['municipio'].lower()))\n",
    "#         df.loc[index, \"Fuzzy_partial_ratio_Município_CNESvsRF\"] =  fuzz.partial_ratio(unidecode(row['Município'].lower()),unidecode(row['municipio'].lower()))\n",
    "#         df.loc[index, \"Fuzzy_token_sort_ratio_Município_CNESvsRF\"] =  fuzz.token_sort_ratio(unidecode(row['Município'].lower()),unidecode(row['municipio'].lower()))\n",
    "#         df.loc[index, \"Fuzzy_token_set_ratio_Município_CNESvsRF\"] =  fuzz.token_set_ratio(unidecode(row['Município'].lower()),unidecode(row['municipio'].lower()))\n",
    "# df[['Município','municipio','Fuzzy_Município_CNESvsRF',\"Fuzzy_partial_ratio_Município_CNESvsRF\",\"Fuzzy_token_sort_ratio_Município_CNESvsRF\",\"Fuzzy_token_set_ratio_Município_CNESvsRF\"]][df['municipio']!='nan'].sort_values(by='Fuzzy_Município_CNESvsRF',ascending=False)"
   ]
  },
  {
   "cell_type": "code",
   "execution_count": 15,
   "metadata": {},
   "outputs": [
    {
     "data": {
      "text/plain": [
       "<AxesSubplot:>"
      ]
     },
     "execution_count": 15,
     "metadata": {},
     "output_type": "execute_result"
    },
    {
     "data": {
      "image/png": "[encoded data removed]",
      "text/plain": [
       "<Figure size 432x288 with 1 Axes>"
      ]
     },
     "metadata": {
      "needs_background": "light"
     },
     "output_type": "display_data"
    }
   ],
   "source": [
    "df['Fuzzy_Município_CNESvsRF'].hist(bins=20)"
   ]
  },
  {
   "cell_type": "code",
   "execution_count": 16,
   "metadata": {},
   "outputs": [
    {
     "name": "stdout",
     "output_type": "stream",
     "text": [
      "<class 'pandas.core.frame.DataFrame'>\n",
      "RangeIndex: 21053 entries, 0 to 21052\n",
      "Data columns (total 2 columns):\n",
      " #   Column  Non-Null Count  Dtype \n",
      "---  ------  --------------  ----- \n",
      " 0   UF      21053 non-null  object\n",
      " 1   uf      19094 non-null  object\n",
      "dtypes: object(2)\n",
      "memory usage: 329.1+ KB\n"
     ]
    }
   ],
   "source": [
    "#UF\n",
    "df[['UF','uf']].info()\n",
    "df['UF'] = df['UF'].astype(str)\n",
    "df['uf'] = df['uf'].astype(str)\n",
    "for index,row in df.iterrows():\n",
    "    if row['uf']:\n",
    "        df.loc[index, \"Fuzzy_UF_CNESvsRF\"] =  fuzz.ratio(unidecode(row['UF'].lower()),unidecode(row['uf'].lower()))\n",
    "#         df.loc[index, \"Fuzzy_partial_ratio_UF_CNESvsRF\"] =  fuzz.partial_ratio(unidecode(row['UF'].lower()),unidecode(row['uf'].lower()))\n",
    "#         df.loc[index, \"Fuzzy_token_sort_ratio_UF_CNESvsRF\"] =  fuzz.token_sort_ratio(unidecode(row['UF'].lower()),unidecode(row['uf'].lower()))\n",
    "#         df.loc[index, \"Fuzzy_token_set_ratio_UF_CNESvsRF\"] =  fuzz.token_set_ratio(unidecode(row['UF'].lower()),unidecode(row['uf'].lower()))\n",
    "# df[['UF','uf','Fuzzy_UF_CNESvsRF',\"Fuzzy_partial_ratio_UF_CNESvsRF\",\"Fuzzy_token_sort_ratio_UF_CNESvsRF\",\"Fuzzy_token_set_ratio_UF_CNESvsRF\"]][df['uf']!='nan'].sort_values(by='Fuzzy_UF_CNESvsRF',ascending=False)"
   ]
  },
  {
   "cell_type": "code",
   "execution_count": 17,
   "metadata": {},
   "outputs": [
    {
     "data": {
      "text/plain": [
       "<AxesSubplot:>"
      ]
     },
     "execution_count": 17,
     "metadata": {},
     "output_type": "execute_result"
    },
    {
     "data": {
      "image/png": "[encoded data removed]",
      "text/plain": [
       "<Figure size 432x288 with 1 Axes>"
      ]
     },
     "metadata": {
      "needs_background": "light"
     },
     "output_type": "display_data"
    }
   ],
   "source": [
    "df['Fuzzy_UF_CNESvsRF'].hist(bins=20)"
   ]
  },
  {
   "cell_type": "markdown",
   "metadata": {},
   "source": [
    "## CNES vs Google Places"
   ]
  },
  {
   "cell_type": "code",
   "execution_count": 18,
   "metadata": {},
   "outputs": [],
   "source": [
    "# df[['PARAM_NOME','Nome Fantasia','Razão Social']][df['PARAM_NOME'].notnull()].sample(5)\n",
    "# (df['PARAM_NOME']==df['Nome Fantasia']).value_counts()"
   ]
  },
  {
   "cell_type": "code",
   "execution_count": 19,
   "metadata": {},
   "outputs": [
    {
     "name": "stdout",
     "output_type": "stream",
     "text": [
      "<class 'pandas.core.frame.DataFrame'>\n",
      "RangeIndex: 21053 entries, 0 to 21052\n",
      "Data columns (total 2 columns):\n",
      " #   Column            Non-Null Count  Dtype \n",
      "---  ------            --------------  ----- \n",
      " 0   Nome Fantasia     21053 non-null  object\n",
      " 1   gmapsCompanyName  265 non-null    object\n",
      "dtypes: object(2)\n",
      "memory usage: 329.1+ KB\n"
     ]
    }
   ],
   "source": [
    "df[['Nome Fantasia','gmapsCompanyName']].info()\n",
    "df['Nome Fantasia'] = df['Nome Fantasia'].astype(str)\n",
    "df['gmapsCompanyName'] = df['gmapsCompanyName'].astype(str)\n",
    "for index,row in df.iterrows():\n",
    "    if row['gmapsCompanyName']:\n",
    "        df.loc[index, \"Fuzzy_Nome_CNESvsGMN\"] =  fuzz.ratio(unidecode(row['Nome Fantasia'].lower()),unidecode(row['gmapsCompanyName'].lower()))\n",
    "#         df.loc[index, \"Fuzzy_partial_ratio_Nome_CNESvsGMN\"] =  fuzz.partial_ratio(unidecode(row['Nome Fantasia'].lower()),unidecode(row['gmapsCompanyName'].lower()))\n",
    "#         df.loc[index, \"Fuzzy_token_sort_ratio_Nome_CNESvsGMN\"] =  fuzz.token_sort_ratio(unidecode(row['Nome Fantasia'].lower()),unidecode(row['gmapsCompanyName'].lower()))\n",
    "#         df.loc[index, \"Fuzzy_token_set_ratio_Nome_CNESvsGMN\"] =  fuzz.token_set_ratio(unidecode(row['Nome Fantasia'].lower()),unidecode(row['gmapsCompanyName'].lower()))\n",
    "# df[['Nome Fantasia','gmapsCompanyName','Fuzzy_Nome_CNESvsGMN',\"Fuzzy_partial_ratio_Nome_CNESvsGMN\",\"Fuzzy_token_sort_ratio_Nome_CNESvsGMN\",\"Fuzzy_token_set_ratio_Nome_CNESvsGMN\"]][df['gmapsCompanyName']!='nan'].sort_values(by='Fuzzy_Nome_CNESvsGMN',ascending=False)"
   ]
  },
  {
   "cell_type": "code",
   "execution_count": 20,
   "metadata": {},
   "outputs": [
    {
     "data": {
      "text/plain": [
       "<AxesSubplot:>"
      ]
     },
     "execution_count": 20,
     "metadata": {},
     "output_type": "execute_result"
    },
    {
     "data": {
      "image/png": "[encoded data removed]",
      "text/plain": [
       "<Figure size 432x288 with 1 Axes>"
      ]
     },
     "metadata": {
      "needs_background": "light"
     },
     "output_type": "display_data"
    }
   ],
   "source": [
    "df[\"Fuzzy_Nome_CNESvsGMN\"].hist(bins=20)\n",
    "# df[\"Fuzzy_Nome_CNESvsGMN\"].value_counts()"
   ]
  },
  {
   "cell_type": "code",
   "execution_count": 21,
   "metadata": {},
   "outputs": [],
   "source": [
    "# df[['PARAM_NOME','gmapsCompanyName']].info()\n",
    "# df['PARAM_NOME'] = df['PARAM_NOME'].astype(str)\n",
    "# df['gmapsCompanyName'] = df['gmapsCompanyName'].astype(str)\n",
    "# for index,row in df.iterrows():\n",
    "#     if row['gmapsCompanyName']:\n",
    "#         df.loc[index, \"Fuzzy_Nome_CNESvsGMN\"] =  fuzz.ratio(unidecode(row['PARAM_NOME'].lower()),unidecode(row['gmapsCompanyName'].lower()))\n",
    "#         df.loc[index, \"Fuzzy_partial_ratio_Nome_CNESvsGMN\"] =  fuzz.partial_ratio(unidecode(row['PARAM_NOME'].lower()),unidecode(row['gmapsCompanyName'].lower()))\n",
    "#         df.loc[index, \"Fuzzy_token_sort_ratio_Nome_CNESvsGMN\"] =  fuzz.token_sort_ratio(unidecode(row['PARAM_NOME'].lower()),unidecode(row['gmapsCompanyName'].lower()))\n",
    "#         df.loc[index, \"Fuzzy_token_set_ratio_Nome_CNESvsGMN\"] =  fuzz.token_set_ratio(unidecode(row['PARAM_NOME'].lower()),unidecode(row['gmapsCompanyName'].lower()))\n",
    "# df[['PARAM_NOME','gmapsCompanyName','Fuzzy_Nome_CNESvsGMN',\"Fuzzy_partial_ratio_Nome_CNESvsGMN\",\"Fuzzy_token_sort_ratio_Nome_CNESvsGMN\",\"Fuzzy_token_set_ratio_Nome_CNESvsGMN\"]][df['gmapsCompanyName']!='nan'].sort_values(by='Fuzzy_Nome_CNESvsGMN',ascending=False)"
   ]
  },
  {
   "cell_type": "code",
   "execution_count": 47,
   "metadata": {},
   "outputs": [
    {
     "data": {
      "text/plain": [
       "1427     R. Cap. José da Penha, 81, Currais Novos - RN,...\n",
       "9124     R. Piauí, 1104 - Centro, Londrina - PR, 86020-390\n",
       "4668     R. Ceará, 195 - Cj.: 1001 - Santa Efigênia, Be...\n",
       "10666    R. Cel. Gomes Nogueira, 66 - Centro, Taubaté -...\n",
       "2104     R. Júpiter, 232 - Jardim Riacho das Pedras, Co...\n",
       "Name: gmapsAddress, dtype: object"
      ]
     },
     "execution_count": 47,
     "metadata": {},
     "output_type": "execute_result"
    }
   ],
   "source": [
    "df['gmapsAddress'][df['gmapsAddress'].notnull()].sample(5)"
   ]
  },
  {
   "cell_type": "code",
   "execution_count": 46,
   "metadata": {},
   "outputs": [
    {
     "data": {
      "text/html": [
       "<div>\n",
       "<style scoped>\n",
       "    .dataframe tbody tr th:only-of-type {\n",
       "        vertical-align: middle;\n",
       "    }\n",
       "\n",
       "    .dataframe tbody tr th {\n",
       "        vertical-align: top;\n",
       "    }\n",
       "\n",
       "    .dataframe thead th {\n",
       "        text-align: right;\n",
       "    }\n",
       "</style>\n",
       "<table border=\"1\" class=\"dataframe\">\n",
       "  <thead>\n",
       "    <tr style=\"text-align: right;\">\n",
       "      <th></th>\n",
       "      <th>gmapsStreet</th>\n",
       "      <th>gmapsNumber</th>\n",
       "      <th>gmapsCity</th>\n",
       "      <th>gmapsCEP</th>\n",
       "      <th>gmapsUF</th>\n",
       "      <th>gmapsUltimo</th>\n",
       "    </tr>\n",
       "  </thead>\n",
       "  <tbody>\n",
       "    <tr>\n",
       "      <th>16923</th>\n",
       "      <td>R. Chico Mendes</td>\n",
       "      <td>345</td>\n",
       "      <td>Camaragibe</td>\n",
       "      <td>54789-355</td>\n",
       "      <td>NaN</td>\n",
       "      <td>54789-355</td>\n",
       "    </tr>\n",
       "    <tr>\n",
       "      <th>3820</th>\n",
       "      <td>R. Luís Vargas</td>\n",
       "      <td>40</td>\n",
       "      <td>Rio de Janeiro</td>\n",
       "      <td>20751-340</td>\n",
       "      <td>NaN</td>\n",
       "      <td>20751-340</td>\n",
       "    </tr>\n",
       "    <tr>\n",
       "      <th>19806</th>\n",
       "      <td>R. Padre Anchieta</td>\n",
       "      <td>481</td>\n",
       "      <td>Uberlândia</td>\n",
       "      <td>38400-132</td>\n",
       "      <td>NaN</td>\n",
       "      <td>38400-132</td>\n",
       "    </tr>\n",
       "    <tr>\n",
       "      <th>3189</th>\n",
       "      <td>R. Jovino do Rosário</td>\n",
       "      <td>125</td>\n",
       "      <td>Curitiba</td>\n",
       "      <td>82540-115</td>\n",
       "      <td>NaN</td>\n",
       "      <td>82540-115</td>\n",
       "    </tr>\n",
       "    <tr>\n",
       "      <th>13869</th>\n",
       "      <td>Av. Santos Dumont</td>\n",
       "      <td>57</td>\n",
       "      <td>Fortaleza</td>\n",
       "      <td>60177-415</td>\n",
       "      <td>NaN</td>\n",
       "      <td>60177-415</td>\n",
       "    </tr>\n",
       "    <tr>\n",
       "      <th>20044</th>\n",
       "      <td>R. Des. Izidro</td>\n",
       "      <td>40</td>\n",
       "      <td>Rio de Janeiro</td>\n",
       "      <td>20521-160</td>\n",
       "      <td>NaN</td>\n",
       "      <td>20521-160</td>\n",
       "    </tr>\n",
       "    <tr>\n",
       "      <th>2104</th>\n",
       "      <td>R. Júpiter</td>\n",
       "      <td>232</td>\n",
       "      <td>Contagem</td>\n",
       "      <td>32241-350</td>\n",
       "      <td>NaN</td>\n",
       "      <td>32241-350</td>\n",
       "    </tr>\n",
       "    <tr>\n",
       "      <th>16463</th>\n",
       "      <td>R. Cel. João Correa</td>\n",
       "      <td>139</td>\n",
       "      <td>Parobé</td>\n",
       "      <td>95630-000</td>\n",
       "      <td>NaN</td>\n",
       "      <td>95630-000</td>\n",
       "    </tr>\n",
       "    <tr>\n",
       "      <th>3644</th>\n",
       "      <td>Unnamed Road</td>\n",
       "      <td>Gov. Mangabeira</td>\n",
       "      <td>44340-000</td>\n",
       "      <td>NaN</td>\n",
       "      <td>NaN</td>\n",
       "      <td>44340-000</td>\n",
       "    </tr>\n",
       "    <tr>\n",
       "      <th>2780</th>\n",
       "      <td>Av. Mato Grosso</td>\n",
       "      <td>4418</td>\n",
       "      <td>Campo Grande</td>\n",
       "      <td>79031-001</td>\n",
       "      <td>NaN</td>\n",
       "      <td>79031-001</td>\n",
       "    </tr>\n",
       "    <tr>\n",
       "      <th>10002</th>\n",
       "      <td>R. Camboriú</td>\n",
       "      <td>35</td>\n",
       "      <td>Joinville</td>\n",
       "      <td>89216-222</td>\n",
       "      <td>NaN</td>\n",
       "      <td>89216-222</td>\n",
       "    </tr>\n",
       "    <tr>\n",
       "      <th>2749</th>\n",
       "      <td>208</td>\n",
       "      <td>Av. Aristídes Belodi</td>\n",
       "      <td>100</td>\n",
       "      <td>Jaboticabal</td>\n",
       "      <td>14887-242</td>\n",
       "      <td>14887-242</td>\n",
       "    </tr>\n",
       "    <tr>\n",
       "      <th>20194</th>\n",
       "      <td>Águas Claras Shopping Avenida das Araucárias</td>\n",
       "      <td>1835</td>\n",
       "      <td>Salas 306</td>\n",
       "      <td>3º andar</td>\n",
       "      <td>Brasília</td>\n",
       "      <td>71936-250</td>\n",
       "    </tr>\n",
       "    <tr>\n",
       "      <th>17691</th>\n",
       "      <td>R. 148</td>\n",
       "      <td>número 620</td>\n",
       "      <td>Goiânia</td>\n",
       "      <td>74170-110</td>\n",
       "      <td>NaN</td>\n",
       "      <td>74170-110</td>\n",
       "    </tr>\n",
       "    <tr>\n",
       "      <th>7789</th>\n",
       "      <td>Rua Eloy Candido Lopes</td>\n",
       "      <td>338</td>\n",
       "      <td>Osasco</td>\n",
       "      <td>06010-130</td>\n",
       "      <td>NaN</td>\n",
       "      <td>06010-130</td>\n",
       "    </tr>\n",
       "    <tr>\n",
       "      <th>2135</th>\n",
       "      <td>Rua Tomás Acioli</td>\n",
       "      <td>576</td>\n",
       "      <td>Fortaleza</td>\n",
       "      <td>60135-180</td>\n",
       "      <td>NaN</td>\n",
       "      <td>60135-180</td>\n",
       "    </tr>\n",
       "    <tr>\n",
       "      <th>15721</th>\n",
       "      <td>Rua Coronel Joaquim Manoel</td>\n",
       "      <td>615 Salas: 604</td>\n",
       "      <td>710</td>\n",
       "      <td>810</td>\n",
       "      <td>1010</td>\n",
       "      <td>59012-330</td>\n",
       "    </tr>\n",
       "    <tr>\n",
       "      <th>18246</th>\n",
       "      <td>Av. Dom Pedro II</td>\n",
       "      <td>1585</td>\n",
       "      <td>Santo André</td>\n",
       "      <td>09080-111</td>\n",
       "      <td>NaN</td>\n",
       "      <td>09080-111</td>\n",
       "    </tr>\n",
       "    <tr>\n",
       "      <th>2402</th>\n",
       "      <td>Av. Nova Cantareira</td>\n",
       "      <td>3050</td>\n",
       "      <td>São Paulo</td>\n",
       "      <td>02340-000</td>\n",
       "      <td>NaN</td>\n",
       "      <td>02340-000</td>\n",
       "    </tr>\n",
       "    <tr>\n",
       "      <th>13153</th>\n",
       "      <td>R. Bento Gonçalves</td>\n",
       "      <td>1765</td>\n",
       "      <td>Caxias do Sul</td>\n",
       "      <td>95020-412</td>\n",
       "      <td>NaN</td>\n",
       "      <td>95020-412</td>\n",
       "    </tr>\n",
       "  </tbody>\n",
       "</table>\n",
       "</div>"
      ],
      "text/plain": [
       "                                        gmapsStreet            gmapsNumber  \\\n",
       "16923                               R. Chico Mendes                    345   \n",
       "3820                                 R. Luís Vargas                     40   \n",
       "19806                             R. Padre Anchieta                    481   \n",
       "3189                           R. Jovino do Rosário                    125   \n",
       "13869                             Av. Santos Dumont                     57   \n",
       "20044                                R. Des. Izidro                     40   \n",
       "2104                                     R. Júpiter                    232   \n",
       "16463                           R. Cel. João Correa                    139   \n",
       "3644                                   Unnamed Road        Gov. Mangabeira   \n",
       "2780                                Av. Mato Grosso                   4418   \n",
       "10002                                   R. Camboriú                     35   \n",
       "2749                                            208   Av. Aristídes Belodi   \n",
       "20194  Águas Claras Shopping Avenida das Araucárias                  1835    \n",
       "17691                                        R. 148             número 620   \n",
       "7789                         Rua Eloy Candido Lopes                    338   \n",
       "2135                               Rua Tomás Acioli                    576   \n",
       "15721                    Rua Coronel Joaquim Manoel         615 Salas: 604   \n",
       "18246                              Av. Dom Pedro II                   1585   \n",
       "2402                            Av. Nova Cantareira                   3050   \n",
       "13153                            R. Bento Gonçalves                   1765   \n",
       "\n",
       "             gmapsCity      gmapsCEP     gmapsUF gmapsUltimo  \n",
       "16923       Camaragibe     54789-355         NaN   54789-355  \n",
       "3820    Rio de Janeiro     20751-340         NaN   20751-340  \n",
       "19806       Uberlândia     38400-132         NaN   38400-132  \n",
       "3189          Curitiba     82540-115         NaN   82540-115  \n",
       "13869        Fortaleza     60177-415         NaN   60177-415  \n",
       "20044   Rio de Janeiro     20521-160         NaN   20521-160  \n",
       "2104          Contagem     32241-350         NaN   32241-350  \n",
       "16463           Parobé     95630-000         NaN   95630-000  \n",
       "3644         44340-000           NaN         NaN   44340-000  \n",
       "2780      Campo Grande     79031-001         NaN   79031-001  \n",
       "10002        Joinville     89216-222         NaN   89216-222  \n",
       "2749               100   Jaboticabal   14887-242   14887-242  \n",
       "20194        Salas 306      3º andar    Brasília   71936-250  \n",
       "17691          Goiânia     74170-110         NaN   74170-110  \n",
       "7789            Osasco     06010-130         NaN   06010-130  \n",
       "2135         Fortaleza     60135-180         NaN   60135-180  \n",
       "15721              710           810        1010   59012-330  \n",
       "18246      Santo André     09080-111         NaN   09080-111  \n",
       "2402         São Paulo     02340-000         NaN   02340-000  \n",
       "13153    Caxias do Sul     95020-412         NaN   95020-412  "
      ]
     },
     "execution_count": 46,
     "metadata": {},
     "output_type": "execute_result"
    }
   ],
   "source": [
    "df['gmapsAddress'][df['gmapsAddress'].notnull()]\n",
    "df['gmapsStreet'] = df['gmapsAddress'].str.split(',').str[0]\n",
    "df['gmapsNumber'] = df['gmapsAddress'].str.split(',').str[1].str.split(' - ').str[0]\n",
    "df['gmapsCity'] = df['gmapsAddress'].str.split(',').str[2].str.split(' - ').str[0]\n",
    "df['gmapsCEP'] = df['gmapsAddress'].str.split(',').str[3].str.split(' - ').str[0]\n",
    "df['gmapsUF'] = df['gmapsAddress'].str.split(',').str[4].str.split(' - ').str[0]\n",
    "df['gmapsUltimo'] = df['gmapsAddress'].str.split(',').str[-1].str.split(' - ').str[0]\n",
    "df[['gmapsStreet','gmapsNumber','gmapsCity','gmapsCEP','gmapsUF','gmapsUltimo']][df['gmapsAddress'].notnull()].sample(20)"
   ]
  },
  {
   "cell_type": "code",
   "execution_count": 39,
   "metadata": {},
   "outputs": [
    {
     "data": {
      "text/html": [
       "<div>\n",
       "<style scoped>\n",
       "    .dataframe tbody tr th:only-of-type {\n",
       "        vertical-align: middle;\n",
       "    }\n",
       "\n",
       "    .dataframe tbody tr th {\n",
       "        vertical-align: top;\n",
       "    }\n",
       "\n",
       "    .dataframe thead th {\n",
       "        text-align: right;\n",
       "    }\n",
       "</style>\n",
       "<table border=\"1\" class=\"dataframe\">\n",
       "  <thead>\n",
       "    <tr style=\"text-align: right;\">\n",
       "      <th></th>\n",
       "      <th>gmapsStreet</th>\n",
       "      <th>gmapsNumber</th>\n",
       "    </tr>\n",
       "  </thead>\n",
       "  <tbody>\n",
       "    <tr>\n",
       "      <th>3592</th>\n",
       "      <td>Pça Afonso Pena</td>\n",
       "      <td>230</td>\n",
       "    </tr>\n",
       "    <tr>\n",
       "      <th>4267</th>\n",
       "      <td>Rua Frederico Knipp</td>\n",
       "      <td>112</td>\n",
       "    </tr>\n",
       "    <tr>\n",
       "      <th>15302</th>\n",
       "      <td>Centro</td>\n",
       "      <td>Timóteo</td>\n",
       "    </tr>\n",
       "    <tr>\n",
       "      <th>11730</th>\n",
       "      <td>Av. Santa Catarina</td>\n",
       "      <td>1112</td>\n",
       "    </tr>\n",
       "    <tr>\n",
       "      <th>12487</th>\n",
       "      <td>R. Monsenhor Bruno</td>\n",
       "      <td>2133</td>\n",
       "    </tr>\n",
       "    <tr>\n",
       "      <th>7150</th>\n",
       "      <td>R. Ernesto Zanrosso</td>\n",
       "      <td>2960</td>\n",
       "    </tr>\n",
       "    <tr>\n",
       "      <th>2801</th>\n",
       "      <td>R. Brg. Franco</td>\n",
       "      <td>3900</td>\n",
       "    </tr>\n",
       "    <tr>\n",
       "      <th>10651</th>\n",
       "      <td>R. Genésio Manoel do Nascimento</td>\n",
       "      <td>156</td>\n",
       "    </tr>\n",
       "    <tr>\n",
       "      <th>6987</th>\n",
       "      <td>Rod. José Carlos Daux</td>\n",
       "      <td>5500</td>\n",
       "    </tr>\n",
       "    <tr>\n",
       "      <th>857</th>\n",
       "      <td>Av. T-3</td>\n",
       "      <td>600</td>\n",
       "    </tr>\n",
       "    <tr>\n",
       "      <th>13645</th>\n",
       "      <td>Estr. José Matias de Camargo</td>\n",
       "      <td>810</td>\n",
       "    </tr>\n",
       "    <tr>\n",
       "      <th>16422</th>\n",
       "      <td>R. dos Guimarães</td>\n",
       "      <td>15</td>\n",
       "    </tr>\n",
       "    <tr>\n",
       "      <th>3573</th>\n",
       "      <td>BR-101 - Passagem de Cavalos</td>\n",
       "      <td>São José de Mipibu</td>\n",
       "    </tr>\n",
       "    <tr>\n",
       "      <th>16676</th>\n",
       "      <td>Chácara Sol Nascente 03</td>\n",
       "      <td>Fazenda Lagoa Bonita</td>\n",
       "    </tr>\n",
       "    <tr>\n",
       "      <th>14271</th>\n",
       "      <td>Av. Prof. Oscar Pereira</td>\n",
       "      <td>4821</td>\n",
       "    </tr>\n",
       "    <tr>\n",
       "      <th>3820</th>\n",
       "      <td>R. Luís Vargas</td>\n",
       "      <td>40</td>\n",
       "    </tr>\n",
       "    <tr>\n",
       "      <th>18608</th>\n",
       "      <td>Alameda do Sol - Village Casa Grande</td>\n",
       "      <td>Goiânia</td>\n",
       "    </tr>\n",
       "    <tr>\n",
       "      <th>5971</th>\n",
       "      <td>Centro Empresarial Barra Shopping Avenida das ...</td>\n",
       "      <td>4200 bloco 9 sala 104A</td>\n",
       "    </tr>\n",
       "    <tr>\n",
       "      <th>16505</th>\n",
       "      <td>Vila Des. Luiz Carlos de Araújo</td>\n",
       "      <td>2015</td>\n",
       "    </tr>\n",
       "    <tr>\n",
       "      <th>19651</th>\n",
       "      <td>R. Fernando Simas</td>\n",
       "      <td>221</td>\n",
       "    </tr>\n",
       "  </tbody>\n",
       "</table>\n",
       "</div>"
      ],
      "text/plain": [
       "                                             gmapsStreet  \\\n",
       "3592                                     Pça Afonso Pena   \n",
       "4267                                 Rua Frederico Knipp   \n",
       "15302                                             Centro   \n",
       "11730                                 Av. Santa Catarina   \n",
       "12487                                 R. Monsenhor Bruno   \n",
       "7150                                 R. Ernesto Zanrosso   \n",
       "2801                                      R. Brg. Franco   \n",
       "10651                    R. Genésio Manoel do Nascimento   \n",
       "6987                               Rod. José Carlos Daux   \n",
       "857                                              Av. T-3   \n",
       "13645                       Estr. José Matias de Camargo   \n",
       "16422                                   R. dos Guimarães   \n",
       "3573                        BR-101 - Passagem de Cavalos   \n",
       "16676                            Chácara Sol Nascente 03   \n",
       "14271                            Av. Prof. Oscar Pereira   \n",
       "3820                                      R. Luís Vargas   \n",
       "18608               Alameda do Sol - Village Casa Grande   \n",
       "5971   Centro Empresarial Barra Shopping Avenida das ...   \n",
       "16505                    Vila Des. Luiz Carlos de Araújo   \n",
       "19651                                  R. Fernando Simas   \n",
       "\n",
       "                   gmapsNumber  \n",
       "3592                       230  \n",
       "4267                       112  \n",
       "15302                  Timóteo  \n",
       "11730                     1112  \n",
       "12487                     2133  \n",
       "7150                      2960  \n",
       "2801                      3900  \n",
       "10651                      156  \n",
       "6987                      5500  \n",
       "857                        600  \n",
       "13645                      810  \n",
       "16422                       15  \n",
       "3573        São José de Mipibu  \n",
       "16676     Fazenda Lagoa Bonita  \n",
       "14271                     4821  \n",
       "3820                        40  \n",
       "18608                  Goiânia  \n",
       "5971    4200 bloco 9 sala 104A  \n",
       "16505                     2015  \n",
       "19651                      221  "
      ]
     },
     "execution_count": 39,
     "metadata": {},
     "output_type": "execute_result"
    }
   ],
   "source": [
    "df[['gmapsStreet','gmapsNumber']][df['gmapsAddress'].notnull()].sample(20)\n"
   ]
  },
  {
   "cell_type": "code",
   "execution_count": 23,
   "metadata": {},
   "outputs": [],
   "source": [
    "#terminar quebra do endereço e fazer os fuzzys"
   ]
  },
  {
   "cell_type": "markdown",
   "metadata": {},
   "source": [
    "# CNES vs Transunion"
   ]
  },
  {
   "cell_type": "code",
   "execution_count": 30,
   "metadata": {},
   "outputs": [
    {
     "name": "stdout",
     "output_type": "stream",
     "text": [
      "<class 'pandas.core.frame.DataFrame'>\n",
      "RangeIndex: 21053 entries, 0 to 21052\n",
      "Data columns (total 2 columns):\n",
      " #   Column                   Non-Null Count  Dtype \n",
      "---  ------                   --------------  ----- \n",
      " 0   Razão Social             21053 non-null  object\n",
      " 1   Razao_Social_transunion  21053 non-null  object\n",
      "dtypes: object(2)\n",
      "memory usage: 329.1+ KB\n"
     ]
    }
   ],
   "source": [
    "#Razão Social\n",
    "df[['Razão Social','Razao_Social_transunion']].info()\n",
    "df['Razão Social'] = df['Razão Social'].astype(str)\n",
    "df['Razao_Social_transunion'] = df['Razao_Social_transunion'].astype(str)\n",
    "df[['Razão Social','Razao_Social_transunion']].sample(5)\n",
    "\n",
    "for index,row in df.iterrows():\n",
    "    if row['Razao_Social_transunion']!='nan':\n",
    "        df.loc[index, \"Fuzzy_Razão_CNESvsTransunion\"] =  fuzz.ratio(unidecode(row['Razão Social'].lower()),unidecode(row['Razao_Social_transunion'].lower()))\n",
    "#         df.loc[index, \"Fuzzy_partial_ratio_Razão_CNESvsTransunion\"] =  fuzz.partial_ratio(unidecode(row['Razão Social'].lower()),unidecode(row['Razao_Social_transunion'].lower()))\n",
    "#         df.loc[index, \"Fuzzy_token_sort_ratio_Razão_CNESvsTransunion\"] =  fuzz.token_sort_ratio(unidecode(row['Razão Social'].lower()),unidecode(row['Razao_Social_transunion'].lower()))\n",
    "#         df.loc[index, \"Fuzzy_token_set_ratio_Razão_CNESvsTransunion\"] =  fuzz.token_set_ratio(unidecode(row['Razão Social'].lower()),unidecode(row['Razao_Social_transunion'].lower()))\n",
    "# df[['Razão Social','Razao_Social_transunion','Fuzzy_Razão_CNESvsTransunion',\"Fuzzy_partial_ratio_Razão_CNESvsTransunion\",\"Fuzzy_token_sort_ratio_Razão_CNESvsTransunion\",\"Fuzzy_token_set_ratio_Razão_CNESvsTransunion\"]][df['Razao_Social_transunion']!='nan'].sort_values(by='Fuzzy_Razão_CNESvsTransunion',ascending=False)"
   ]
  },
  {
   "cell_type": "code",
   "execution_count": 31,
   "metadata": {},
   "outputs": [
    {
     "data": {
      "text/html": [
       "<div>\n",
       "<style scoped>\n",
       "    .dataframe tbody tr th:only-of-type {\n",
       "        vertical-align: middle;\n",
       "    }\n",
       "\n",
       "    .dataframe tbody tr th {\n",
       "        vertical-align: top;\n",
       "    }\n",
       "\n",
       "    .dataframe thead th {\n",
       "        text-align: right;\n",
       "    }\n",
       "</style>\n",
       "<table border=\"1\" class=\"dataframe\">\n",
       "  <thead>\n",
       "    <tr style=\"text-align: right;\">\n",
       "      <th></th>\n",
       "      <th>Razão Social</th>\n",
       "      <th>Razao_Social_transunion</th>\n",
       "      <th>Fuzzy_Razão_CNESvsTransunion</th>\n",
       "    </tr>\n",
       "  </thead>\n",
       "  <tbody>\n",
       "    <tr>\n",
       "      <th>140</th>\n",
       "      <td>GAIA CLINICA DE PSICOLOGIA E ESPECIALIDADES ME...</td>\n",
       "      <td>GAIA CLINICA DE PSICOLOGIA E ESPECIALIDADES ME...</td>\n",
       "      <td>100.0</td>\n",
       "    </tr>\n",
       "    <tr>\n",
       "      <th>14194</th>\n",
       "      <td>CENTRO PSICOTERAPICO LTDA</td>\n",
       "      <td>CENTRO PSICOTERAPICO LTDA</td>\n",
       "      <td>100.0</td>\n",
       "    </tr>\n",
       "    <tr>\n",
       "      <th>14631</th>\n",
       "      <td>CIPP CENTRO INTEGRADO DE PSIQUIATRIA E PSICOLO...</td>\n",
       "      <td>CIPP CENTRO INTEGRADO DE PSIQUIATRIA E PSICOLO...</td>\n",
       "      <td>100.0</td>\n",
       "    </tr>\n",
       "    <tr>\n",
       "      <th>14622</th>\n",
       "      <td>WHBOT SAUDE PLENA E MEDICINA LTDA</td>\n",
       "      <td>WHBOT SAUDE PLENA E MEDICINA LTDA</td>\n",
       "      <td>100.0</td>\n",
       "    </tr>\n",
       "    <tr>\n",
       "      <th>14584</th>\n",
       "      <td>PACTO POA PROGRAMA DE AUXILIO COMUNITARIO TERA...</td>\n",
       "      <td>PACTO POA PROGRAMA DE AUXILIO COMUNITARIO TERA...</td>\n",
       "      <td>100.0</td>\n",
       "    </tr>\n",
       "    <tr>\n",
       "      <th>...</th>\n",
       "      <td>...</td>\n",
       "      <td>...</td>\n",
       "      <td>...</td>\n",
       "    </tr>\n",
       "    <tr>\n",
       "      <th>7150</th>\n",
       "      <td>CSM CENTRO ESPECIALIZADO EM SAUDE MENTAL E GER...</td>\n",
       "      <td>CSM CENTRO ESPECIALIZADO EM SAUDE MENTAL E GER...</td>\n",
       "      <td>100.0</td>\n",
       "    </tr>\n",
       "    <tr>\n",
       "      <th>6997</th>\n",
       "      <td>CENTRO MEDICO MADRID LTDA</td>\n",
       "      <td>CENTRO MEDICO MADRID LTDA</td>\n",
       "      <td>100.0</td>\n",
       "    </tr>\n",
       "    <tr>\n",
       "      <th>6987</th>\n",
       "      <td>UP UNIDADE DE PSQUIATRIA LTDA EPP</td>\n",
       "      <td>UP UNIDADE DE PSQUIATRIA LTDA EPP</td>\n",
       "      <td>100.0</td>\n",
       "    </tr>\n",
       "    <tr>\n",
       "      <th>6914</th>\n",
       "      <td>CLIMEPE CLINICA DE MEDICINA PSICOLOGIA E ESP LTDA</td>\n",
       "      <td>CLIMEPE CLINICA DE MEDICINA PSICOLOGIA E ESP LTDA</td>\n",
       "      <td>100.0</td>\n",
       "    </tr>\n",
       "    <tr>\n",
       "      <th>21000</th>\n",
       "      <td>CENTRO DE CONVIVENCIA E ATENCAO PSICOSSOCIAL LTDA</td>\n",
       "      <td>CENTRO DE CONVIVENCIA E ATENCAO PSICOSSOCIAL LTDA</td>\n",
       "      <td>100.0</td>\n",
       "    </tr>\n",
       "  </tbody>\n",
       "</table>\n",
       "<p>400 rows × 3 columns</p>\n",
       "</div>"
      ],
      "text/plain": [
       "                                            Razão Social  \\\n",
       "140    GAIA CLINICA DE PSICOLOGIA E ESPECIALIDADES ME...   \n",
       "14194                          CENTRO PSICOTERAPICO LTDA   \n",
       "14631  CIPP CENTRO INTEGRADO DE PSIQUIATRIA E PSICOLO...   \n",
       "14622                  WHBOT SAUDE PLENA E MEDICINA LTDA   \n",
       "14584  PACTO POA PROGRAMA DE AUXILIO COMUNITARIO TERA...   \n",
       "...                                                  ...   \n",
       "7150   CSM CENTRO ESPECIALIZADO EM SAUDE MENTAL E GER...   \n",
       "6997                           CENTRO MEDICO MADRID LTDA   \n",
       "6987                   UP UNIDADE DE PSQUIATRIA LTDA EPP   \n",
       "6914   CLIMEPE CLINICA DE MEDICINA PSICOLOGIA E ESP LTDA   \n",
       "21000  CENTRO DE CONVIVENCIA E ATENCAO PSICOSSOCIAL LTDA   \n",
       "\n",
       "                                 Razao_Social_transunion  \\\n",
       "140    GAIA CLINICA DE PSICOLOGIA E ESPECIALIDADES ME...   \n",
       "14194                          CENTRO PSICOTERAPICO LTDA   \n",
       "14631  CIPP CENTRO INTEGRADO DE PSIQUIATRIA E PSICOLO...   \n",
       "14622                  WHBOT SAUDE PLENA E MEDICINA LTDA   \n",
       "14584  PACTO POA PROGRAMA DE AUXILIO COMUNITARIO TERA...   \n",
       "...                                                  ...   \n",
       "7150   CSM CENTRO ESPECIALIZADO EM SAUDE MENTAL E GER...   \n",
       "6997                           CENTRO MEDICO MADRID LTDA   \n",
       "6987                   UP UNIDADE DE PSQUIATRIA LTDA EPP   \n",
       "6914   CLIMEPE CLINICA DE MEDICINA PSICOLOGIA E ESP LTDA   \n",
       "21000  CENTRO DE CONVIVENCIA E ATENCAO PSICOSSOCIAL LTDA   \n",
       "\n",
       "       Fuzzy_Razão_CNESvsTransunion  \n",
       "140                           100.0  \n",
       "14194                         100.0  \n",
       "14631                         100.0  \n",
       "14622                         100.0  \n",
       "14584                         100.0  \n",
       "...                             ...  \n",
       "7150                          100.0  \n",
       "6997                          100.0  \n",
       "6987                          100.0  \n",
       "6914                          100.0  \n",
       "21000                         100.0  \n",
       "\n",
       "[400 rows x 3 columns]"
      ]
     },
     "execution_count": 31,
     "metadata": {},
     "output_type": "execute_result"
    }
   ],
   "source": [
    "df[['Razão Social','Razao_Social_transunion','Fuzzy_Razão_CNESvsTransunion']][df['Razao_Social_transunion']!='nan'].sort_values(by='Fuzzy_Razão_CNESvsTransunion',ascending=False)\n"
   ]
  },
  {
   "cell_type": "code",
   "execution_count": 34,
   "metadata": {},
   "outputs": [
    {
     "data": {
      "text/plain": [
       "100.0    400\n",
       "Name: Fuzzy_Razão_CNESvsTransunion, dtype: int64"
      ]
     },
     "execution_count": 34,
     "metadata": {},
     "output_type": "execute_result"
    },
    {
     "data": {
      "image/png": "[encoded data removed]",
      "text/plain": [
       "<Figure size 432x288 with 1 Axes>"
      ]
     },
     "metadata": {
      "needs_background": "light"
     },
     "output_type": "display_data"
    }
   ],
   "source": [
    "df[\"Fuzzy_Razão_CNESvsTransunion\"].hist(bins=20)\n",
    "df[\"Fuzzy_Razão_CNESvsTransunion\"].value_counts()\n"
   ]
  }
 ],
 "metadata": {
  "interpreter": {
   "hash": "21b8f758fb4715b4b81f2c423d88e7315ea58c9a3d8976542b4ef22d08a865e7"
  },
  "kernelspec": {
   "display_name": "Python 3.8.8 ('Data_Science')",
   "language": "python",
   "name": "python3"
  },
  "language_info": {
   "codemirror_mode": {
    "name": "ipython",
    "version": 3
   },
   "file_extension": ".py",
   "mimetype": "text/x-python",
   "name": "python",
   "nbconvert_exporter": "python",
   "pygments_lexer": "ipython3",
   "version": "3.8.8"
  },
  "orig_nbformat": 4
 },
 "nbformat": 4,
 "nbformat_minor": 2
}
