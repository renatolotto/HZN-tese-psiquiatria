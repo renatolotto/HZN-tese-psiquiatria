{
 "cells": [
  {
   "cell_type": "code",
   "execution_count": 1,
   "metadata": {},
   "outputs": [
    {
     "name": "stderr",
     "output_type": "stream",
     "text": [
      "c:\\Users\\Renato\\anaconda3\\envs\\Data_Science\\lib\\site-packages\\fuzzywuzzy\\fuzz.py:11: UserWarning: Using slow pure-python SequenceMatcher. Install python-Levenshtein to remove this warning\n",
      "  warnings.warn('Using slow pure-python SequenceMatcher. Install python-Levenshtein to remove this warning')\n"
     ]
    }
   ],
   "source": [
    "import pandas as pd\n",
    "import missingno as msno\n",
    "from fuzzywuzzy import fuzz\n",
    "from unidecode import unidecode\n",
    "import numpy as np"
   ]
  },
  {
   "cell_type": "code",
   "execution_count": 2,
   "metadata": {},
   "outputs": [],
   "source": [
    "# Pipe para receber base consolidada e criar colunas de fuzzy, inclui regras que eliminam dados caso fuzzy tenha score baixo"
   ]
  },
  {
   "cell_type": "code",
   "execution_count": 3,
   "metadata": {},
   "outputs": [
    {
     "name": "stderr",
     "output_type": "stream",
     "text": [
      "<ipython-input-3-fa86f462b955>:1: DtypeWarning: Columns (92,93,123,153,155,156,180) have mixed types. Specify dtype option on import or set low_memory=False.\n",
      "  df = pd.read_csv(r'App\\base2.csv',dtype={'cnpj': object,'CNPJ': object,'cep': object,'CEP': object,'CNPJ_8_Digitos':object})\n"
     ]
    }
   ],
   "source": [
    "df = pd.read_csv(r'App\\base2.csv',dtype={'cnpj': object,'CNPJ': object,'cep': object,'CEP': object,'CNPJ_8_Digitos':object})"
   ]
  },
  {
   "cell_type": "markdown",
   "metadata": {},
   "source": [
    "CNES vs RF"
   ]
  },
  {
   "cell_type": "code",
   "execution_count": 4,
   "metadata": {},
   "outputs": [
    {
     "name": "stdout",
     "output_type": "stream",
     "text": [
      "<class 'pandas.core.frame.DataFrame'>\n",
      "RangeIndex: 21053 entries, 0 to 21052\n",
      "Data columns (total 2 columns):\n",
      " #   Column  Non-Null Count  Dtype \n",
      "---  ------  --------------  ----- \n",
      " 0   CNPJ    21053 non-null  object\n",
      " 1   cnpj    21053 non-null  object\n",
      "dtypes: object(2)\n",
      "memory usage: 329.1+ KB\n"
     ]
    }
   ],
   "source": [
    "#CNPJ\n",
    "df[['CNPJ','cnpj']].info()\n",
    "for index,row in df.iterrows():\n",
    "    # if row['cnpj']:\n",
    "    df.loc[index, \"Fuzzy_CNPJ_CNESvsRF\"] =  fuzz.ratio(unidecode(row['CNPJ'].lower()),unidecode(row['cnpj'].lower()))\n",
    "    # df.loc[index, \"Fuzzy_partial_ratio_CNPJ_CNESvsRF\"] =  fuzz.partial_ratio(unidecode(row['CNPJ'].lower()),unidecode(row['cnpj'].lower()))\n",
    "    # df.loc[index, \"Fuzzy_token_sort_ratio_CNPJ_CNESvsRF\"] =  fuzz.token_sort_ratio(unidecode(row['CNPJ'].lower()),unidecode(row['cnpj'].lower()))\n",
    "    # df.loc[index, \"Fuzzy_token_set_ratio_CNPJ_CNESvsRF\"] =  fuzz.token_set_ratio(unidecode(row['CNPJ'].lower()),unidecode(row['cnpj'].lower()))\n",
    "# df[['CNPJ','cnpj','Fuzzy_CNPJ_CNESvsRF']].sort_values(by='Fuzzy_CNPJ_CNESvsRF',ascending=False).head()#,\"Fuzzy_partial_ratio_Fantasia_CNESvsRF\",\"Fuzzy_token_sort_ratio_Fantasia_CNESvsRF\",\"Fuzzy_token_set_ratio_Fantasia_CNESvsRF\""
   ]
  },
  {
   "cell_type": "code",
   "execution_count": 5,
   "metadata": {},
   "outputs": [
    {
     "data": {
      "text/plain": [
       "100.0    21053\n",
       "Name: Fuzzy_CNPJ_CNESvsRF, dtype: int64"
      ]
     },
     "execution_count": 5,
     "metadata": {},
     "output_type": "execute_result"
    }
   ],
   "source": [
    "df[\"Fuzzy_CNPJ_CNESvsRF\"].value_counts()"
   ]
  },
  {
   "cell_type": "code",
   "execution_count": 6,
   "metadata": {},
   "outputs": [
    {
     "name": "stdout",
     "output_type": "stream",
     "text": [
      "<class 'pandas.core.frame.DataFrame'>\n",
      "RangeIndex: 21053 entries, 0 to 21052\n",
      "Data columns (total 2 columns):\n",
      " #   Column         Non-Null Count  Dtype \n",
      "---  ------         --------------  ----- \n",
      " 0   Nome Fantasia  21053 non-null  object\n",
      " 1   fantasia       13688 non-null  object\n",
      "dtypes: object(2)\n",
      "memory usage: 329.1+ KB\n"
     ]
    },
    {
     "data": {
      "text/html": [
       "<div>\n",
       "<style scoped>\n",
       "    .dataframe tbody tr th:only-of-type {\n",
       "        vertical-align: middle;\n",
       "    }\n",
       "\n",
       "    .dataframe tbody tr th {\n",
       "        vertical-align: top;\n",
       "    }\n",
       "\n",
       "    .dataframe thead th {\n",
       "        text-align: right;\n",
       "    }\n",
       "</style>\n",
       "<table border=\"1\" class=\"dataframe\">\n",
       "  <thead>\n",
       "    <tr style=\"text-align: right;\">\n",
       "      <th></th>\n",
       "      <th>Nome Fantasia</th>\n",
       "      <th>fantasia</th>\n",
       "      <th>Fuzzy_Fantasia_CNESvsRF</th>\n",
       "    </tr>\n",
       "  </thead>\n",
       "  <tbody>\n",
       "    <tr>\n",
       "      <th>0</th>\n",
       "      <td>CENTRAL IMAGEM CLINICA MEDICA</td>\n",
       "      <td>CENTRAL IMAGEM CLINICA MEDICA</td>\n",
       "      <td>100.0</td>\n",
       "    </tr>\n",
       "    <tr>\n",
       "      <th>12374</th>\n",
       "      <td>ASSOCIACAO PESTALOZZI DE CUIABA</td>\n",
       "      <td>ASSOCIACAO PESTALOZZI DE CUIABA</td>\n",
       "      <td>100.0</td>\n",
       "    </tr>\n",
       "    <tr>\n",
       "      <th>12343</th>\n",
       "      <td>PSICODONTO</td>\n",
       "      <td>PSICODONTO</td>\n",
       "      <td>100.0</td>\n",
       "    </tr>\n",
       "    <tr>\n",
       "      <th>12349</th>\n",
       "      <td>CLINICA CORTEZ</td>\n",
       "      <td>CLINICA CORTEZ</td>\n",
       "      <td>100.0</td>\n",
       "    </tr>\n",
       "    <tr>\n",
       "      <th>12353</th>\n",
       "      <td>VITACLIN INTERAGINDO</td>\n",
       "      <td>VITACLIN INTERAGINDO</td>\n",
       "      <td>100.0</td>\n",
       "    </tr>\n",
       "    <tr>\n",
       "      <th>...</th>\n",
       "      <td>...</td>\n",
       "      <td>...</td>\n",
       "      <td>...</td>\n",
       "    </tr>\n",
       "    <tr>\n",
       "      <th>3283</th>\n",
       "      <td>VIDA ITU</td>\n",
       "      <td>#NOME?</td>\n",
       "      <td>0.0</td>\n",
       "    </tr>\n",
       "    <tr>\n",
       "      <th>3270</th>\n",
       "      <td>PRONEFRON</td>\n",
       "      <td>DAVITA</td>\n",
       "      <td>0.0</td>\n",
       "    </tr>\n",
       "    <tr>\n",
       "      <th>13273</th>\n",
       "      <td>CISA</td>\n",
       "      <td>PROPREV</td>\n",
       "      <td>0.0</td>\n",
       "    </tr>\n",
       "    <tr>\n",
       "      <th>19073</th>\n",
       "      <td>S E R TAUBATE</td>\n",
       "      <td>.</td>\n",
       "      <td>0.0</td>\n",
       "    </tr>\n",
       "    <tr>\n",
       "      <th>17699</th>\n",
       "      <td>CENTRO ESPECIALIZADO TERAPEUTICO INTEGRADO</td>\n",
       "      <td>-</td>\n",
       "      <td>0.0</td>\n",
       "    </tr>\n",
       "  </tbody>\n",
       "</table>\n",
       "<p>13688 rows × 3 columns</p>\n",
       "</div>"
      ],
      "text/plain": [
       "                                    Nome Fantasia  \\\n",
       "0                   CENTRAL IMAGEM CLINICA MEDICA   \n",
       "12374             ASSOCIACAO PESTALOZZI DE CUIABA   \n",
       "12343                                  PSICODONTO   \n",
       "12349                              CLINICA CORTEZ   \n",
       "12353                        VITACLIN INTERAGINDO   \n",
       "...                                           ...   \n",
       "3283                                     VIDA ITU   \n",
       "3270                                    PRONEFRON   \n",
       "13273                                        CISA   \n",
       "19073                               S E R TAUBATE   \n",
       "17699  CENTRO ESPECIALIZADO TERAPEUTICO INTEGRADO   \n",
       "\n",
       "                              fantasia  Fuzzy_Fantasia_CNESvsRF  \n",
       "0        CENTRAL IMAGEM CLINICA MEDICA                    100.0  \n",
       "12374  ASSOCIACAO PESTALOZZI DE CUIABA                    100.0  \n",
       "12343                       PSICODONTO                    100.0  \n",
       "12349                   CLINICA CORTEZ                    100.0  \n",
       "12353             VITACLIN INTERAGINDO                    100.0  \n",
       "...                                ...                      ...  \n",
       "3283                            #NOME?                      0.0  \n",
       "3270                            DAVITA                      0.0  \n",
       "13273                          PROPREV                      0.0  \n",
       "19073                                .                      0.0  \n",
       "17699                                -                      0.0  \n",
       "\n",
       "[13688 rows x 3 columns]"
      ]
     },
     "execution_count": 6,
     "metadata": {},
     "output_type": "execute_result"
    }
   ],
   "source": [
    "# Nome Fantasia\n",
    "df[['Nome Fantasia','fantasia']].info()#muitos nomes fantasias da RF nulos\n",
    "df['Nome Fantasia'] = df['Nome Fantasia'].astype(str)\n",
    "df['fantasia'] = df['fantasia'].astype(str)\n",
    "for index,row in df.iterrows():\n",
    "    if row['fantasia']!='nan':\n",
    "        df.loc[index, \"Fuzzy_Fantasia_CNESvsRF\"] =  fuzz.ratio(unidecode(row['Nome Fantasia'].lower()),unidecode(row['fantasia'].lower()))\n",
    "        # df.loc[index, \"Fuzzy_partial_ratio_Fantasia_CNESvsRF\"] =  fuzz.partial_ratio(unidecode(row['Nome Fantasia'].lower()),unidecode(row['fantasia'].lower()))\n",
    "        # df.loc[index, \"Fuzzy_token_sort_ratio_Fantasia_CNESvsRF\"] =  fuzz.token_sort_ratio(unidecode(row['Nome Fantasia'].lower()),unidecode(row['fantasia'].lower()))\n",
    "        # df.loc[index, \"Fuzzy_token_set_ratio_Fantasia_CNESvsRF\"] =  fuzz.token_set_ratio(unidecode(row['Nome Fantasia'].lower()),unidecode(row['fantasia'].lower()))\n",
    "df[['Nome Fantasia','fantasia','Fuzzy_Fantasia_CNESvsRF']][df['fantasia']!='nan'].sort_values(by='Fuzzy_Fantasia_CNESvsRF',ascending=False)#,\"Fuzzy_partial_ratio_Fantasia_CNESvsRF\",\"Fuzzy_token_sort_ratio_Fantasia_CNESvsRF\",\"Fuzzy_token_set_ratio_Fantasia_CNESvsRF\""
   ]
  },
  {
   "cell_type": "code",
   "execution_count": 7,
   "metadata": {},
   "outputs": [
    {
     "name": "stdout",
     "output_type": "stream",
     "text": [
      "<class 'pandas.core.frame.DataFrame'>\n",
      "RangeIndex: 21053 entries, 0 to 21052\n",
      "Data columns (total 3 columns):\n",
      " #   Column                   Non-Null Count  Dtype  \n",
      "---  ------                   --------------  -----  \n",
      " 0   Nome Fantasia            21053 non-null  object \n",
      " 1   fantasia                 21053 non-null  object \n",
      " 2   Fuzzy_Fantasia_CNESvsRF  13688 non-null  float64\n",
      "dtypes: float64(1), object(2)\n",
      "memory usage: 493.6+ KB\n"
     ]
    }
   ],
   "source": [
    "df[['Nome Fantasia','fantasia','Fuzzy_Fantasia_CNESvsRF']].info()#muitos nomes fantasias da RF nulos\n",
    "df['fantasia'] = df['fantasia'].apply(lambda x: x.replace('nan',''))\n",
    "\n"
   ]
  },
  {
   "cell_type": "code",
   "execution_count": 8,
   "metadata": {},
   "outputs": [
    {
     "data": {
      "text/plain": [
       "<AxesSubplot:>"
      ]
     },
     "execution_count": 8,
     "metadata": {},
     "output_type": "execute_result"
    },
    {
     "data": {
      "image/png": "[encoded data removed]",
      "text/plain": [
       "<Figure size 432x288 with 1 Axes>"
      ]
     },
     "metadata": {
      "needs_background": "light"
     },
     "output_type": "display_data"
    }
   ],
   "source": [
    "df['Fuzzy_Fantasia_CNESvsRF'].hist(bins=20)"
   ]
  },
  {
   "cell_type": "code",
   "execution_count": 9,
   "metadata": {},
   "outputs": [
    {
     "name": "stdout",
     "output_type": "stream",
     "text": [
      "<class 'pandas.core.frame.DataFrame'>\n",
      "RangeIndex: 21053 entries, 0 to 21052\n",
      "Data columns (total 2 columns):\n",
      " #   Column        Non-Null Count  Dtype \n",
      "---  ------        --------------  ----- \n",
      " 0   Razão Social  21053 non-null  object\n",
      " 1   nome:1        21052 non-null  object\n",
      "dtypes: object(2)\n",
      "memory usage: 329.1+ KB\n"
     ]
    }
   ],
   "source": [
    "#Razão Social\n",
    "df[['Razão Social','nome:1']].info()\n",
    "df['Razão Social'] = df['Razão Social'].astype(str)\n",
    "df['nome:1'] = df['nome:1'].astype(str)\n",
    "for index,row in df.iterrows():\n",
    "    if row['nome:1']!='nan':\n",
    "        df.loc[index, \"Fuzzy_Razão_CNESvsRF\"] =  fuzz.ratio(unidecode(row['Razão Social'].lower()),unidecode(row['nome:1'].lower()))\n",
    "#         df.loc[index, \"Fuzzy_partial_ratio_Razão_CNESvsRF\"] =  fuzz.partial_ratio(unidecode(row['Razão Social'].lower()),unidecode(row['nome:1'].lower()))\n",
    "#         df.loc[index, \"Fuzzy_token_sort_ratio_Razão_CNESvsRF\"] =  fuzz.token_sort_ratio(unidecode(row['Razão Social'].lower()),unidecode(row['nome:1'].lower()))\n",
    "#         df.loc[index, \"Fuzzy_token_set_ratio_Razão_CNESvsRF\"] =  fuzz.token_set_ratio(unidecode(row['Razão Social'].lower()),unidecode(row['nome:1'].lower()))\n",
    "# df[['Razão Social','nome:1','Fuzzy_Razão_CNESvsRF',\"Fuzzy_partial_ratio_Razão_CNESvsRF\",\"Fuzzy_token_sort_ratio_Razão_CNESvsRF\",\"Fuzzy_token_set_ratio_Razão_CNESvsRF\"]][df['nome:1']!='nan'].sort_values(by='Fuzzy_Razão_CNESvsRF',ascending=False)"
   ]
  },
  {
   "cell_type": "code",
   "execution_count": 10,
   "metadata": {},
   "outputs": [
    {
     "data": {
      "text/plain": [
       "count    21052.000000\n",
       "mean        93.126781\n",
       "std         13.153957\n",
       "min          0.000000\n",
       "25%         93.000000\n",
       "50%         98.000000\n",
       "75%        100.000000\n",
       "max        100.000000\n",
       "Name: Fuzzy_Razão_CNESvsRF, dtype: float64"
      ]
     },
     "execution_count": 10,
     "metadata": {},
     "output_type": "execute_result"
    }
   ],
   "source": [
    "df[\"Fuzzy_Razão_CNESvsRF\"].describe()"
   ]
  },
  {
   "cell_type": "code",
   "execution_count": 11,
   "metadata": {},
   "outputs": [
    {
     "data": {
      "text/plain": [
       "<AxesSubplot:>"
      ]
     },
     "execution_count": 11,
     "metadata": {},
     "output_type": "execute_result"
    },
    {
     "data": {
      "image/png": "[encoded data removed]",
      "text/plain": [
       "<Figure size 432x288 with 1 Axes>"
      ]
     },
     "metadata": {
      "needs_background": "light"
     },
     "output_type": "display_data"
    }
   ],
   "source": [
    "df[\"Fuzzy_Razão_CNESvsRF\"].hist(bins=100)"
   ]
  },
  {
   "cell_type": "code",
   "execution_count": 12,
   "metadata": {},
   "outputs": [
    {
     "name": "stdout",
     "output_type": "stream",
     "text": [
      "<class 'pandas.core.frame.DataFrame'>\n",
      "RangeIndex: 21053 entries, 0 to 21052\n",
      "Data columns (total 2 columns):\n",
      " #   Column      Non-Null Count  Dtype \n",
      "---  ------      --------------  ----- \n",
      " 0   Logradouro  21053 non-null  object\n",
      " 1   logradouro  19095 non-null  object\n",
      "dtypes: object(2)\n",
      "memory usage: 329.1+ KB\n"
     ]
    }
   ],
   "source": [
    "df[['Logradouro','logradouro']].info()\n"
   ]
  },
  {
   "cell_type": "code",
   "execution_count": 13,
   "metadata": {},
   "outputs": [
    {
     "name": "stdout",
     "output_type": "stream",
     "text": [
      "<class 'pandas.core.frame.DataFrame'>\n",
      "RangeIndex: 21053 entries, 0 to 21052\n",
      "Data columns (total 2 columns):\n",
      " #   Column      Non-Null Count  Dtype \n",
      "---  ------      --------------  ----- \n",
      " 0   Logradouro  21053 non-null  object\n",
      " 1   logradouro  19095 non-null  object\n",
      "dtypes: object(2)\n",
      "memory usage: 329.1+ KB\n"
     ]
    }
   ],
   "source": [
    "#Logradouro\n",
    "df[['Logradouro','logradouro']].info()\n",
    "df['Logradouro'] = df['Logradouro'].astype(str)\n",
    "df['logradouro'] = df['logradouro'].astype(str)\n",
    "for index,row in df.iterrows():\n",
    "    if row['logradouro']!='nan':\n",
    "        df.loc[index, \"Fuzzy_Logradouro_CNESvsRF\"] =  fuzz.ratio(unidecode(row['Logradouro'].lower()),unidecode(row['logradouro'].lower()))\n",
    "#         df.loc[index, \"Fuzzy_partial_ratio_Logradouro_CNESvsRF\"] =  fuzz.partial_ratio(unidecode(row['Logradouro'].lower()),unidecode(row['logradouro'].lower()))\n",
    "#         df.loc[index, \"Fuzzy_token_sort_ratio_Logradouro_CNESvsRF\"] =  fuzz.token_sort_ratio(unidecode(row['Logradouro'].lower()),unidecode(row['logradouro'].lower()))\n",
    "#         df.loc[index, \"Fuzzy_token_set_ratio_Logradouro_CNESvsRF\"] =  fuzz.token_set_ratio(unidecode(row['Logradouro'].lower()),unidecode(row['logradouro'].lower()))\n",
    "# df[['Logradouro','logradouro','Fuzzy_Logradouro_CNESvsRF',\"Fuzzy_partial_ratio_Logradouro_CNESvsRF\",\"Fuzzy_token_sort_ratio_Logradouro_CNESvsRF\",\"Fuzzy_token_set_ratio_Logradouro_CNESvsRF\"]][df['logradouro']!='nan'].sort_values(by='Fuzzy_Logradouro_CNESvsRF',ascending=False)"
   ]
  },
  {
   "cell_type": "code",
   "execution_count": 14,
   "metadata": {},
   "outputs": [],
   "source": [
    "df['logradouro'] = df['logradouro'].apply(lambda x: x.replace('nan',''))"
   ]
  },
  {
   "cell_type": "code",
   "execution_count": 15,
   "metadata": {},
   "outputs": [
    {
     "data": {
      "text/plain": [
       "<AxesSubplot:>"
      ]
     },
     "execution_count": 15,
     "metadata": {},
     "output_type": "execute_result"
    },
    {
     "data": {
      "image/png": "[encoded data removed]",
      "text/plain": [
       "<Figure size 432x288 with 1 Axes>"
      ]
     },
     "metadata": {
      "needs_background": "light"
     },
     "output_type": "display_data"
    }
   ],
   "source": [
    "df[\"Fuzzy_Logradouro_CNESvsRF\"].hist(bins=100)"
   ]
  },
  {
   "cell_type": "code",
   "execution_count": 16,
   "metadata": {},
   "outputs": [
    {
     "name": "stdout",
     "output_type": "stream",
     "text": [
      "<class 'pandas.core.frame.DataFrame'>\n",
      "RangeIndex: 21053 entries, 0 to 21052\n",
      "Data columns (total 2 columns):\n",
      " #   Column              Non-Null Count  Dtype \n",
      "---  ------              --------------  ----- \n",
      " 0   Número do endereço  21049 non-null  object\n",
      " 1   numero              19084 non-null  object\n",
      "dtypes: object(2)\n",
      "memory usage: 329.1+ KB\n"
     ]
    }
   ],
   "source": [
    "#Numero do endereço\n",
    "df[['Número do endereço','numero']].info()\n",
    "df['Número do endereço'] = df['Número do endereço'].astype(str)\n",
    "df['numero'] = df['numero'].astype(str)\n",
    "for index,row in df.iterrows():\n",
    "    if row['numero']!='nan':\n",
    "        df.loc[index, \"Fuzzy_Número_CNESvsRF\"] =  fuzz.ratio(unidecode(row['Número do endereço'].lower()),unidecode(row['numero'].lower()))\n",
    "#         df.loc[index, \"Fuzzy_partial_ratio_Número_CNESvsRF\"] =  fuzz.partial_ratio(unidecode(row['Número do endereço'].lower()),unidecode(row['numero'].lower()))\n",
    "#         df.loc[index, \"Fuzzy_token_sort_ratio_Número_CNESvsRF\"] =  fuzz.token_sort_ratio(unidecode(row['Número do endereço'].lower()),unidecode(row['numero'].lower()))\n",
    "#         df.loc[index, \"Fuzzy_token_set_ratio_Número_CNESvsRF\"] =  fuzz.token_set_ratio(unidecode(row['Número do endereço'].lower()),unidecode(row['numero'].lower()))\n",
    "# df[['Número do endereço','numero','Fuzzy_Número_CNESvsRF',\"Fuzzy_partial_ratio_Número_CNESvsRF\",\"Fuzzy_token_sort_ratio_Número_CNESvsRF\",\"Fuzzy_token_set_ratio_Número_CNESvsRF\"]][df['numero']!='nan'].sort_values(by='Fuzzy_Número_CNESvsRF',ascending=False)"
   ]
  },
  {
   "cell_type": "code",
   "execution_count": 17,
   "metadata": {},
   "outputs": [],
   "source": [
    "df['numero'] = df['numero'].apply(lambda x: x.replace('nan',''))\n"
   ]
  },
  {
   "cell_type": "code",
   "execution_count": 18,
   "metadata": {},
   "outputs": [
    {
     "data": {
      "text/plain": [
       "<AxesSubplot:>"
      ]
     },
     "execution_count": 18,
     "metadata": {},
     "output_type": "execute_result"
    },
    {
     "data": {
      "image/png": "[encoded data removed]",
      "text/plain": [
       "<Figure size 432x288 with 1 Axes>"
      ]
     },
     "metadata": {
      "needs_background": "light"
     },
     "output_type": "display_data"
    }
   ],
   "source": [
    "df[\"Fuzzy_Número_CNESvsRF\"].hist(bins=100)"
   ]
  },
  {
   "cell_type": "code",
   "execution_count": 19,
   "metadata": {},
   "outputs": [
    {
     "name": "stdout",
     "output_type": "stream",
     "text": [
      "<class 'pandas.core.frame.DataFrame'>\n",
      "RangeIndex: 21053 entries, 0 to 21052\n",
      "Data columns (total 2 columns):\n",
      " #   Column     Non-Null Count  Dtype \n",
      "---  ------     --------------  ----- \n",
      " 0   Município  21053 non-null  object\n",
      " 1   municipio  19094 non-null  object\n",
      "dtypes: object(2)\n",
      "memory usage: 329.1+ KB\n"
     ]
    }
   ],
   "source": [
    "#Município\n",
    "df[['Município','municipio']].info()\n",
    "df['Município'] = df['Município'].astype(str)\n",
    "df['municipio'] = df['municipio'].astype(str)\n",
    "for index,row in df.iterrows():\n",
    "    if row['municipio']!='nan':\n",
    "        df.loc[index, \"Fuzzy_Município_CNESvsRF\"] =  fuzz.ratio(unidecode(row['Município'].lower()),unidecode(row['municipio'].lower()))\n",
    "#         df.loc[index, \"Fuzzy_partial_ratio_Município_CNESvsRF\"] =  fuzz.partial_ratio(unidecode(row['Município'].lower()),unidecode(row['municipio'].lower()))\n",
    "#         df.loc[index, \"Fuzzy_token_sort_ratio_Município_CNESvsRF\"] =  fuzz.token_sort_ratio(unidecode(row['Município'].lower()),unidecode(row['municipio'].lower()))\n",
    "#         df.loc[index, \"Fuzzy_token_set_ratio_Município_CNESvsRF\"] =  fuzz.token_set_ratio(unidecode(row['Município'].lower()),unidecode(row['municipio'].lower()))\n",
    "# df[['Município','municipio','Fuzzy_Município_CNESvsRF',\"Fuzzy_partial_ratio_Município_CNESvsRF\",\"Fuzzy_token_sort_ratio_Município_CNESvsRF\",\"Fuzzy_token_set_ratio_Município_CNESvsRF\"]][df['municipio']!='nan'].sort_values(by='Fuzzy_Município_CNESvsRF',ascending=False)"
   ]
  },
  {
   "cell_type": "code",
   "execution_count": 20,
   "metadata": {},
   "outputs": [],
   "source": [
    "df['municipio'] = df['municipio'].apply(lambda x: x.replace('nan',''))\n"
   ]
  },
  {
   "cell_type": "code",
   "execution_count": 21,
   "metadata": {},
   "outputs": [
    {
     "data": {
      "text/plain": [
       "<AxesSubplot:>"
      ]
     },
     "execution_count": 21,
     "metadata": {},
     "output_type": "execute_result"
    },
    {
     "data": {
      "image/png": "[encoded data removed]",
      "text/plain": [
       "<Figure size 432x288 with 1 Axes>"
      ]
     },
     "metadata": {
      "needs_background": "light"
     },
     "output_type": "display_data"
    }
   ],
   "source": [
    "df['Fuzzy_Município_CNESvsRF'].hist(bins=100)"
   ]
  },
  {
   "cell_type": "code",
   "execution_count": 22,
   "metadata": {},
   "outputs": [
    {
     "name": "stdout",
     "output_type": "stream",
     "text": [
      "<class 'pandas.core.frame.DataFrame'>\n",
      "RangeIndex: 21053 entries, 0 to 21052\n",
      "Data columns (total 2 columns):\n",
      " #   Column  Non-Null Count  Dtype \n",
      "---  ------  --------------  ----- \n",
      " 0   UF      21053 non-null  object\n",
      " 1   uf      19094 non-null  object\n",
      "dtypes: object(2)\n",
      "memory usage: 329.1+ KB\n"
     ]
    }
   ],
   "source": [
    "#UF\n",
    "df[['UF','uf']].info()\n",
    "df['UF'] = df['UF'].astype(str)\n",
    "df['uf'] = df['uf'].astype(str)\n",
    "for index,row in df.iterrows():\n",
    "    if row['uf']!='nan':\n",
    "        df.loc[index, \"Fuzzy_UF_CNESvsRF\"] =  fuzz.ratio(unidecode(row['UF'].lower()),unidecode(row['uf'].lower()))\n",
    "#         df.loc[index, \"Fuzzy_partial_ratio_UF_CNESvsRF\"] =  fuzz.partial_ratio(unidecode(row['UF'].lower()),unidecode(row['uf'].lower()))\n",
    "#         df.loc[index, \"Fuzzy_token_sort_ratio_UF_CNESvsRF\"] =  fuzz.token_sort_ratio(unidecode(row['UF'].lower()),unidecode(row['uf'].lower()))\n",
    "#         df.loc[index, \"Fuzzy_token_set_ratio_UF_CNESvsRF\"] =  fuzz.token_set_ratio(unidecode(row['UF'].lower()),unidecode(row['uf'].lower()))\n",
    "# df[['UF','uf','Fuzzy_UF_CNESvsRF',\"Fuzzy_partial_ratio_UF_CNESvsRF\",\"Fuzzy_token_sort_ratio_UF_CNESvsRF\",\"Fuzzy_token_set_ratio_UF_CNESvsRF\"]][df['uf']!='nan'].sort_values(by='Fuzzy_UF_CNESvsRF',ascending=False)"
   ]
  },
  {
   "cell_type": "code",
   "execution_count": 23,
   "metadata": {},
   "outputs": [],
   "source": [
    "df['uf'] = df['uf'].apply(lambda x: x.replace('nan',''))\n"
   ]
  },
  {
   "cell_type": "code",
   "execution_count": 24,
   "metadata": {},
   "outputs": [
    {
     "data": {
      "text/plain": [
       "<AxesSubplot:>"
      ]
     },
     "execution_count": 24,
     "metadata": {},
     "output_type": "execute_result"
    },
    {
     "data": {
      "image/png": "[encoded data removed]",
      "text/plain": [
       "<Figure size 432x288 with 1 Axes>"
      ]
     },
     "metadata": {
      "needs_background": "light"
     },
     "output_type": "display_data"
    }
   ],
   "source": [
    "df['Fuzzy_UF_CNESvsRF'].hist(bins=100)"
   ]
  },
  {
   "cell_type": "markdown",
   "metadata": {},
   "source": [
    "## CNES vs Google Places"
   ]
  },
  {
   "cell_type": "code",
   "execution_count": 25,
   "metadata": {},
   "outputs": [],
   "source": [
    "# df[['PARAM_NOME','Nome Fantasia','Razão Social']][df['PARAM_NOME'].notnull()].sample(5)\n",
    "# (df['PARAM_NOME']==df['Nome Fantasia']).value_counts()"
   ]
  },
  {
   "cell_type": "code",
   "execution_count": 26,
   "metadata": {},
   "outputs": [
    {
     "name": "stdout",
     "output_type": "stream",
     "text": [
      "<class 'pandas.core.frame.DataFrame'>\n",
      "RangeIndex: 21053 entries, 0 to 21052\n",
      "Data columns (total 2 columns):\n",
      " #   Column            Non-Null Count  Dtype \n",
      "---  ------            --------------  ----- \n",
      " 0   Nome Fantasia     21053 non-null  object\n",
      " 1   gmapsCompanyName  265 non-null    object\n",
      "dtypes: object(2)\n",
      "memory usage: 329.1+ KB\n"
     ]
    }
   ],
   "source": [
    "df[['Nome Fantasia','gmapsCompanyName']].info()\n",
    "df['Nome Fantasia'] = df['Nome Fantasia'].astype(str)\n",
    "df['gmapsCompanyName'] = df['gmapsCompanyName'].astype(str)\n",
    "for index,row in df.iterrows():\n",
    "    if row['gmapsCompanyName']!='nan':\n",
    "        # df.loc[index, \"Fuzzy_Nome_CNESvsGMN\"] =  fuzz.ratio(unidecode(row['Nome Fantasia'].lower()),unidecode(row['gmapsCompanyName'].lower()))\n",
    "#         df.loc[index, \"Fuzzy_partial_ratio_Nome_CNESvsGMN\"] =  fuzz.partial_ratio(unidecode(row['Nome Fantasia'].lower()),unidecode(row['gmapsCompanyName'].lower()))\n",
    "#         df.loc[index, \"Fuzzy_token_sort_ratio_Nome_CNESvsGMN\"] =  fuzz.token_sort_ratio(unidecode(row['Nome Fantasia'].lower()),unidecode(row['gmapsCompanyName'].lower()))\n",
    "        df.loc[index, \"Fuzzy_token_set_ratio_Nome_CNESvsGMN\"] =  fuzz.token_set_ratio(unidecode(row['Nome Fantasia'].lower()),unidecode(row['gmapsCompanyName'].lower()))\n",
    "# df[['CNPJ','Nome Fantasia','gmapsCompanyName','Fuzzy_Nome_CNESvsGMN',\"Fuzzy_partial_ratio_Nome_CNESvsGMN\",\"Fuzzy_token_sort_ratio_Nome_CNESvsGMN\",\"Fuzzy_token_set_ratio_Nome_CNESvsGMN\"]][df['gmapsCompanyName']!='nan'].sort_values(by='Fuzzy_Nome_CNESvsGMN',ascending=False).to_excel('fuzzy_fantasia3.xlsx')"
   ]
  },
  {
   "cell_type": "code",
   "execution_count": 27,
   "metadata": {},
   "outputs": [],
   "source": [
    "# df[['Nome Fantasia','gmapsCompanyName',\"Fuzzy_Nome_CNESvsGMN\"]].info()\n",
    "df['gmapsCompanyName'] = df['gmapsCompanyName'].apply(lambda x: x.replace('nan',''))\n",
    "\n"
   ]
  },
  {
   "cell_type": "code",
   "execution_count": 28,
   "metadata": {},
   "outputs": [
    {
     "data": {
      "text/plain": [
       "<AxesSubplot:>"
      ]
     },
     "execution_count": 28,
     "metadata": {},
     "output_type": "execute_result"
    },
    {
     "data": {
      "image/png": "[encoded data removed]",
      "text/plain": [
       "<Figure size 432x288 with 1 Axes>"
      ]
     },
     "metadata": {
      "needs_background": "light"
     },
     "output_type": "display_data"
    }
   ],
   "source": [
    "df[\"Fuzzy_token_set_ratio_Nome_CNESvsGMN\"].hist(bins=100)\n",
    "# df[\"Fuzzy_Nome_CNESvsGMN\"].value_counts()"
   ]
  },
  {
   "cell_type": "markdown",
   "metadata": {},
   "source": [
    "Juntando varias colunas do CNES para compor uma coluna de endereço só e fazer o fuzzy com a coluna acima do google"
   ]
  },
  {
   "cell_type": "code",
   "execution_count": 29,
   "metadata": {},
   "outputs": [],
   "source": [
    "df['Full_address_CNES'] = df['Logradouro'] + ', ' + df['Número do endereço'] + ' - '+ df['Município'] +' - '+df['UF']+', '+df['CEP']"
   ]
  },
  {
   "cell_type": "code",
   "execution_count": 30,
   "metadata": {},
   "outputs": [],
   "source": [
    "#exportando arquivo excel para fazer checagem manual"
   ]
  },
  {
   "cell_type": "code",
   "execution_count": 31,
   "metadata": {},
   "outputs": [
    {
     "data": {
      "text/html": [
       "<div>\n",
       "<style scoped>\n",
       "    .dataframe tbody tr th:only-of-type {\n",
       "        vertical-align: middle;\n",
       "    }\n",
       "\n",
       "    .dataframe tbody tr th {\n",
       "        vertical-align: top;\n",
       "    }\n",
       "\n",
       "    .dataframe thead th {\n",
       "        text-align: right;\n",
       "    }\n",
       "</style>\n",
       "<table border=\"1\" class=\"dataframe\">\n",
       "  <thead>\n",
       "    <tr style=\"text-align: right;\">\n",
       "      <th></th>\n",
       "      <th>CNPJ</th>\n",
       "      <th>Nome Fantasia</th>\n",
       "      <th>gmapsCompanyName</th>\n",
       "      <th>Full_address_CNES</th>\n",
       "      <th>gmapsAddress</th>\n",
       "      <th>URL Site</th>\n",
       "      <th>URL GMN</th>\n",
       "      <th>Fuzzy_token_set_ratio_Nome_CNESvsGMN</th>\n",
       "    </tr>\n",
       "  </thead>\n",
       "  <tbody>\n",
       "    <tr>\n",
       "      <th>10242</th>\n",
       "      <td>21456452000152</td>\n",
       "      <td>CLINICA PROTHEUS</td>\n",
       "      <td>Clinica Protheus - PSICOLOGIA e PSIQUIATRIA e...</td>\n",
       "      <td>RUA XV DE NOVEMBRO, 266 - CURITIBA - PR, 80020310</td>\n",
       "      <td>Rua XV de Novembro, 266 (Centro) 80020-919 - C...</td>\n",
       "      <td>http://www.clinicaprotheus.com.br/</td>\n",
       "      <td>https://www.google.com.br/maps/place/Clinica+P...</td>\n",
       "      <td>100.0</td>\n",
       "    </tr>\n",
       "    <tr>\n",
       "      <th>7803</th>\n",
       "      <td>32915458000167</td>\n",
       "      <td>CMESAUDE</td>\n",
       "      <td>CMESaúde - Clínica de Monitoramento Educacion...</td>\n",
       "      <td>RUI BARBOSA, 1868 - NATAL - RN, 59056300</td>\n",
       "      <td>Av. Rui Barbosa, 1868, HC Plaza Torre 2 sala 1...</td>\n",
       "      <td>https://cmesaude.com.br/</td>\n",
       "      <td>https://www.google.com.br/maps/place/CMESa%C3%...</td>\n",
       "      <td>100.0</td>\n",
       "    </tr>\n",
       "    <tr>\n",
       "      <th>11744</th>\n",
       "      <td>03094394000697</td>\n",
       "      <td>CLINICA MAIA</td>\n",
       "      <td>Clínica Maia</td>\n",
       "      <td>RODOVIA REGIS BITTENCOURT, 3450 - TABOAO DA SE...</td>\n",
       "      <td>R. Acácio Ferreira, 3450 - Jardim Mirna, Taboã...</td>\n",
       "      <td>https://www.clinicamaia.com.br/</td>\n",
       "      <td>https://www.google.com.br/maps/place/Cl%C3%ADn...</td>\n",
       "      <td>100.0</td>\n",
       "    </tr>\n",
       "    <tr>\n",
       "      <th>11993</th>\n",
       "      <td>04251273000160</td>\n",
       "      <td>CENARIUM CLINICA DE PSIQUIATRIA E PSICOTERAPIA</td>\n",
       "      <td>Clínica Cenarium</td>\n",
       "      <td>RUA 9B, 129 - GOIANIA - GO, 74110120</td>\n",
       "      <td>R. 9-B, 4 - Andar 129 - St. Oeste, Goiânia - G...</td>\n",
       "      <td>https://www.cenariumclinica.com.br/</td>\n",
       "      <td>https://www.google.com.br/maps/place/Cl%C3%ADn...</td>\n",
       "      <td>100.0</td>\n",
       "    </tr>\n",
       "    <tr>\n",
       "      <th>12207</th>\n",
       "      <td>04841170000230</td>\n",
       "      <td>MHR TIJUCA</td>\n",
       "      <td>MHR Psicólogos e Saúde - Tijuca</td>\n",
       "      <td>RUA CONDE DE BONFIM, 211 - RIO DE JANEIRO - RJ...</td>\n",
       "      <td>Rua Conde de Bonfim, 211 - 410 - Tijuca, Rio d...</td>\n",
       "      <td>http://www.mhrpsicologos.com.br/</td>\n",
       "      <td>https://www.google.com.br/maps/place/MHR+Psic%...</td>\n",
       "      <td>100.0</td>\n",
       "    </tr>\n",
       "    <tr>\n",
       "      <th>...</th>\n",
       "      <td>...</td>\n",
       "      <td>...</td>\n",
       "      <td>...</td>\n",
       "      <td>...</td>\n",
       "      <td>...</td>\n",
       "      <td>...</td>\n",
       "      <td>...</td>\n",
       "      <td>...</td>\n",
       "    </tr>\n",
       "    <tr>\n",
       "      <th>1427</th>\n",
       "      <td>19879255000102</td>\n",
       "      <td>CEMED ESSENCIAL</td>\n",
       "      <td>Clínica Pedro Cavalcanti | Unidade Currais No...</td>\n",
       "      <td>RUA CAPITAL JOSE DA PENHA, 89 - CURRAIS NOVOS ...</td>\n",
       "      <td>R. Cap. José da Penha, 81, Currais Novos - RN,...</td>\n",
       "      <td>http://www.labcemed.com.br/</td>\n",
       "      <td>https://www.google.com.br/maps/place/Cl%C3%ADn...</td>\n",
       "      <td>16.0</td>\n",
       "    </tr>\n",
       "    <tr>\n",
       "      <th>19043</th>\n",
       "      <td>31468229000189</td>\n",
       "      <td>VILA VERDE</td>\n",
       "      <td>Av. Alberto Torres, 382 - Parque Conselheiro ...</td>\n",
       "      <td>AVENIDA ALBERTO TORRES, 382 - CAMPOS DOS GOYTA...</td>\n",
       "      <td>Av. Alberto Torres, 382 - Parque Conselheiro T...</td>\n",
       "      <td>http://vilaverdejf.com.br/</td>\n",
       "      <td>https://www.google.com.br/maps/place/Av.+Alber...</td>\n",
       "      <td>16.0</td>\n",
       "    </tr>\n",
       "    <tr>\n",
       "      <th>13856</th>\n",
       "      <td>44863959000630</td>\n",
       "      <td>ESPACO VIVER BEM</td>\n",
       "      <td>Prudente Home Trade Center</td>\n",
       "      <td>AV CORONEL JOSE SOARES MARCONDES, 3295 - PRESI...</td>\n",
       "      <td>Av. Cel. José Soares Marcondes, 3700 - Jardim ...</td>\n",
       "      <td>http://www.superestrela.com.br/</td>\n",
       "      <td>https://www.google.com.br/maps/place/Prudente+...</td>\n",
       "      <td>14.0</td>\n",
       "    </tr>\n",
       "    <tr>\n",
       "      <th>14674</th>\n",
       "      <td>07284484000197</td>\n",
       "      <td>HEAD</td>\n",
       "      <td>R. Prof. Almeida Cousin, 125 - Enseada do Suá</td>\n",
       "      <td>RUA PROFESSOR ALMEIDA COUSIN, 125 - VITORIA - ...</td>\n",
       "      <td>R. Prof. Almeida Cousin, 125 - Enseada do Suá,...</td>\n",
       "      <td>http://www.alterna.com.br/</td>\n",
       "      <td>https://www.google.com.br/maps/place/R.+Prof.+...</td>\n",
       "      <td>14.0</td>\n",
       "    </tr>\n",
       "    <tr>\n",
       "      <th>16444</th>\n",
       "      <td>13397829000111</td>\n",
       "      <td>REVIVER</td>\n",
       "      <td>Paudalho</td>\n",
       "      <td>RUA PROJETADA DOIS, 601 - PAUDALHO - PE, 55825000</td>\n",
       "      <td>NaN</td>\n",
       "      <td>https://www.clinicapsiquiatricareviver.com.br/</td>\n",
       "      <td>https://www.google.com.br/maps/place/Paudalho,...</td>\n",
       "      <td>0.0</td>\n",
       "    </tr>\n",
       "  </tbody>\n",
       "</table>\n",
       "<p>265 rows × 8 columns</p>\n",
       "</div>"
      ],
      "text/plain": [
       "                 CNPJ                                   Nome Fantasia  \\\n",
       "10242  21456452000152                                CLINICA PROTHEUS   \n",
       "7803   32915458000167                                        CMESAUDE   \n",
       "11744  03094394000697                                    CLINICA MAIA   \n",
       "11993  04251273000160  CENARIUM CLINICA DE PSIQUIATRIA E PSICOTERAPIA   \n",
       "12207  04841170000230                                      MHR TIJUCA   \n",
       "...               ...                                             ...   \n",
       "1427   19879255000102                                 CEMED ESSENCIAL   \n",
       "19043  31468229000189                                      VILA VERDE   \n",
       "13856  44863959000630                                ESPACO VIVER BEM   \n",
       "14674  07284484000197                                            HEAD   \n",
       "16444  13397829000111                                         REVIVER   \n",
       "\n",
       "                                        gmapsCompanyName  \\\n",
       "10242   Clinica Protheus - PSICOLOGIA e PSIQUIATRIA e...   \n",
       "7803    CMESaúde - Clínica de Monitoramento Educacion...   \n",
       "11744                                     Clínica Maia     \n",
       "11993                                 Clínica Cenarium     \n",
       "12207                  MHR Psicólogos e Saúde - Tijuca     \n",
       "...                                                  ...   \n",
       "1427    Clínica Pedro Cavalcanti | Unidade Currais No...   \n",
       "19043   Av. Alberto Torres, 382 - Parque Conselheiro ...   \n",
       "13856                       Prudente Home Trade Center     \n",
       "14674    R. Prof. Almeida Cousin, 125 - Enseada do Suá     \n",
       "16444                                         Paudalho     \n",
       "\n",
       "                                       Full_address_CNES  \\\n",
       "10242  RUA XV DE NOVEMBRO, 266 - CURITIBA - PR, 80020310   \n",
       "7803            RUI BARBOSA, 1868 - NATAL - RN, 59056300   \n",
       "11744  RODOVIA REGIS BITTENCOURT, 3450 - TABOAO DA SE...   \n",
       "11993               RUA 9B, 129 - GOIANIA - GO, 74110120   \n",
       "12207  RUA CONDE DE BONFIM, 211 - RIO DE JANEIRO - RJ...   \n",
       "...                                                  ...   \n",
       "1427   RUA CAPITAL JOSE DA PENHA, 89 - CURRAIS NOVOS ...   \n",
       "19043  AVENIDA ALBERTO TORRES, 382 - CAMPOS DOS GOYTA...   \n",
       "13856  AV CORONEL JOSE SOARES MARCONDES, 3295 - PRESI...   \n",
       "14674  RUA PROFESSOR ALMEIDA COUSIN, 125 - VITORIA - ...   \n",
       "16444  RUA PROJETADA DOIS, 601 - PAUDALHO - PE, 55825000   \n",
       "\n",
       "                                            gmapsAddress  \\\n",
       "10242  Rua XV de Novembro, 266 (Centro) 80020-919 - C...   \n",
       "7803   Av. Rui Barbosa, 1868, HC Plaza Torre 2 sala 1...   \n",
       "11744  R. Acácio Ferreira, 3450 - Jardim Mirna, Taboã...   \n",
       "11993  R. 9-B, 4 - Andar 129 - St. Oeste, Goiânia - G...   \n",
       "12207  Rua Conde de Bonfim, 211 - 410 - Tijuca, Rio d...   \n",
       "...                                                  ...   \n",
       "1427   R. Cap. José da Penha, 81, Currais Novos - RN,...   \n",
       "19043  Av. Alberto Torres, 382 - Parque Conselheiro T...   \n",
       "13856  Av. Cel. José Soares Marcondes, 3700 - Jardim ...   \n",
       "14674  R. Prof. Almeida Cousin, 125 - Enseada do Suá,...   \n",
       "16444                                                NaN   \n",
       "\n",
       "                                             URL Site  \\\n",
       "10242              http://www.clinicaprotheus.com.br/   \n",
       "7803                         https://cmesaude.com.br/   \n",
       "11744                 https://www.clinicamaia.com.br/   \n",
       "11993             https://www.cenariumclinica.com.br/   \n",
       "12207                http://www.mhrpsicologos.com.br/   \n",
       "...                                               ...   \n",
       "1427                      http://www.labcemed.com.br/   \n",
       "19043                      http://vilaverdejf.com.br/   \n",
       "13856                 http://www.superestrela.com.br/   \n",
       "14674                      http://www.alterna.com.br/   \n",
       "16444  https://www.clinicapsiquiatricareviver.com.br/   \n",
       "\n",
       "                                                 URL GMN  \\\n",
       "10242  https://www.google.com.br/maps/place/Clinica+P...   \n",
       "7803   https://www.google.com.br/maps/place/CMESa%C3%...   \n",
       "11744  https://www.google.com.br/maps/place/Cl%C3%ADn...   \n",
       "11993  https://www.google.com.br/maps/place/Cl%C3%ADn...   \n",
       "12207  https://www.google.com.br/maps/place/MHR+Psic%...   \n",
       "...                                                  ...   \n",
       "1427   https://www.google.com.br/maps/place/Cl%C3%ADn...   \n",
       "19043  https://www.google.com.br/maps/place/Av.+Alber...   \n",
       "13856  https://www.google.com.br/maps/place/Prudente+...   \n",
       "14674  https://www.google.com.br/maps/place/R.+Prof.+...   \n",
       "16444  https://www.google.com.br/maps/place/Paudalho,...   \n",
       "\n",
       "       Fuzzy_token_set_ratio_Nome_CNESvsGMN  \n",
       "10242                                 100.0  \n",
       "7803                                  100.0  \n",
       "11744                                 100.0  \n",
       "11993                                 100.0  \n",
       "12207                                 100.0  \n",
       "...                                     ...  \n",
       "1427                                   16.0  \n",
       "19043                                  16.0  \n",
       "13856                                  14.0  \n",
       "14674                                  14.0  \n",
       "16444                                   0.0  \n",
       "\n",
       "[265 rows x 8 columns]"
      ]
     },
     "execution_count": 31,
     "metadata": {},
     "output_type": "execute_result"
    }
   ],
   "source": [
    "df[['CNPJ','Nome Fantasia','gmapsCompanyName','Full_address_CNES','gmapsAddress','URL Site','URL GMN',\"Fuzzy_token_set_ratio_Nome_CNESvsGMN\"]][df['Fuzzy_token_set_ratio_Nome_CNESvsGMN'].notnull()].sort_values(by='Fuzzy_token_set_ratio_Nome_CNESvsGMN',ascending=False)#.to_excel('fuzzy_sites.xlsx')"
   ]
  },
  {
   "cell_type": "markdown",
   "metadata": {},
   "source": [
    "### Limpeza de dados do google\n",
    "- Nome Fantasia vs gmapsCompanyName , errado remove gmapsCompanyName\n",
    "- Full Addres vs gmapsAddress, NÃO FAZ NADA\n",
    "- Nome Fantasia vs site, site errado remove sites, ratings, cats (limpa tudo)"
   ]
  },
  {
   "cell_type": "code",
   "execution_count": 32,
   "metadata": {},
   "outputs": [],
   "source": [
    "df_GMN_check = pd.read_excel('fuzzy_sites.xlsx',dtype={'CNPJ': object})\n",
    "# df_GMN_check.info()\n",
    "\n",
    "# df_GMN_check = df_GMN_check[['CNPJ','Fuzzy_token_set_ratio_Nome_CNESvsGMN','Nome Fantasia','gmapsCompanyName','Correto']]\n",
    "dict_nome_GMN_check = df_GMN_check.set_index('CNPJ')['Nome_Correto'].to_dict()\n",
    "dict_End_GMN_check = df_GMN_check.set_index('CNPJ')['End_correto'].to_dict()\n",
    "dict_Site_GMN_check = df_GMN_check.set_index('CNPJ')['Site_Certo'].to_dict()\n",
    "\n"
   ]
  },
  {
   "cell_type": "code",
   "execution_count": 33,
   "metadata": {},
   "outputs": [],
   "source": [
    "#Nomes\n",
    "df['Nome_google_correct'] = df['CNPJ'].map(dict_nome_GMN_check)"
   ]
  },
  {
   "cell_type": "code",
   "execution_count": 34,
   "metadata": {},
   "outputs": [
    {
     "data": {
      "text/plain": [
       "1.0    229\n",
       "0.0     36\n",
       "Name: Nome_google_correct, dtype: int64"
      ]
     },
     "execution_count": 34,
     "metadata": {},
     "output_type": "execute_result"
    }
   ],
   "source": [
    "df['Nome_google_correct'].value_counts()#.info()"
   ]
  },
  {
   "cell_type": "code",
   "execution_count": 35,
   "metadata": {},
   "outputs": [],
   "source": [
    "for index,row in df.iterrows():\n",
    "    if row['Nome_google_correct']==0:\n",
    "        df.loc[index, \"Fuzzy_token_set_ratio_Nome_CNESvsGMN\"] = np.NaN\n",
    "        df.loc[index, \"gmapsCompanyName\"] = np.NaN"
   ]
  },
  {
   "cell_type": "code",
   "execution_count": 36,
   "metadata": {},
   "outputs": [],
   "source": [
    "# Sites\n",
    "df['Site_google_correct'] = df['CNPJ'].map(dict_Site_GMN_check)"
   ]
  },
  {
   "cell_type": "code",
   "execution_count": 37,
   "metadata": {},
   "outputs": [
    {
     "data": {
      "text/plain": [
       "1.0    241\n",
       "0.0     24\n",
       "Name: Site_google_correct, dtype: int64"
      ]
     },
     "execution_count": 37,
     "metadata": {},
     "output_type": "execute_result"
    }
   ],
   "source": [
    "df['Site_google_correct'].value_counts()#.info()"
   ]
  },
  {
   "cell_type": "code",
   "execution_count": 38,
   "metadata": {},
   "outputs": [],
   "source": [
    "crawlers_col_list = ['Cat Geriatrico',\n",
    " 'Cat Adulto',\n",
    " 'Cat Infanto-Juvenil',\n",
    " 'Cat Atendimento Ambulatorial',\n",
    " 'Cat Hospital-dia',\n",
    " 'Cat Emergencias',\n",
    " 'Cat Internacao',\n",
    " 'Cat Residencia Terapeutica',\n",
    " 'Cat Injetaveis',\n",
    " 'Cat Procedimentos',\n",
    " 'Cat Dependencia Quimica',\n",
    " 'Cat Transtornos Psiquiatricos',\n",
    " 'Cat Transtornos Neurologicos',\n",
    " 'Cat Transtornos Alimentares',\n",
    " 'Cat Atendimento Convenio',\n",
    " 'Cat Atendimento Particular',\n",
    " 'Cat Atendimento SUS',\n",
    " 'Cat NOTRE DAME INTERME?DICA SAU?DE S.A ',\n",
    " 'Cat AMIL ASSSITÊNCIA MÉDICA INTERNACIONAL S.A.',\n",
    " 'Cat HAPVIDA ASSISTENCIA MEDICA LTDA',\n",
    " 'Cat BRADESCO SAU?DE S.A.',\n",
    " 'Cat SUL AMERICA COMPANHIA DE SEGURO SAU?DE',\n",
    " 'Cat UNIMED',\n",
    " 'Cat PORTO SEGURO - SEGURO SAU?DE S/A',\n",
    " 'Cat SA?O FRANCISCO SISTEMAS DE SAU?DE SOCIEDADE EMPRESA?RIA LIMITADA']"
   ]
  },
  {
   "cell_type": "code",
   "execution_count": 39,
   "metadata": {},
   "outputs": [],
   "source": [
    "for index,row in df.iterrows():\n",
    "    if row['Site_google_correct']==0:\n",
    "        df.loc[index, \"URL Site\"] = np.NaN\n",
    "        df.loc[index, \"gmapsTelephone\"] = np.NaN\n",
    "        df.loc[index, \"# Ratings GMN\"] = np.NaN\n",
    "        df.loc[index, \"Rating GMN\"] = np.NaN\n",
    "        df.loc[index, \"URL GMN\"] = np.NaN\n",
    "        for i in crawlers_col_list:\n",
    "            df.loc[index, i] = np.NaN\n",
    "\n",
    "\n",
    "        ##COLOCAR TUDO QUE TEMOS QUE DELETAR AQUI\n",
    "        "
   ]
  },
  {
   "cell_type": "code",
   "execution_count": 40,
   "metadata": {},
   "outputs": [],
   "source": [
    "# df[['Nome Fantasia','gmapsCompanyName',\"Fuzzy_token_set_ratio_Nome_CNESvsGMN\",'Nome_google_correct','URL Site']][df['Nome_google_correct']==0]"
   ]
  },
  {
   "cell_type": "code",
   "execution_count": 41,
   "metadata": {},
   "outputs": [],
   "source": [
    "#apagando manualmente sites que não fazem sentido\n",
    "# df['Rating GMN'][20922]=np.NaN\n",
    "# df['Rating GMN'][20601]=np.NaN\n",
    "# df['Rating GMN'][16522]=np.NaN\n",
    "# df['Rating GMN'][15616]=np.NaN\n",
    "# df['Rating GMN'][14674]=np.NaN\n",
    "# df['Rating GMN'][13856]=np.NaN\n",
    "# df['Rating GMN'][11679]=np.NaN\n",
    "# df['Rating GMN'][9533]=np.NaN\n",
    "# df['Rating GMN'][9231]=np.NaN\n",
    "# df['Rating GMN'][7789]=np.NaN\n",
    "# df['Rating GMN'][7196]=np.NaN\n",
    "# df['Rating GMN'][6836]=np.NaN\n",
    "# df['Rating GMN'][4297]=np.NaN"
   ]
  },
  {
   "cell_type": "code",
   "execution_count": 42,
   "metadata": {},
   "outputs": [],
   "source": [
    "# #apagando manualmente sites que não fazem sentido\n",
    "# df['URL Site'][20922]=np.NaN\n",
    "# df['URL Site'][20601]=np.NaN\n",
    "# df['URL Site'][16522]=np.NaN\n",
    "# df['URL Site'][15616]=np.NaN\n",
    "# df['URL Site'][14674]=np.NaN\n",
    "# df['URL Site'][13856]=np.NaN\n",
    "# df['URL Site'][11679]=np.NaN\n",
    "# df['URL Site'][9533]=np.NaN\n",
    "# df['URL Site'][9231]=np.NaN\n",
    "# df['URL Site'][7789]=np.NaN\n",
    "# df['URL Site'][7196]=np.NaN\n",
    "# df['URL Site'][6836]=np.NaN\n",
    "# df['URL Site'][4297]=np.NaN\n",
    "\n",
    "# #apagando manualmente sites que não fazem sentido\n",
    "# df['URL GMN'][20922]=np.NaN\n",
    "# df['URL GMN'][20601]=np.NaN\n",
    "# df['URL GMN'][16522]=np.NaN\n",
    "# df['URL GMN'][15616]=np.NaN\n",
    "# df['URL GMN'][14674]=np.NaN\n",
    "# df['URL GMN'][13856]=np.NaN\n",
    "# df['URL GMN'][11679]=np.NaN\n",
    "# df['URL GMN'][9533]=np.NaN\n",
    "# df['URL GMN'][9231]=np.NaN\n",
    "# df['URL GMN'][7789]=np.NaN\n",
    "# df['URL GMN'][7196]=np.NaN\n",
    "# df['URL GMN'][6836]=np.NaN\n",
    "# df['URL GMN'][4297]=np.NaN\n",
    "\n",
    "# #apagando manualmente sites que não fazem sentido\n",
    "# df['gmapsTelephone'][20922]=np.NaN\n",
    "# df['gmapsTelephone'][20601]=np.NaN\n",
    "# df['gmapsTelephone'][16522]=np.NaN\n",
    "# df['gmapsTelephone'][15616]=np.NaN\n",
    "# df['gmapsTelephone'][14674]=np.NaN\n",
    "# df['gmapsTelephone'][13856]=np.NaN\n",
    "# df['gmapsTelephone'][11679]=np.NaN\n",
    "# df['gmapsTelephone'][9533]=np.NaN\n",
    "# df['gmapsTelephone'][9231]=np.NaN\n",
    "# df['gmapsTelephone'][7789]=np.NaN\n",
    "# df['gmapsTelephone'][7196]=np.NaN\n",
    "# df['gmapsTelephone'][6836]=np.NaN\n",
    "# df['gmapsTelephone'][4297]=np.NaN\n",
    "\n",
    "# #apagando manualmente sites que não fazem sentido\n",
    "# df['# Ratings GMN'][20922]=np.NaN\n",
    "# df['# Ratings GMN'][20601]=np.NaN\n",
    "# df['# Ratings GMN'][16522]=np.NaN\n",
    "# df['# Ratings GMN'][15616]=np.NaN\n",
    "# df['# Ratings GMN'][14674]=np.NaN\n",
    "# df['# Ratings GMN'][13856]=np.NaN\n",
    "# df['# Ratings GMN'][11679]=np.NaN\n",
    "# df['# Ratings GMN'][9533]=np.NaN\n",
    "# df['# Ratings GMN'][9231]=np.NaN\n",
    "# df['# Ratings GMN'][7789]=np.NaN\n",
    "# df['# Ratings GMN'][7196]=np.NaN\n",
    "# df['# Ratings GMN'][6836]=np.NaN\n",
    "# df['# Ratings GMN'][4297]=np.NaN\n",
    "\n",
    "# #apagando manualmente sites que não fazem sentido\n",
    "# df['Rating GMN'][20922]=np.NaN\n",
    "# df['Rating GMN'][20601]=np.NaN\n",
    "# df['Rating GMN'][16522]=np.NaN\n",
    "# df['Rating GMN'][15616]=np.NaN\n",
    "# df['Rating GMN'][14674]=np.NaN\n",
    "# df['Rating GMN'][13856]=np.NaN\n",
    "# df['Rating GMN'][11679]=np.NaN\n",
    "# df['Rating GMN'][9533]=np.NaN\n",
    "# df['Rating GMN'][9231]=np.NaN\n",
    "# df['Rating GMN'][7789]=np.NaN\n",
    "# df['Rating GMN'][7196]=np.NaN\n",
    "# df['Rating GMN'][6836]=np.NaN\n",
    "# df['Rating GMN'][4297]=np.NaN"
   ]
  },
  {
   "cell_type": "code",
   "execution_count": 43,
   "metadata": {},
   "outputs": [],
   "source": [
    "# df_ratng = df[['Nome Fantasia','gmapsCompanyName',\"Fuzzy_token_set_ratio_Nome_CNESvsGMN\",'Nome_google_correct','URL Site']][df['# Ratings GMN'].notnull()]\n",
    "# df_ratng['URL Site'].nunique()"
   ]
  },
  {
   "cell_type": "markdown",
   "metadata": {},
   "source": [
    "### fuzzt endereço google vs CNES"
   ]
  },
  {
   "cell_type": "code",
   "execution_count": 44,
   "metadata": {},
   "outputs": [
    {
     "data": {
      "text/html": [
       "<div>\n",
       "<style scoped>\n",
       "    .dataframe tbody tr th:only-of-type {\n",
       "        vertical-align: middle;\n",
       "    }\n",
       "\n",
       "    .dataframe tbody tr th {\n",
       "        vertical-align: top;\n",
       "    }\n",
       "\n",
       "    .dataframe thead th {\n",
       "        text-align: right;\n",
       "    }\n",
       "</style>\n",
       "<table border=\"1\" class=\"dataframe\">\n",
       "  <thead>\n",
       "    <tr style=\"text-align: right;\">\n",
       "      <th></th>\n",
       "      <th>gmapsAddress</th>\n",
       "    </tr>\n",
       "  </thead>\n",
       "  <tbody>\n",
       "    <tr>\n",
       "      <th>8527</th>\n",
       "      <td>R. Guilherme Asbahr Neto, 438 - Brooklin, São ...</td>\n",
       "    </tr>\n",
       "    <tr>\n",
       "      <th>17044</th>\n",
       "      <td>R. Raquel Florêncio, 201 - Lagoa Redonda, Fort...</td>\n",
       "    </tr>\n",
       "    <tr>\n",
       "      <th>2780</th>\n",
       "      <td>Av. Mato Grosso, 4418 - Centro, Campo Grande -...</td>\n",
       "    </tr>\n",
       "    <tr>\n",
       "      <th>17036</th>\n",
       "      <td>Avenida, R. Agostinho Costi, 1827 - Barra do J...</td>\n",
       "    </tr>\n",
       "    <tr>\n",
       "      <th>3471</th>\n",
       "      <td>Av. João Leite, 1383 - chácara 37 - Santa Geno...</td>\n",
       "    </tr>\n",
       "  </tbody>\n",
       "</table>\n",
       "</div>"
      ],
      "text/plain": [
       "                                            gmapsAddress\n",
       "8527   R. Guilherme Asbahr Neto, 438 - Brooklin, São ...\n",
       "17044  R. Raquel Florêncio, 201 - Lagoa Redonda, Fort...\n",
       "2780   Av. Mato Grosso, 4418 - Centro, Campo Grande -...\n",
       "17036  Avenida, R. Agostinho Costi, 1827 - Barra do J...\n",
       "3471   Av. João Leite, 1383 - chácara 37 - Santa Geno..."
      ]
     },
     "execution_count": 44,
     "metadata": {},
     "output_type": "execute_result"
    }
   ],
   "source": [
    "df[['gmapsAddress']][df['gmapsAddress'].notnull()].sample(5)"
   ]
  },
  {
   "cell_type": "code",
   "execution_count": 45,
   "metadata": {},
   "outputs": [],
   "source": [
    "df['Full_address_CNES'] = df['Logradouro'] + ', ' + df['Número do endereço'] + ' - '+ df['Município'] +' - '+df['UF']+', '+df['CEP']"
   ]
  },
  {
   "cell_type": "code",
   "execution_count": 46,
   "metadata": {},
   "outputs": [
    {
     "data": {
      "text/plain": [
       "0        QNM 17 CONJUNTO H LOTE, 52 - BRASILIA - DF, 72...\n",
       "1        RUA OSCAR KUNIO KAWAKAMI, 1045 - TABAPORA - MT...\n",
       "2           DOUTOR BACELAR, 227 - SAO PAULO - SP, 04026000\n",
       "3        JULIO DE CASTILHOS, 2912 - URUGUAIANA - RS, 97...\n",
       "4         AV DOS AUTONOMISTAS, 896 - OSASCO - SP, 06020012\n",
       "                               ...                        \n",
       "21048        RUA APUCARANA, 282 - SAO PAULO - SP, 03311000\n",
       "21049            RUA PIRATININS, 695 - TUPA - SP, 17600100\n",
       "21050    RUA DR FERNANDO COSTA, 477 - UCHOA - SP, 15890000\n",
       "21051    AVENIDA CAROLINA VON ZUBEN, 858 - VINHEDO - SP...\n",
       "21052    RUA PONTA GROSSA, 377 - TELEMACO BORBA - PR, 8...\n",
       "Name: Full_address_CNES, Length: 21053, dtype: object"
      ]
     },
     "execution_count": 46,
     "metadata": {},
     "output_type": "execute_result"
    }
   ],
   "source": [
    "df['Full_address_CNES']"
   ]
  },
  {
   "cell_type": "code",
   "execution_count": 47,
   "metadata": {},
   "outputs": [
    {
     "name": "stdout",
     "output_type": "stream",
     "text": [
      "<class 'pandas.core.frame.DataFrame'>\n",
      "RangeIndex: 21053 entries, 0 to 21052\n",
      "Data columns (total 2 columns):\n",
      " #   Column             Non-Null Count  Dtype \n",
      "---  ------             --------------  ----- \n",
      " 0   Full_address_CNES  21053 non-null  object\n",
      " 1   gmapsAddress       259 non-null    object\n",
      "dtypes: object(2)\n",
      "memory usage: 329.1+ KB\n"
     ]
    }
   ],
   "source": [
    "df[['Full_address_CNES','gmapsAddress']].info()\n",
    "df['Full_address_CNES'] = df['Full_address_CNES'].astype(str)\n",
    "df['gmapsAddress'] = df['gmapsAddress'].astype(str)\n",
    "for index,row in df.iterrows():\n",
    "    if row['gmapsAddress']!='nan':\n",
    "        # df.loc[index, \"Fuzzy_Address_CNESvsGMN\"] =  fuzz.ratio(unidecode(row['Full_address_CNES'].lower()),unidecode(row['gmapsAddress'].lower()))\n",
    "        # df.loc[index, \"Fuzzy_partial_ratio_Address_CNESvsGMN\"] =  fuzz.partial_ratio(unidecode(row['Full_address_CNES'].lower()),unidecode(row['gmapsAddress'].lower()))\n",
    "        # df.loc[index, \"Fuzzy_token_sort_ratio_Address_CNESvsGMN\"] =  fuzz.token_sort_ratio(unidecode(row['Full_address_CNES'].lower()),unidecode(row['gmapsAddress'].lower()))\n",
    "        df.loc[index, \"Fuzzy_token_set_ratio_Address_CNESvsGMN\"] =  fuzz.token_set_ratio(unidecode(row['Full_address_CNES'].lower()),unidecode(row['gmapsAddress'].lower()))\n",
    "# df[['Full_address_CNES','gmapsAddress','Fuzzy_Address_CNESvsGMN',\"Fuzzy_partial_ratio_Address_CNESvsGMN\",\"Fuzzy_token_sort_ratio_Address_CNESvsGMN\",\"Fuzzy_token_set_ratio_Address_CNESvsGMN\"]][df['gmapsAddress']!='nan'].sort_values(by='Fuzzy_Address_CNESvsGMN',ascending=False)"
   ]
  },
  {
   "cell_type": "code",
   "execution_count": 48,
   "metadata": {},
   "outputs": [],
   "source": [
    "df[['CNPJ','Full_address_CNES','gmapsAddress',\"Fuzzy_token_set_ratio_Address_CNESvsGMN\"]][df['gmapsAddress']!='nan'].sort_values(by='Fuzzy_token_set_ratio_Address_CNESvsGMN',ascending=False).to_excel('fuzzy_address2.xlsx')\n"
   ]
  },
  {
   "cell_type": "code",
   "execution_count": 49,
   "metadata": {},
   "outputs": [
    {
     "name": "stdout",
     "output_type": "stream",
     "text": [
      "<class 'pandas.core.frame.DataFrame'>\n",
      "RangeIndex: 21053 entries, 0 to 21052\n",
      "Data columns (total 3 columns):\n",
      " #   Column                                   Non-Null Count  Dtype  \n",
      "---  ------                                   --------------  -----  \n",
      " 0   Full_address_CNES                        21053 non-null  object \n",
      " 1   gmapsAddress                             21053 non-null  object \n",
      " 2   Fuzzy_token_set_ratio_Address_CNESvsGMN  259 non-null    float64\n",
      "dtypes: float64(1), object(2)\n",
      "memory usage: 493.6+ KB\n"
     ]
    }
   ],
   "source": [
    "df[['Full_address_CNES','gmapsAddress',\"Fuzzy_token_set_ratio_Address_CNESvsGMN\"]].info()\n"
   ]
  },
  {
   "cell_type": "code",
   "execution_count": 50,
   "metadata": {},
   "outputs": [],
   "source": [
    "df['gmapsAddress'] = df['gmapsAddress'].apply(lambda x: x.replace('nan',''))\n"
   ]
  },
  {
   "cell_type": "code",
   "execution_count": 51,
   "metadata": {},
   "outputs": [
    {
     "data": {
      "text/plain": [
       "<AxesSubplot:>"
      ]
     },
     "execution_count": 51,
     "metadata": {},
     "output_type": "execute_result"
    },
    {
     "data": {
      "image/png": "[encoded data removed]",
      "text/plain": [
       "<Figure size 432x288 with 1 Axes>"
      ]
     },
     "metadata": {
      "needs_background": "light"
     },
     "output_type": "display_data"
    }
   ],
   "source": [
    "df[\"Fuzzy_token_set_ratio_Address_CNESvsGMN\"].hist(bins=100)\n"
   ]
  },
  {
   "cell_type": "markdown",
   "metadata": {},
   "source": [
    "###### Regra para deletar endereços que não fazem sentido baseado no limite de fuzzy\n"
   ]
  },
  {
   "cell_type": "code",
   "execution_count": 52,
   "metadata": {},
   "outputs": [],
   "source": [
    "for index,row in df.iterrows():\n",
    "    if row[\"Fuzzy_token_set_ratio_Address_CNESvsGMN\"]<69:\n",
    "        df.loc[index,'gmapsAddress']=np.NaN\n",
    "        df.loc[index,\"Fuzzy_token_set_ratio_Address_CNESvsGMN\"]=np.NaN\n"
   ]
  },
  {
   "cell_type": "code",
   "execution_count": 53,
   "metadata": {},
   "outputs": [
    {
     "data": {
      "text/plain": [
       "206"
      ]
     },
     "execution_count": 53,
     "metadata": {},
     "output_type": "execute_result"
    }
   ],
   "source": [
    "df[df[\"Fuzzy_token_set_ratio_Address_CNESvsGMN\"].notnull()].shape[0]"
   ]
  },
  {
   "cell_type": "code",
   "execution_count": 54,
   "metadata": {},
   "outputs": [],
   "source": [
    "df_g = df[['gmapsCompanyName','gmapsAddress','gmapsTelephone','# Ratings GMN','URL GMN','URL Site','Fuzzy_token_set_ratio_Nome_CNESvsGMN','Fuzzy_token_set_ratio_Nome_CNESvsGMN']]"
   ]
  },
  {
   "cell_type": "code",
   "execution_count": 60,
   "metadata": {},
   "outputs": [
    {
     "data": {
      "text/plain": [
       "222"
      ]
     },
     "execution_count": 60,
     "metadata": {},
     "output_type": "execute_result"
    }
   ],
   "source": [
    "df_g['URL Site'].nunique()"
   ]
  },
  {
   "cell_type": "markdown",
   "metadata": {},
   "source": [
    "# CNES vs Transunion"
   ]
  },
  {
   "cell_type": "code",
   "execution_count": 54,
   "metadata": {},
   "outputs": [
    {
     "name": "stdout",
     "output_type": "stream",
     "text": [
      "<class 'pandas.core.frame.DataFrame'>\n",
      "RangeIndex: 21053 entries, 0 to 21052\n",
      "Data columns (total 2 columns):\n",
      " #   Column                   Non-Null Count  Dtype \n",
      "---  ------                   --------------  ----- \n",
      " 0   Razão Social             21053 non-null  object\n",
      " 1   Razao_Social_transunion  400 non-null    object\n",
      "dtypes: object(2)\n",
      "memory usage: 329.1+ KB\n"
     ]
    }
   ],
   "source": [
    "#Razão Social\n",
    "df[['Razão Social','Razao_Social_transunion']].info()\n",
    "df['Razão Social'] = df['Razão Social'].astype(str)\n",
    "df['Razao_Social_transunion'] = df['Razao_Social_transunion'].astype(str)\n",
    "df[['Razão Social','Razao_Social_transunion']].sample(5)\n",
    "\n",
    "for index,row in df.iterrows():\n",
    "    if row['Razao_Social_transunion']!='nan':\n",
    "        df.loc[index, \"Fuzzy_Razão_CNESvsTransunion\"] =  fuzz.ratio(unidecode(row['Razão Social'].lower()),unidecode(row['Razao_Social_transunion'].lower()))\n",
    "#         df.loc[index, \"Fuzzy_partial_ratio_Razão_CNESvsTransunion\"] =  fuzz.partial_ratio(unidecode(row['Razão Social'].lower()),unidecode(row['Razao_Social_transunion'].lower()))\n",
    "#         df.loc[index, \"Fuzzy_token_sort_ratio_Razão_CNESvsTransunion\"] =  fuzz.token_sort_ratio(unidecode(row['Razão Social'].lower()),unidecode(row['Razao_Social_transunion'].lower()))\n",
    "#         df.loc[index, \"Fuzzy_token_set_ratio_Razão_CNESvsTransunion\"] =  fuzz.token_set_ratio(unidecode(row['Razão Social'].lower()),unidecode(row['Razao_Social_transunion'].lower()))\n",
    "# df[['Razão Social','Razao_Social_transunion','Fuzzy_Razão_CNESvsTransunion',\"Fuzzy_partial_ratio_Razão_CNESvsTransunion\",\"Fuzzy_token_sort_ratio_Razão_CNESvsTransunion\",\"Fuzzy_token_set_ratio_Razão_CNESvsTransunion\"]][df['Razao_Social_transunion']!='nan'].sort_values(by='Fuzzy_Razão_CNESvsTransunion',ascending=False)"
   ]
  },
  {
   "cell_type": "code",
   "execution_count": 55,
   "metadata": {},
   "outputs": [
    {
     "data": {
      "text/html": [
       "<div>\n",
       "<style scoped>\n",
       "    .dataframe tbody tr th:only-of-type {\n",
       "        vertical-align: middle;\n",
       "    }\n",
       "\n",
       "    .dataframe tbody tr th {\n",
       "        vertical-align: top;\n",
       "    }\n",
       "\n",
       "    .dataframe thead th {\n",
       "        text-align: right;\n",
       "    }\n",
       "</style>\n",
       "<table border=\"1\" class=\"dataframe\">\n",
       "  <thead>\n",
       "    <tr style=\"text-align: right;\">\n",
       "      <th></th>\n",
       "      <th>Razão Social</th>\n",
       "      <th>Razao_Social_transunion</th>\n",
       "      <th>Fuzzy_Razão_CNESvsTransunion</th>\n",
       "    </tr>\n",
       "  </thead>\n",
       "  <tbody>\n",
       "    <tr>\n",
       "      <th>140</th>\n",
       "      <td>GAIA CLINICA DE PSICOLOGIA E ESPECIALIDADES ME...</td>\n",
       "      <td>GAIA CLINICA DE PSICOLOGIA E ESPECIALIDADES ME...</td>\n",
       "      <td>100.0</td>\n",
       "    </tr>\n",
       "    <tr>\n",
       "      <th>14194</th>\n",
       "      <td>CENTRO PSICOTERAPICO LTDA</td>\n",
       "      <td>CENTRO PSICOTERAPICO LTDA</td>\n",
       "      <td>100.0</td>\n",
       "    </tr>\n",
       "    <tr>\n",
       "      <th>14631</th>\n",
       "      <td>CIPP CENTRO INTEGRADO DE PSIQUIATRIA E PSICOLO...</td>\n",
       "      <td>CIPP CENTRO INTEGRADO DE PSIQUIATRIA E PSICOLO...</td>\n",
       "      <td>100.0</td>\n",
       "    </tr>\n",
       "    <tr>\n",
       "      <th>14622</th>\n",
       "      <td>WHBOT SAUDE PLENA E MEDICINA LTDA</td>\n",
       "      <td>WHBOT SAUDE PLENA E MEDICINA LTDA</td>\n",
       "      <td>100.0</td>\n",
       "    </tr>\n",
       "    <tr>\n",
       "      <th>14584</th>\n",
       "      <td>PACTO POA PROGRAMA DE AUXILIO COMUNITARIO TERA...</td>\n",
       "      <td>PACTO POA PROGRAMA DE AUXILIO COMUNITARIO TERA...</td>\n",
       "      <td>100.0</td>\n",
       "    </tr>\n",
       "    <tr>\n",
       "      <th>...</th>\n",
       "      <td>...</td>\n",
       "      <td>...</td>\n",
       "      <td>...</td>\n",
       "    </tr>\n",
       "    <tr>\n",
       "      <th>7150</th>\n",
       "      <td>CSM CENTRO ESPECIALIZADO EM SAUDE MENTAL E GER...</td>\n",
       "      <td>CSM CENTRO ESPECIALIZADO EM SAUDE MENTAL E GER...</td>\n",
       "      <td>100.0</td>\n",
       "    </tr>\n",
       "    <tr>\n",
       "      <th>6997</th>\n",
       "      <td>CENTRO MEDICO MADRID LTDA</td>\n",
       "      <td>CENTRO MEDICO MADRID LTDA</td>\n",
       "      <td>100.0</td>\n",
       "    </tr>\n",
       "    <tr>\n",
       "      <th>6987</th>\n",
       "      <td>UP UNIDADE DE PSQUIATRIA LTDA EPP</td>\n",
       "      <td>UP UNIDADE DE PSQUIATRIA LTDA EPP</td>\n",
       "      <td>100.0</td>\n",
       "    </tr>\n",
       "    <tr>\n",
       "      <th>6914</th>\n",
       "      <td>CLIMEPE CLINICA DE MEDICINA PSICOLOGIA E ESP LTDA</td>\n",
       "      <td>CLIMEPE CLINICA DE MEDICINA PSICOLOGIA E ESP LTDA</td>\n",
       "      <td>100.0</td>\n",
       "    </tr>\n",
       "    <tr>\n",
       "      <th>21000</th>\n",
       "      <td>CENTRO DE CONVIVENCIA E ATENCAO PSICOSSOCIAL LTDA</td>\n",
       "      <td>CENTRO DE CONVIVENCIA E ATENCAO PSICOSSOCIAL LTDA</td>\n",
       "      <td>100.0</td>\n",
       "    </tr>\n",
       "  </tbody>\n",
       "</table>\n",
       "<p>400 rows × 3 columns</p>\n",
       "</div>"
      ],
      "text/plain": [
       "                                            Razão Social  \\\n",
       "140    GAIA CLINICA DE PSICOLOGIA E ESPECIALIDADES ME...   \n",
       "14194                          CENTRO PSICOTERAPICO LTDA   \n",
       "14631  CIPP CENTRO INTEGRADO DE PSIQUIATRIA E PSICOLO...   \n",
       "14622                  WHBOT SAUDE PLENA E MEDICINA LTDA   \n",
       "14584  PACTO POA PROGRAMA DE AUXILIO COMUNITARIO TERA...   \n",
       "...                                                  ...   \n",
       "7150   CSM CENTRO ESPECIALIZADO EM SAUDE MENTAL E GER...   \n",
       "6997                           CENTRO MEDICO MADRID LTDA   \n",
       "6987                   UP UNIDADE DE PSQUIATRIA LTDA EPP   \n",
       "6914   CLIMEPE CLINICA DE MEDICINA PSICOLOGIA E ESP LTDA   \n",
       "21000  CENTRO DE CONVIVENCIA E ATENCAO PSICOSSOCIAL LTDA   \n",
       "\n",
       "                                 Razao_Social_transunion  \\\n",
       "140    GAIA CLINICA DE PSICOLOGIA E ESPECIALIDADES ME...   \n",
       "14194                          CENTRO PSICOTERAPICO LTDA   \n",
       "14631  CIPP CENTRO INTEGRADO DE PSIQUIATRIA E PSICOLO...   \n",
       "14622                  WHBOT SAUDE PLENA E MEDICINA LTDA   \n",
       "14584  PACTO POA PROGRAMA DE AUXILIO COMUNITARIO TERA...   \n",
       "...                                                  ...   \n",
       "7150   CSM CENTRO ESPECIALIZADO EM SAUDE MENTAL E GER...   \n",
       "6997                           CENTRO MEDICO MADRID LTDA   \n",
       "6987                   UP UNIDADE DE PSQUIATRIA LTDA EPP   \n",
       "6914   CLIMEPE CLINICA DE MEDICINA PSICOLOGIA E ESP LTDA   \n",
       "21000  CENTRO DE CONVIVENCIA E ATENCAO PSICOSSOCIAL LTDA   \n",
       "\n",
       "       Fuzzy_Razão_CNESvsTransunion  \n",
       "140                           100.0  \n",
       "14194                         100.0  \n",
       "14631                         100.0  \n",
       "14622                         100.0  \n",
       "14584                         100.0  \n",
       "...                             ...  \n",
       "7150                          100.0  \n",
       "6997                          100.0  \n",
       "6987                          100.0  \n",
       "6914                          100.0  \n",
       "21000                         100.0  \n",
       "\n",
       "[400 rows x 3 columns]"
      ]
     },
     "execution_count": 55,
     "metadata": {},
     "output_type": "execute_result"
    }
   ],
   "source": [
    "df[['Razão Social','Razao_Social_transunion','Fuzzy_Razão_CNESvsTransunion']][df['Razao_Social_transunion']!='nan'].sort_values(by='Fuzzy_Razão_CNESvsTransunion',ascending=False)\n"
   ]
  },
  {
   "cell_type": "code",
   "execution_count": 56,
   "metadata": {},
   "outputs": [
    {
     "name": "stdout",
     "output_type": "stream",
     "text": [
      "<class 'pandas.core.frame.DataFrame'>\n",
      "RangeIndex: 21053 entries, 0 to 21052\n",
      "Data columns (total 3 columns):\n",
      " #   Column                        Non-Null Count  Dtype  \n",
      "---  ------                        --------------  -----  \n",
      " 0   Razão Social                  21053 non-null  object \n",
      " 1   Razao_Social_transunion       21053 non-null  object \n",
      " 2   Fuzzy_Razão_CNESvsTransunion  400 non-null    float64\n",
      "dtypes: float64(1), object(2)\n",
      "memory usage: 493.6+ KB\n"
     ]
    }
   ],
   "source": [
    "df[['Razão Social','Razao_Social_transunion','Fuzzy_Razão_CNESvsTransunion']].info()"
   ]
  },
  {
   "cell_type": "code",
   "execution_count": 57,
   "metadata": {},
   "outputs": [],
   "source": [
    "df['Razao_Social_transunion'] = df['Razao_Social_transunion'].apply(lambda x: x.replace('nan',''))\n"
   ]
  },
  {
   "cell_type": "code",
   "execution_count": 58,
   "metadata": {},
   "outputs": [
    {
     "data": {
      "text/plain": [
       "100.0    400\n",
       "Name: Fuzzy_Razão_CNESvsTransunion, dtype: int64"
      ]
     },
     "execution_count": 58,
     "metadata": {},
     "output_type": "execute_result"
    },
    {
     "data": {
      "image/png": "[encoded data removed]",
      "text/plain": [
       "<Figure size 432x288 with 1 Axes>"
      ]
     },
     "metadata": {
      "needs_background": "light"
     },
     "output_type": "display_data"
    }
   ],
   "source": [
    "df[\"Fuzzy_Razão_CNESvsTransunion\"].hist(bins=20)\n",
    "df[\"Fuzzy_Razão_CNESvsTransunion\"].value_counts()\n"
   ]
  },
  {
   "cell_type": "markdown",
   "metadata": {},
   "source": [
    "# CNES vs Escavador"
   ]
  },
  {
   "cell_type": "code",
   "execution_count": 59,
   "metadata": {},
   "outputs": [
    {
     "name": "stdout",
     "output_type": "stream",
     "text": [
      "<class 'pandas.core.frame.DataFrame'>\n",
      "RangeIndex: 21053 entries, 0 to 21052\n",
      "Data columns (total 2 columns):\n",
      " #   Column          Non-Null Count  Dtype \n",
      "---  ------          --------------  ----- \n",
      " 0   Razão Social    21053 non-null  object\n",
      " 1   nome_escavador  21053 non-null  object\n",
      "dtypes: object(2)\n",
      "memory usage: 329.1+ KB\n"
     ]
    }
   ],
   "source": [
    "df[['Razão Social','nome_escavador']].info()"
   ]
  },
  {
   "cell_type": "code",
   "execution_count": 60,
   "metadata": {},
   "outputs": [
    {
     "name": "stdout",
     "output_type": "stream",
     "text": [
      "<class 'pandas.core.frame.DataFrame'>\n",
      "RangeIndex: 21053 entries, 0 to 21052\n",
      "Data columns (total 2 columns):\n",
      " #   Column          Non-Null Count  Dtype \n",
      "---  ------          --------------  ----- \n",
      " 0   Razão Social    21053 non-null  object\n",
      " 1   nome_escavador  21053 non-null  object\n",
      "dtypes: object(2)\n",
      "memory usage: 329.1+ KB\n"
     ]
    }
   ],
   "source": [
    "#Razão Social\n",
    "df[['Razão Social','nome_escavador']].info()\n",
    "df['Razão Social'] = df['Razão Social'].astype(str)\n",
    "df['nome_escavador'] = df['nome_escavador'].astype(str)\n",
    "# df[['Razão Social','nome_escavador']].sample(5)\n",
    "\n",
    "for index,row in df.iterrows():\n",
    "    if row['nome_escavador']!='nan':\n",
    "        df.loc[index, \"Fuzzy_Razão_CNESvsEscavador\"] =  fuzz.ratio(unidecode(row['Razão Social'].lower()),unidecode(row['nome_escavador'].lower()))\n",
    "#         df.loc[index, \"Fuzzy_partial_ratio_Razão_CNESvsTransunion\"] =  fuzz.partial_ratio(unidecode(row['Razão Social'].lower()),unidecode(row['nome_escavador'].lower()))\n",
    "#         df.loc[index, \"Fuzzy_token_sort_ratio_Razão_CNESvsTransunion\"] =  fuzz.token_sort_ratio(unidecode(row['Razão Social'].lower()),unidecode(row['nome_escavador'].lower()))\n",
    "#         df.loc[index, \"Fuzzy_token_set_ratio_Razão_CNESvsTransunion\"] =  fuzz.token_set_ratio(unidecode(row['Razão Social'].lower()),unidecode(row['nome_escavador'].lower()))\n",
    "# df[['Razão Social','nome_escavador','Fuzzy_Razão_CNESvsTransunion',\"Fuzzy_partial_ratio_Razão_CNESvsTransunion\",\"Fuzzy_token_sort_ratio_Razão_CNESvsTransunion\",\"Fuzzy_token_set_ratio_Razão_CNESvsTransunion\"]][df['nome_escavador']!='nan'].sort_values(by='Fuzzy_Razão_CNESvsTransunion',ascending=False)"
   ]
  },
  {
   "cell_type": "code",
   "execution_count": 61,
   "metadata": {},
   "outputs": [
    {
     "name": "stdout",
     "output_type": "stream",
     "text": [
      "<class 'pandas.core.frame.DataFrame'>\n",
      "RangeIndex: 21053 entries, 0 to 21052\n",
      "Data columns (total 3 columns):\n",
      " #   Column                       Non-Null Count  Dtype  \n",
      "---  ------                       --------------  -----  \n",
      " 0   Razão Social                 21053 non-null  object \n",
      " 1   nome_escavador               21053 non-null  object \n",
      " 2   Fuzzy_Razão_CNESvsEscavador  21053 non-null  float64\n",
      "dtypes: float64(1), object(2)\n",
      "memory usage: 493.6+ KB\n"
     ]
    }
   ],
   "source": [
    "df[['Razão Social','nome_escavador',\"Fuzzy_Razão_CNESvsEscavador\"]].info()\n"
   ]
  },
  {
   "cell_type": "code",
   "execution_count": 62,
   "metadata": {},
   "outputs": [
    {
     "data": {
      "text/plain": [
       "100.0    18321\n",
       "98.0       680\n",
       "97.0       456\n",
       "96.0       219\n",
       "95.0       192\n",
       "         ...  \n",
       "51.0         1\n",
       "14.0         1\n",
       "18.0         1\n",
       "26.0         1\n",
       "22.0         1\n",
       "Name: Fuzzy_Razão_CNESvsEscavador, Length: 77, dtype: int64"
      ]
     },
     "execution_count": 62,
     "metadata": {},
     "output_type": "execute_result"
    },
    {
     "data": {
      "image/png": "[encoded data removed]",
      "text/plain": [
       "<Figure size 432x288 with 1 Axes>"
      ]
     },
     "metadata": {
      "needs_background": "light"
     },
     "output_type": "display_data"
    }
   ],
   "source": [
    "df[\"Fuzzy_Razão_CNESvsEscavador\"].hist(bins=100)\n",
    "df[\"Fuzzy_Razão_CNESvsEscavador\"].value_counts()"
   ]
  },
  {
   "cell_type": "markdown",
   "metadata": {},
   "source": [
    "# Extraindo a base"
   ]
  },
  {
   "cell_type": "code",
   "execution_count": 63,
   "metadata": {},
   "outputs": [],
   "source": [
    "df.to_csv(r'App\\base3.csv',index=False)"
   ]
  }
 ],
 "metadata": {
  "interpreter": {
   "hash": "21b8f758fb4715b4b81f2c423d88e7315ea58c9a3d8976542b4ef22d08a865e7"
  },
  "kernelspec": {
   "display_name": "Python 3.8.8 ('Data_Science')",
   "language": "python",
   "name": "python3"
  },
  "language_info": {
   "codemirror_mode": {
    "name": "ipython",
    "version": 3
   },
   "file_extension": ".py",
   "mimetype": "text/x-python",
   "name": "python",
   "nbconvert_exporter": "python",
   "pygments_lexer": "ipython3",
   "version": "3.8.8"
  },
  "orig_nbformat": 4
 },
 "nbformat": 4,
 "nbformat_minor": 2
}
