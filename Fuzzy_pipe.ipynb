{
 "cells": [
  {
   "cell_type": "code",
   "execution_count": 1,
   "metadata": {},
   "outputs": [
    {
     "name": "stderr",
     "output_type": "stream",
     "text": [
      "c:\\Users\\Renato\\anaconda3\\envs\\Data_Science\\lib\\site-packages\\fuzzywuzzy\\fuzz.py:11: UserWarning: Using slow pure-python SequenceMatcher. Install python-Levenshtein to remove this warning\n",
      "  warnings.warn('Using slow pure-python SequenceMatcher. Install python-Levenshtein to remove this warning')\n"
     ]
    }
   ],
   "source": [
    "import pandas as pd\n",
    "import missingno as msno\n",
    "from fuzzywuzzy import fuzz\n",
    "from unidecode import unidecode"
   ]
  },
  {
   "cell_type": "code",
   "execution_count": 2,
   "metadata": {},
   "outputs": [],
   "source": [
    "# Pipe para receber base consolidada e criar colunas de fuzzy, inclui regras que eliminam dados caso fuzzy tenha score baixo\n",
    "# [ ] = CNES vs RF (falta CNPJ)\n",
    "# [ ] = CNES vs Google Places (falta NOME)"
   ]
  },
  {
   "cell_type": "code",
   "execution_count": 3,
   "metadata": {},
   "outputs": [
    {
     "name": "stderr",
     "output_type": "stream",
     "text": [
      "<ipython-input-3-dd13301c0222>:1: DtypeWarning: Columns (92,93,123,153,155,156,180) have mixed types. Specify dtype option on import or set low_memory=False.\n",
      "  df = pd.read_csv(r'App\\base.csv', sep = ';', encoding = 'latin1')\n"
     ]
    }
   ],
   "source": [
    "df = pd.read_csv(r'App\\base.csv', sep = ';', encoding = 'latin1')"
   ]
  },
  {
   "cell_type": "markdown",
   "metadata": {},
   "source": [
    "CNES vs RF"
   ]
  },
  {
   "cell_type": "code",
   "execution_count": 4,
   "metadata": {},
   "outputs": [
    {
     "name": "stdout",
     "output_type": "stream",
     "text": [
      "<class 'pandas.core.frame.DataFrame'>\n",
      "RangeIndex: 21053 entries, 0 to 21052\n",
      "Data columns (total 2 columns):\n",
      " #   Column         Non-Null Count  Dtype \n",
      "---  ------         --------------  ----- \n",
      " 0   Nome Fantasia  21053 non-null  object\n",
      " 1   fantasia       13688 non-null  object\n",
      "dtypes: object(2)\n",
      "memory usage: 329.1+ KB\n"
     ]
    },
    {
     "data": {
      "text/html": [
       "<div>\n",
       "<style scoped>\n",
       "    .dataframe tbody tr th:only-of-type {\n",
       "        vertical-align: middle;\n",
       "    }\n",
       "\n",
       "    .dataframe tbody tr th {\n",
       "        vertical-align: top;\n",
       "    }\n",
       "\n",
       "    .dataframe thead th {\n",
       "        text-align: right;\n",
       "    }\n",
       "</style>\n",
       "<table border=\"1\" class=\"dataframe\">\n",
       "  <thead>\n",
       "    <tr style=\"text-align: right;\">\n",
       "      <th></th>\n",
       "      <th>Nome Fantasia</th>\n",
       "      <th>fantasia</th>\n",
       "      <th>Fuzzy_Fantasia_CNESvsRF</th>\n",
       "    </tr>\n",
       "  </thead>\n",
       "  <tbody>\n",
       "    <tr>\n",
       "      <th>0</th>\n",
       "      <td>CENTRAL IMAGEM CLINICA MEDICA</td>\n",
       "      <td>CENTRAL IMAGEM CLINICA MEDICA</td>\n",
       "      <td>100.0</td>\n",
       "    </tr>\n",
       "    <tr>\n",
       "      <th>12374</th>\n",
       "      <td>ASSOCIACAO PESTALOZZI DE CUIABA</td>\n",
       "      <td>ASSOCIACAO PESTALOZZI DE CUIABA</td>\n",
       "      <td>100.0</td>\n",
       "    </tr>\n",
       "    <tr>\n",
       "      <th>12343</th>\n",
       "      <td>PSICODONTO</td>\n",
       "      <td>PSICODONTO</td>\n",
       "      <td>100.0</td>\n",
       "    </tr>\n",
       "    <tr>\n",
       "      <th>12349</th>\n",
       "      <td>CLINICA CORTEZ</td>\n",
       "      <td>CLINICA CORTEZ</td>\n",
       "      <td>100.0</td>\n",
       "    </tr>\n",
       "    <tr>\n",
       "      <th>12353</th>\n",
       "      <td>VITACLIN INTERAGINDO</td>\n",
       "      <td>VITACLIN INTERAGINDO</td>\n",
       "      <td>100.0</td>\n",
       "    </tr>\n",
       "    <tr>\n",
       "      <th>...</th>\n",
       "      <td>...</td>\n",
       "      <td>...</td>\n",
       "      <td>...</td>\n",
       "    </tr>\n",
       "    <tr>\n",
       "      <th>3283</th>\n",
       "      <td>VIDA ITU</td>\n",
       "      <td>#NOME?</td>\n",
       "      <td>0.0</td>\n",
       "    </tr>\n",
       "    <tr>\n",
       "      <th>3270</th>\n",
       "      <td>PRONEFRON</td>\n",
       "      <td>DAVITA</td>\n",
       "      <td>0.0</td>\n",
       "    </tr>\n",
       "    <tr>\n",
       "      <th>13273</th>\n",
       "      <td>CISA</td>\n",
       "      <td>PROPREV</td>\n",
       "      <td>0.0</td>\n",
       "    </tr>\n",
       "    <tr>\n",
       "      <th>19073</th>\n",
       "      <td>S E R TAUBATE</td>\n",
       "      <td>.</td>\n",
       "      <td>0.0</td>\n",
       "    </tr>\n",
       "    <tr>\n",
       "      <th>17699</th>\n",
       "      <td>CENTRO ESPECIALIZADO TERAPEUTICO INTEGRADO</td>\n",
       "      <td>-</td>\n",
       "      <td>0.0</td>\n",
       "    </tr>\n",
       "  </tbody>\n",
       "</table>\n",
       "<p>13688 rows × 3 columns</p>\n",
       "</div>"
      ],
      "text/plain": [
       "                                    Nome Fantasia  \\\n",
       "0                   CENTRAL IMAGEM CLINICA MEDICA   \n",
       "12374             ASSOCIACAO PESTALOZZI DE CUIABA   \n",
       "12343                                  PSICODONTO   \n",
       "12349                              CLINICA CORTEZ   \n",
       "12353                        VITACLIN INTERAGINDO   \n",
       "...                                           ...   \n",
       "3283                                     VIDA ITU   \n",
       "3270                                    PRONEFRON   \n",
       "13273                                        CISA   \n",
       "19073                               S E R TAUBATE   \n",
       "17699  CENTRO ESPECIALIZADO TERAPEUTICO INTEGRADO   \n",
       "\n",
       "                              fantasia  Fuzzy_Fantasia_CNESvsRF  \n",
       "0        CENTRAL IMAGEM CLINICA MEDICA                    100.0  \n",
       "12374  ASSOCIACAO PESTALOZZI DE CUIABA                    100.0  \n",
       "12343                       PSICODONTO                    100.0  \n",
       "12349                   CLINICA CORTEZ                    100.0  \n",
       "12353             VITACLIN INTERAGINDO                    100.0  \n",
       "...                                ...                      ...  \n",
       "3283                            #NOME?                      0.0  \n",
       "3270                            DAVITA                      0.0  \n",
       "13273                          PROPREV                      0.0  \n",
       "19073                                .                      0.0  \n",
       "17699                                -                      0.0  \n",
       "\n",
       "[13688 rows x 3 columns]"
      ]
     },
     "execution_count": 4,
     "metadata": {},
     "output_type": "execute_result"
    }
   ],
   "source": [
    "# Nome Fantasia\n",
    "df[['Nome Fantasia','fantasia']].info()#muitos nomes fantasias da RF nulos\n",
    "df['Nome Fantasia'] = df['Nome Fantasia'].astype(str)\n",
    "df['fantasia'] = df['fantasia'].astype(str)\n",
    "for index,row in df.iterrows():\n",
    "    if row['fantasia']:\n",
    "        df.loc[index, \"Fuzzy_Fantasia_CNESvsRF\"] =  fuzz.ratio(unidecode(row['Nome Fantasia'].lower()),unidecode(row['fantasia'].lower()))\n",
    "        # df.loc[index, \"Fuzzy_partial_ratio_Fantasia_CNESvsRF\"] =  fuzz.partial_ratio(unidecode(row['Nome Fantasia'].lower()),unidecode(row['fantasia'].lower()))\n",
    "        # df.loc[index, \"Fuzzy_token_sort_ratio_Fantasia_CNESvsRF\"] =  fuzz.token_sort_ratio(unidecode(row['Nome Fantasia'].lower()),unidecode(row['fantasia'].lower()))\n",
    "        # df.loc[index, \"Fuzzy_token_set_ratio_Fantasia_CNESvsRF\"] =  fuzz.token_set_ratio(unidecode(row['Nome Fantasia'].lower()),unidecode(row['fantasia'].lower()))\n",
    "df[['Nome Fantasia','fantasia','Fuzzy_Fantasia_CNESvsRF']][df['fantasia']!='nan'].sort_values(by='Fuzzy_Fantasia_CNESvsRF',ascending=False)#,\"Fuzzy_partial_ratio_Fantasia_CNESvsRF\",\"Fuzzy_token_sort_ratio_Fantasia_CNESvsRF\",\"Fuzzy_token_set_ratio_Fantasia_CNESvsRF\""
   ]
  },
  {
   "cell_type": "code",
   "execution_count": 5,
   "metadata": {},
   "outputs": [
    {
     "data": {
      "text/plain": [
       "<AxesSubplot:>"
      ]
     },
     "execution_count": 5,
     "metadata": {},
     "output_type": "execute_result"
    },
    {
     "data": {
      "image/png": "[encoded data removed]",
      "text/plain": [
       "<Figure size 432x288 with 1 Axes>"
      ]
     },
     "metadata": {
      "needs_background": "light"
     },
     "output_type": "display_data"
    }
   ],
   "source": [
    "df['Fuzzy_Fantasia_CNESvsRF'].hist(bins=20)"
   ]
  },
  {
   "cell_type": "code",
   "execution_count": 6,
   "metadata": {},
   "outputs": [
    {
     "name": "stdout",
     "output_type": "stream",
     "text": [
      "<class 'pandas.core.frame.DataFrame'>\n",
      "RangeIndex: 21053 entries, 0 to 21052\n",
      "Data columns (total 2 columns):\n",
      " #   Column        Non-Null Count  Dtype \n",
      "---  ------        --------------  ----- \n",
      " 0   Razão Social  21053 non-null  object\n",
      " 1   nome:1        21052 non-null  object\n",
      "dtypes: object(2)\n",
      "memory usage: 329.1+ KB\n"
     ]
    }
   ],
   "source": [
    "#Razão Social\n",
    "df[['Razão Social','nome:1']].info()\n",
    "df['Razão Social'] = df['Razão Social'].astype(str)\n",
    "df['nome:1'] = df['nome:1'].astype(str)\n",
    "for index,row in df.iterrows():\n",
    "    if row['nome:1']:\n",
    "        df.loc[index, \"Fuzzy_Razão_CNESvsRF\"] =  fuzz.ratio(unidecode(row['Razão Social'].lower()),unidecode(row['nome:1'].lower()))\n",
    "#         df.loc[index, \"Fuzzy_partial_ratio_Razão_CNESvsRF\"] =  fuzz.partial_ratio(unidecode(row['Razão Social'].lower()),unidecode(row['nome:1'].lower()))\n",
    "#         df.loc[index, \"Fuzzy_token_sort_ratio_Razão_CNESvsRF\"] =  fuzz.token_sort_ratio(unidecode(row['Razão Social'].lower()),unidecode(row['nome:1'].lower()))\n",
    "#         df.loc[index, \"Fuzzy_token_set_ratio_Razão_CNESvsRF\"] =  fuzz.token_set_ratio(unidecode(row['Razão Social'].lower()),unidecode(row['nome:1'].lower()))\n",
    "# df[['Razão Social','nome:1','Fuzzy_Razão_CNESvsRF',\"Fuzzy_partial_ratio_Razão_CNESvsRF\",\"Fuzzy_token_sort_ratio_Razão_CNESvsRF\",\"Fuzzy_token_set_ratio_Razão_CNESvsRF\"]][df['nome:1']!='nan'].sort_values(by='Fuzzy_Razão_CNESvsRF',ascending=False)"
   ]
  },
  {
   "cell_type": "code",
   "execution_count": 7,
   "metadata": {},
   "outputs": [
    {
     "data": {
      "text/plain": [
       "<AxesSubplot:>"
      ]
     },
     "execution_count": 7,
     "metadata": {},
     "output_type": "execute_result"
    },
    {
     "data": {
      "image/png": "[encoded data removed]",
      "text/plain": [
       "<Figure size 432x288 with 1 Axes>"
      ]
     },
     "metadata": {
      "needs_background": "light"
     },
     "output_type": "display_data"
    }
   ],
   "source": [
    "df[\"Fuzzy_Razão_CNESvsRF\"].hist(bins=20)"
   ]
  },
  {
   "cell_type": "code",
   "execution_count": 8,
   "metadata": {},
   "outputs": [
    {
     "name": "stdout",
     "output_type": "stream",
     "text": [
      "<class 'pandas.core.frame.DataFrame'>\n",
      "RangeIndex: 21053 entries, 0 to 21052\n",
      "Data columns (total 2 columns):\n",
      " #   Column      Non-Null Count  Dtype \n",
      "---  ------      --------------  ----- \n",
      " 0   Logradouro  21053 non-null  object\n",
      " 1   logradouro  19095 non-null  object\n",
      "dtypes: object(2)\n",
      "memory usage: 329.1+ KB\n"
     ]
    }
   ],
   "source": [
    "#Logradouro\n",
    "df[['Logradouro','logradouro']].info()\n",
    "df['Logradouro'] = df['Logradouro'].astype(str)\n",
    "df['logradouro'] = df['logradouro'].astype(str)\n",
    "for index,row in df.iterrows():\n",
    "    if row['logradouro']:\n",
    "        df.loc[index, \"Fuzzy_Logradouro_CNESvsRF\"] =  fuzz.ratio(unidecode(row['Logradouro'].lower()),unidecode(row['logradouro'].lower()))\n",
    "#         df.loc[index, \"Fuzzy_partial_ratio_Logradouro_CNESvsRF\"] =  fuzz.partial_ratio(unidecode(row['Logradouro'].lower()),unidecode(row['logradouro'].lower()))\n",
    "#         df.loc[index, \"Fuzzy_token_sort_ratio_Logradouro_CNESvsRF\"] =  fuzz.token_sort_ratio(unidecode(row['Logradouro'].lower()),unidecode(row['logradouro'].lower()))\n",
    "#         df.loc[index, \"Fuzzy_token_set_ratio_Logradouro_CNESvsRF\"] =  fuzz.token_set_ratio(unidecode(row['Logradouro'].lower()),unidecode(row['logradouro'].lower()))\n",
    "# df[['Logradouro','logradouro','Fuzzy_Logradouro_CNESvsRF',\"Fuzzy_partial_ratio_Logradouro_CNESvsRF\",\"Fuzzy_token_sort_ratio_Logradouro_CNESvsRF\",\"Fuzzy_token_set_ratio_Logradouro_CNESvsRF\"]][df['logradouro']!='nan'].sort_values(by='Fuzzy_Logradouro_CNESvsRF',ascending=False)"
   ]
  },
  {
   "cell_type": "code",
   "execution_count": 9,
   "metadata": {},
   "outputs": [
    {
     "data": {
      "text/plain": [
       "<AxesSubplot:>"
      ]
     },
     "execution_count": 9,
     "metadata": {},
     "output_type": "execute_result"
    },
    {
     "data": {
      "image/png": "[encoded data removed]",
      "text/plain": [
       "<Figure size 432x288 with 1 Axes>"
      ]
     },
     "metadata": {
      "needs_background": "light"
     },
     "output_type": "display_data"
    }
   ],
   "source": [
    "df[\"Fuzzy_Logradouro_CNESvsRF\"].hist(bins=20)"
   ]
  },
  {
   "cell_type": "code",
   "execution_count": 10,
   "metadata": {},
   "outputs": [
    {
     "name": "stdout",
     "output_type": "stream",
     "text": [
      "<class 'pandas.core.frame.DataFrame'>\n",
      "RangeIndex: 21053 entries, 0 to 21052\n",
      "Data columns (total 2 columns):\n",
      " #   Column              Non-Null Count  Dtype \n",
      "---  ------              --------------  ----- \n",
      " 0   Número do endereço  21049 non-null  object\n",
      " 1   numero              19084 non-null  object\n",
      "dtypes: object(2)\n",
      "memory usage: 329.1+ KB\n"
     ]
    }
   ],
   "source": [
    "#Numero do endereço\n",
    "df[['Número do endereço','numero']].info()\n",
    "df['Número do endereço'] = df['Número do endereço'].astype(str)\n",
    "df['numero'] = df['numero'].astype(str)\n",
    "for index,row in df.iterrows():\n",
    "    if row['numero']:\n",
    "        df.loc[index, \"Fuzzy_Número_CNESvsRF\"] =  fuzz.ratio(unidecode(row['Número do endereço'].lower()),unidecode(row['numero'].lower()))\n",
    "#         df.loc[index, \"Fuzzy_partial_ratio_Número_CNESvsRF\"] =  fuzz.partial_ratio(unidecode(row['Número do endereço'].lower()),unidecode(row['numero'].lower()))\n",
    "#         df.loc[index, \"Fuzzy_token_sort_ratio_Número_CNESvsRF\"] =  fuzz.token_sort_ratio(unidecode(row['Número do endereço'].lower()),unidecode(row['numero'].lower()))\n",
    "#         df.loc[index, \"Fuzzy_token_set_ratio_Número_CNESvsRF\"] =  fuzz.token_set_ratio(unidecode(row['Número do endereço'].lower()),unidecode(row['numero'].lower()))\n",
    "# df[['Número do endereço','numero','Fuzzy_Número_CNESvsRF',\"Fuzzy_partial_ratio_Número_CNESvsRF\",\"Fuzzy_token_sort_ratio_Número_CNESvsRF\",\"Fuzzy_token_set_ratio_Número_CNESvsRF\"]][df['numero']!='nan'].sort_values(by='Fuzzy_Número_CNESvsRF',ascending=False)"
   ]
  },
  {
   "cell_type": "code",
   "execution_count": 11,
   "metadata": {},
   "outputs": [
    {
     "data": {
      "text/plain": [
       "<AxesSubplot:>"
      ]
     },
     "execution_count": 11,
     "metadata": {},
     "output_type": "execute_result"
    },
    {
     "data": {
      "image/png": "[encoded data removed]",
      "text/plain": [
       "<Figure size 432x288 with 1 Axes>"
      ]
     },
     "metadata": {
      "needs_background": "light"
     },
     "output_type": "display_data"
    }
   ],
   "source": [
    "df[\"Fuzzy_Número_CNESvsRF\"].hist(bins=20)"
   ]
  },
  {
   "cell_type": "code",
   "execution_count": 12,
   "metadata": {},
   "outputs": [
    {
     "name": "stdout",
     "output_type": "stream",
     "text": [
      "<class 'pandas.core.frame.DataFrame'>\n",
      "RangeIndex: 21053 entries, 0 to 21052\n",
      "Data columns (total 2 columns):\n",
      " #   Column     Non-Null Count  Dtype \n",
      "---  ------     --------------  ----- \n",
      " 0   Município  21053 non-null  object\n",
      " 1   municipio  19094 non-null  object\n",
      "dtypes: object(2)\n",
      "memory usage: 329.1+ KB\n"
     ]
    }
   ],
   "source": [
    "#Município\n",
    "df[['Município','municipio']].info()\n",
    "df['Município'] = df['Município'].astype(str)\n",
    "df['municipio'] = df['municipio'].astype(str)\n",
    "for index,row in df.iterrows():\n",
    "    if row['municipio']:\n",
    "        df.loc[index, \"Fuzzy_Município_CNESvsRF\"] =  fuzz.ratio(unidecode(row['Município'].lower()),unidecode(row['municipio'].lower()))\n",
    "#         df.loc[index, \"Fuzzy_partial_ratio_Município_CNESvsRF\"] =  fuzz.partial_ratio(unidecode(row['Município'].lower()),unidecode(row['municipio'].lower()))\n",
    "#         df.loc[index, \"Fuzzy_token_sort_ratio_Município_CNESvsRF\"] =  fuzz.token_sort_ratio(unidecode(row['Município'].lower()),unidecode(row['municipio'].lower()))\n",
    "#         df.loc[index, \"Fuzzy_token_set_ratio_Município_CNESvsRF\"] =  fuzz.token_set_ratio(unidecode(row['Município'].lower()),unidecode(row['municipio'].lower()))\n",
    "# df[['Município','municipio','Fuzzy_Município_CNESvsRF',\"Fuzzy_partial_ratio_Município_CNESvsRF\",\"Fuzzy_token_sort_ratio_Município_CNESvsRF\",\"Fuzzy_token_set_ratio_Município_CNESvsRF\"]][df['municipio']!='nan'].sort_values(by='Fuzzy_Município_CNESvsRF',ascending=False)"
   ]
  },
  {
   "cell_type": "code",
   "execution_count": 13,
   "metadata": {},
   "outputs": [
    {
     "data": {
      "text/plain": [
       "<AxesSubplot:>"
      ]
     },
     "execution_count": 13,
     "metadata": {},
     "output_type": "execute_result"
    },
    {
     "data": {
      "image/png": "[encoded data removed]",
      "text/plain": [
       "<Figure size 432x288 with 1 Axes>"
      ]
     },
     "metadata": {
      "needs_background": "light"
     },
     "output_type": "display_data"
    }
   ],
   "source": [
    "df['Fuzzy_Município_CNESvsRF'].hist(bins=20)"
   ]
  },
  {
   "cell_type": "code",
   "execution_count": 14,
   "metadata": {},
   "outputs": [
    {
     "name": "stdout",
     "output_type": "stream",
     "text": [
      "<class 'pandas.core.frame.DataFrame'>\n",
      "RangeIndex: 21053 entries, 0 to 21052\n",
      "Data columns (total 2 columns):\n",
      " #   Column  Non-Null Count  Dtype \n",
      "---  ------  --------------  ----- \n",
      " 0   UF      21053 non-null  object\n",
      " 1   uf      19094 non-null  object\n",
      "dtypes: object(2)\n",
      "memory usage: 329.1+ KB\n"
     ]
    }
   ],
   "source": [
    "#UF\n",
    "df[['UF','uf']].info()\n",
    "df['UF'] = df['UF'].astype(str)\n",
    "df['uf'] = df['uf'].astype(str)\n",
    "for index,row in df.iterrows():\n",
    "    if row['uf']:\n",
    "        df.loc[index, \"Fuzzy_UF_CNESvsRF\"] =  fuzz.ratio(unidecode(row['UF'].lower()),unidecode(row['uf'].lower()))\n",
    "#         df.loc[index, \"Fuzzy_partial_ratio_UF_CNESvsRF\"] =  fuzz.partial_ratio(unidecode(row['UF'].lower()),unidecode(row['uf'].lower()))\n",
    "#         df.loc[index, \"Fuzzy_token_sort_ratio_UF_CNESvsRF\"] =  fuzz.token_sort_ratio(unidecode(row['UF'].lower()),unidecode(row['uf'].lower()))\n",
    "#         df.loc[index, \"Fuzzy_token_set_ratio_UF_CNESvsRF\"] =  fuzz.token_set_ratio(unidecode(row['UF'].lower()),unidecode(row['uf'].lower()))\n",
    "# df[['UF','uf','Fuzzy_UF_CNESvsRF',\"Fuzzy_partial_ratio_UF_CNESvsRF\",\"Fuzzy_token_sort_ratio_UF_CNESvsRF\",\"Fuzzy_token_set_ratio_UF_CNESvsRF\"]][df['uf']!='nan'].sort_values(by='Fuzzy_UF_CNESvsRF',ascending=False)"
   ]
  },
  {
   "cell_type": "code",
   "execution_count": 15,
   "metadata": {},
   "outputs": [
    {
     "data": {
      "text/plain": [
       "<AxesSubplot:>"
      ]
     },
     "execution_count": 15,
     "metadata": {},
     "output_type": "execute_result"
    },
    {
     "data": {
      "image/png": "[encoded data removed]",
      "text/plain": [
       "<Figure size 432x288 with 1 Axes>"
      ]
     },
     "metadata": {
      "needs_background": "light"
     },
     "output_type": "display_data"
    }
   ],
   "source": [
    "df['Fuzzy_UF_CNESvsRF'].hist(bins=20)"
   ]
  },
  {
   "cell_type": "markdown",
   "metadata": {},
   "source": [
    "## CNES vs Google Places"
   ]
  },
  {
   "cell_type": "code",
   "execution_count": 16,
   "metadata": {},
   "outputs": [],
   "source": [
    "# df[['PARAM_NOME','Nome Fantasia','Razão Social']][df['PARAM_NOME'].notnull()].sample(5)\n",
    "# (df['PARAM_NOME']==df['Nome Fantasia']).value_counts()"
   ]
  },
  {
   "cell_type": "code",
   "execution_count": 17,
   "metadata": {},
   "outputs": [
    {
     "name": "stdout",
     "output_type": "stream",
     "text": [
      "<class 'pandas.core.frame.DataFrame'>\n",
      "RangeIndex: 21053 entries, 0 to 21052\n",
      "Data columns (total 2 columns):\n",
      " #   Column            Non-Null Count  Dtype \n",
      "---  ------            --------------  ----- \n",
      " 0   Nome Fantasia     21053 non-null  object\n",
      " 1   gmapsCompanyName  265 non-null    object\n",
      "dtypes: object(2)\n",
      "memory usage: 329.1+ KB\n"
     ]
    }
   ],
   "source": [
    "df[['Nome Fantasia','gmapsCompanyName']].info()\n",
    "df['Nome Fantasia'] = df['Nome Fantasia'].astype(str)\n",
    "df['gmapsCompanyName'] = df['gmapsCompanyName'].astype(str)\n",
    "for index,row in df.iterrows():\n",
    "    if row['gmapsCompanyName']:\n",
    "        df.loc[index, \"Fuzzy_Nome_CNESvsGMN\"] =  fuzz.ratio(unidecode(row['Nome Fantasia'].lower()),unidecode(row['gmapsCompanyName'].lower()))\n",
    "#         df.loc[index, \"Fuzzy_partial_ratio_Nome_CNESvsGMN\"] =  fuzz.partial_ratio(unidecode(row['Nome Fantasia'].lower()),unidecode(row['gmapsCompanyName'].lower()))\n",
    "#         df.loc[index, \"Fuzzy_token_sort_ratio_Nome_CNESvsGMN\"] =  fuzz.token_sort_ratio(unidecode(row['Nome Fantasia'].lower()),unidecode(row['gmapsCompanyName'].lower()))\n",
    "#         df.loc[index, \"Fuzzy_token_set_ratio_Nome_CNESvsGMN\"] =  fuzz.token_set_ratio(unidecode(row['Nome Fantasia'].lower()),unidecode(row['gmapsCompanyName'].lower()))\n",
    "# df[['Nome Fantasia','gmapsCompanyName','Fuzzy_Nome_CNESvsGMN',\"Fuzzy_partial_ratio_Nome_CNESvsGMN\",\"Fuzzy_token_sort_ratio_Nome_CNESvsGMN\",\"Fuzzy_token_set_ratio_Nome_CNESvsGMN\"]][df['gmapsCompanyName']!='nan'].sort_values(by='Fuzzy_Nome_CNESvsGMN',ascending=False)"
   ]
  },
  {
   "cell_type": "code",
   "execution_count": 18,
   "metadata": {},
   "outputs": [
    {
     "data": {
      "text/plain": [
       "<AxesSubplot:>"
      ]
     },
     "execution_count": 18,
     "metadata": {},
     "output_type": "execute_result"
    },
    {
     "data": {
      "image/png": "[encoded data removed]",
      "text/plain": [
       "<Figure size 432x288 with 1 Axes>"
      ]
     },
     "metadata": {
      "needs_background": "light"
     },
     "output_type": "display_data"
    }
   ],
   "source": [
    "df[\"Fuzzy_Nome_CNESvsGMN\"].hist(bins=20)\n",
    "# df[\"Fuzzy_Nome_CNESvsGMN\"].value_counts()"
   ]
  },
  {
   "cell_type": "code",
   "execution_count": 19,
   "metadata": {},
   "outputs": [],
   "source": [
    "# df[['PARAM_NOME','gmapsCompanyName']].info()\n",
    "# df['PARAM_NOME'] = df['PARAM_NOME'].astype(str)\n",
    "# df['gmapsCompanyName'] = df['gmapsCompanyName'].astype(str)\n",
    "# for index,row in df.iterrows():\n",
    "#     if row['gmapsCompanyName']:\n",
    "#         df.loc[index, \"Fuzzy_Nome_CNESvsGMN\"] =  fuzz.ratio(unidecode(row['PARAM_NOME'].lower()),unidecode(row['gmapsCompanyName'].lower()))\n",
    "#         df.loc[index, \"Fuzzy_partial_ratio_Nome_CNESvsGMN\"] =  fuzz.partial_ratio(unidecode(row['PARAM_NOME'].lower()),unidecode(row['gmapsCompanyName'].lower()))\n",
    "#         df.loc[index, \"Fuzzy_token_sort_ratio_Nome_CNESvsGMN\"] =  fuzz.token_sort_ratio(unidecode(row['PARAM_NOME'].lower()),unidecode(row['gmapsCompanyName'].lower()))\n",
    "#         df.loc[index, \"Fuzzy_token_set_ratio_Nome_CNESvsGMN\"] =  fuzz.token_set_ratio(unidecode(row['PARAM_NOME'].lower()),unidecode(row['gmapsCompanyName'].lower()))\n",
    "# df[['PARAM_NOME','gmapsCompanyName','Fuzzy_Nome_CNESvsGMN',\"Fuzzy_partial_ratio_Nome_CNESvsGMN\",\"Fuzzy_token_sort_ratio_Nome_CNESvsGMN\",\"Fuzzy_token_set_ratio_Nome_CNESvsGMN\"]][df['gmapsCompanyName']!='nan'].sort_values(by='Fuzzy_Nome_CNESvsGMN',ascending=False)"
   ]
  },
  {
   "cell_type": "code",
   "execution_count": 29,
   "metadata": {},
   "outputs": [
    {
     "data": {
      "text/plain": [
       "['Rua Professor Dias da Rocha', ' 2192 - Dionísio']"
      ]
     },
     "execution_count": 29,
     "metadata": {},
     "output_type": "execute_result"
    }
   ],
   "source": [
    "teste='Rua Professor Dias da Rocha, 2192 - Dionísio'\n",
    "teste.split(',')"
   ]
  },
  {
   "cell_type": "code",
   "execution_count": 44,
   "metadata": {},
   "outputs": [
    {
     "data": {
      "text/html": [
       "<div>\n",
       "<style scoped>\n",
       "    .dataframe tbody tr th:only-of-type {\n",
       "        vertical-align: middle;\n",
       "    }\n",
       "\n",
       "    .dataframe tbody tr th {\n",
       "        vertical-align: top;\n",
       "    }\n",
       "\n",
       "    .dataframe thead th {\n",
       "        text-align: right;\n",
       "    }\n",
       "</style>\n",
       "<table border=\"1\" class=\"dataframe\">\n",
       "  <thead>\n",
       "    <tr style=\"text-align: right;\">\n",
       "      <th></th>\n",
       "      <th>gmapsStreet</th>\n",
       "      <th>gmapsNumber</th>\n",
       "    </tr>\n",
       "  </thead>\n",
       "  <tbody>\n",
       "    <tr>\n",
       "      <th>140</th>\n",
       "      <td>Rua Professor Dias da Rocha</td>\n",
       "      <td>2192</td>\n",
       "    </tr>\n",
       "    <tr>\n",
       "      <th>154</th>\n",
       "      <td>R. José Félix de Oliveira</td>\n",
       "      <td>1914</td>\n",
       "    </tr>\n",
       "    <tr>\n",
       "      <th>857</th>\n",
       "      <td>Av. T-3</td>\n",
       "      <td>600</td>\n",
       "    </tr>\n",
       "    <tr>\n",
       "      <th>1003</th>\n",
       "      <td>Praça da Bandeira</td>\n",
       "      <td>170</td>\n",
       "    </tr>\n",
       "    <tr>\n",
       "      <th>1101</th>\n",
       "      <td>R. Princesa Isabel de Bragança</td>\n",
       "      <td>230</td>\n",
       "    </tr>\n",
       "    <tr>\n",
       "      <th>...</th>\n",
       "      <td>...</td>\n",
       "      <td>...</td>\n",
       "    </tr>\n",
       "    <tr>\n",
       "      <th>20427</th>\n",
       "      <td>R. Gil Veloso</td>\n",
       "      <td>377</td>\n",
       "    </tr>\n",
       "    <tr>\n",
       "      <th>20601</th>\n",
       "      <td>Asa Norte Comércio Local Norte 110 BL A QUADRA...</td>\n",
       "      <td>DF</td>\n",
       "    </tr>\n",
       "    <tr>\n",
       "      <th>20667</th>\n",
       "      <td>R. 8</td>\n",
       "      <td>2066</td>\n",
       "    </tr>\n",
       "    <tr>\n",
       "      <th>20922</th>\n",
       "      <td>Av. do Batel</td>\n",
       "      <td>1868</td>\n",
       "    </tr>\n",
       "    <tr>\n",
       "      <th>21000</th>\n",
       "      <td>Rod. p/ Cidade Eclética</td>\n",
       "      <td>11</td>\n",
       "    </tr>\n",
       "  </tbody>\n",
       "</table>\n",
       "<p>259 rows × 2 columns</p>\n",
       "</div>"
      ],
      "text/plain": [
       "                                             gmapsStreet gmapsNumber\n",
       "140                          Rua Professor Dias da Rocha        2192\n",
       "154                            R. José Félix de Oliveira        1914\n",
       "857                                              Av. T-3         600\n",
       "1003                                   Praça da Bandeira         170\n",
       "1101                      R. Princesa Isabel de Bragança         230\n",
       "...                                                  ...         ...\n",
       "20427                                      R. Gil Veloso         377\n",
       "20601  Asa Norte Comércio Local Norte 110 BL A QUADRA...          DF\n",
       "20667                                               R. 8        2066\n",
       "20922                                       Av. do Batel        1868\n",
       "21000                            Rod. p/ Cidade Eclética          11\n",
       "\n",
       "[259 rows x 2 columns]"
      ]
     },
     "execution_count": 44,
     "metadata": {},
     "output_type": "execute_result"
    }
   ],
   "source": [
    "df['gmapsAddress'][df['gmapsAddress'].notnull()]\n",
    "df['gmapsStreet'] = df['gmapsAddress'].str.split(',').str[0]\n",
    "df['gmapsNumber'] = df['gmapsAddress'].str.split(',').str[1].str.split(' - ').str[0]\n",
    "df[['gmapsStreet','gmapsNumber']][df['gmapsAddress'].notnull()]"
   ]
  }
 ],
 "metadata": {
  "interpreter": {
   "hash": "21b8f758fb4715b4b81f2c423d88e7315ea58c9a3d8976542b4ef22d08a865e7"
  },
  "kernelspec": {
   "display_name": "Python 3.8.8 ('Data_Science')",
   "language": "python",
   "name": "python3"
  },
  "language_info": {
   "codemirror_mode": {
    "name": "ipython",
    "version": 3
   },
   "file_extension": ".py",
   "mimetype": "text/x-python",
   "name": "python",
   "nbconvert_exporter": "python",
   "pygments_lexer": "ipython3",
   "version": "3.8.8"
  },
  "orig_nbformat": 4
 },
 "nbformat": 4,
 "nbformat_minor": 2
}
