{
 "cells": [
  {
   "cell_type": "code",
   "execution_count": 1,
   "metadata": {},
   "outputs": [
    {
     "name": "stderr",
     "output_type": "stream",
     "text": [
      "c:\\Users\\Renato\\anaconda3\\envs\\Data_Science\\lib\\site-packages\\fuzzywuzzy\\fuzz.py:11: UserWarning: Using slow pure-python SequenceMatcher. Install python-Levenshtein to remove this warning\n",
      "  warnings.warn('Using slow pure-python SequenceMatcher. Install python-Levenshtein to remove this warning')\n"
     ]
    }
   ],
   "source": [
    "import pandas as pd\n",
    "import missingno as msno\n",
    "from fuzzywuzzy import fuzz\n",
    "from unidecode import unidecode\n",
    "import numpy as np"
   ]
  },
  {
   "cell_type": "code",
   "execution_count": 2,
   "metadata": {},
   "outputs": [],
   "source": [
    "# Pipe para receber base consolidada e criar colunas de fuzzy, inclui regras que eliminam dados caso fuzzy tenha score baixo\n",
    "# [X] = CNES vs RF\n",
    "# [ ] = CNES vs Google Places (falta endereço)\n",
    "# [X] = CNES vs Transunion"
   ]
  },
  {
   "cell_type": "code",
   "execution_count": 3,
   "metadata": {},
   "outputs": [
    {
     "name": "stderr",
     "output_type": "stream",
     "text": [
      "<ipython-input-3-fa86f462b955>:1: DtypeWarning: Columns (92,93,123,153,155,156,180) have mixed types. Specify dtype option on import or set low_memory=False.\n",
      "  df = pd.read_csv(r'App\\base2.csv',dtype={'cnpj': object,'CNPJ': object,'cep': object,'CEP': object,'CNPJ_8_Digitos':object})\n"
     ]
    }
   ],
   "source": [
    "df = pd.read_csv(r'App\\base2.csv',dtype={'cnpj': object,'CNPJ': object,'cep': object,'CEP': object,'CNPJ_8_Digitos':object})"
   ]
  },
  {
   "cell_type": "markdown",
   "metadata": {},
   "source": [
    "CNES vs RF"
   ]
  },
  {
   "cell_type": "code",
   "execution_count": 4,
   "metadata": {},
   "outputs": [
    {
     "name": "stdout",
     "output_type": "stream",
     "text": [
      "<class 'pandas.core.frame.DataFrame'>\n",
      "RangeIndex: 21053 entries, 0 to 21052\n",
      "Data columns (total 2 columns):\n",
      " #   Column  Non-Null Count  Dtype \n",
      "---  ------  --------------  ----- \n",
      " 0   CNPJ    21053 non-null  object\n",
      " 1   cnpj    21053 non-null  object\n",
      "dtypes: object(2)\n",
      "memory usage: 329.1+ KB\n"
     ]
    }
   ],
   "source": [
    "#CNPJ\n",
    "df[['CNPJ','cnpj']].info()\n",
    "for index,row in df.iterrows():\n",
    "    # if row['cnpj']:\n",
    "    df.loc[index, \"Fuzzy_CNPJ_CNESvsRF\"] =  fuzz.ratio(unidecode(row['CNPJ'].lower()),unidecode(row['cnpj'].lower()))\n",
    "    # df.loc[index, \"Fuzzy_partial_ratio_CNPJ_CNESvsRF\"] =  fuzz.partial_ratio(unidecode(row['CNPJ'].lower()),unidecode(row['cnpj'].lower()))\n",
    "    # df.loc[index, \"Fuzzy_token_sort_ratio_CNPJ_CNESvsRF\"] =  fuzz.token_sort_ratio(unidecode(row['CNPJ'].lower()),unidecode(row['cnpj'].lower()))\n",
    "    # df.loc[index, \"Fuzzy_token_set_ratio_CNPJ_CNESvsRF\"] =  fuzz.token_set_ratio(unidecode(row['CNPJ'].lower()),unidecode(row['cnpj'].lower()))\n",
    "# df[['CNPJ','cnpj','Fuzzy_CNPJ_CNESvsRF']].sort_values(by='Fuzzy_CNPJ_CNESvsRF',ascending=False).head()#,\"Fuzzy_partial_ratio_Fantasia_CNESvsRF\",\"Fuzzy_token_sort_ratio_Fantasia_CNESvsRF\",\"Fuzzy_token_set_ratio_Fantasia_CNESvsRF\""
   ]
  },
  {
   "cell_type": "code",
   "execution_count": 5,
   "metadata": {},
   "outputs": [
    {
     "data": {
      "text/plain": [
       "100.0    21053\n",
       "Name: Fuzzy_CNPJ_CNESvsRF, dtype: int64"
      ]
     },
     "execution_count": 5,
     "metadata": {},
     "output_type": "execute_result"
    }
   ],
   "source": [
    "df[\"Fuzzy_CNPJ_CNESvsRF\"].value_counts()"
   ]
  },
  {
   "cell_type": "code",
   "execution_count": 6,
   "metadata": {},
   "outputs": [
    {
     "name": "stdout",
     "output_type": "stream",
     "text": [
      "<class 'pandas.core.frame.DataFrame'>\n",
      "RangeIndex: 21053 entries, 0 to 21052\n",
      "Data columns (total 2 columns):\n",
      " #   Column         Non-Null Count  Dtype \n",
      "---  ------         --------------  ----- \n",
      " 0   Nome Fantasia  21053 non-null  object\n",
      " 1   fantasia       13688 non-null  object\n",
      "dtypes: object(2)\n",
      "memory usage: 329.1+ KB\n"
     ]
    },
    {
     "data": {
      "text/html": [
       "<div>\n",
       "<style scoped>\n",
       "    .dataframe tbody tr th:only-of-type {\n",
       "        vertical-align: middle;\n",
       "    }\n",
       "\n",
       "    .dataframe tbody tr th {\n",
       "        vertical-align: top;\n",
       "    }\n",
       "\n",
       "    .dataframe thead th {\n",
       "        text-align: right;\n",
       "    }\n",
       "</style>\n",
       "<table border=\"1\" class=\"dataframe\">\n",
       "  <thead>\n",
       "    <tr style=\"text-align: right;\">\n",
       "      <th></th>\n",
       "      <th>Nome Fantasia</th>\n",
       "      <th>fantasia</th>\n",
       "      <th>Fuzzy_Fantasia_CNESvsRF</th>\n",
       "    </tr>\n",
       "  </thead>\n",
       "  <tbody>\n",
       "    <tr>\n",
       "      <th>0</th>\n",
       "      <td>CENTRAL IMAGEM CLINICA MEDICA</td>\n",
       "      <td>CENTRAL IMAGEM CLINICA MEDICA</td>\n",
       "      <td>100.0</td>\n",
       "    </tr>\n",
       "    <tr>\n",
       "      <th>12374</th>\n",
       "      <td>ASSOCIACAO PESTALOZZI DE CUIABA</td>\n",
       "      <td>ASSOCIACAO PESTALOZZI DE CUIABA</td>\n",
       "      <td>100.0</td>\n",
       "    </tr>\n",
       "    <tr>\n",
       "      <th>12343</th>\n",
       "      <td>PSICODONTO</td>\n",
       "      <td>PSICODONTO</td>\n",
       "      <td>100.0</td>\n",
       "    </tr>\n",
       "    <tr>\n",
       "      <th>12349</th>\n",
       "      <td>CLINICA CORTEZ</td>\n",
       "      <td>CLINICA CORTEZ</td>\n",
       "      <td>100.0</td>\n",
       "    </tr>\n",
       "    <tr>\n",
       "      <th>12353</th>\n",
       "      <td>VITACLIN INTERAGINDO</td>\n",
       "      <td>VITACLIN INTERAGINDO</td>\n",
       "      <td>100.0</td>\n",
       "    </tr>\n",
       "    <tr>\n",
       "      <th>...</th>\n",
       "      <td>...</td>\n",
       "      <td>...</td>\n",
       "      <td>...</td>\n",
       "    </tr>\n",
       "    <tr>\n",
       "      <th>3283</th>\n",
       "      <td>VIDA ITU</td>\n",
       "      <td>#NOME?</td>\n",
       "      <td>0.0</td>\n",
       "    </tr>\n",
       "    <tr>\n",
       "      <th>3270</th>\n",
       "      <td>PRONEFRON</td>\n",
       "      <td>DAVITA</td>\n",
       "      <td>0.0</td>\n",
       "    </tr>\n",
       "    <tr>\n",
       "      <th>13273</th>\n",
       "      <td>CISA</td>\n",
       "      <td>PROPREV</td>\n",
       "      <td>0.0</td>\n",
       "    </tr>\n",
       "    <tr>\n",
       "      <th>19073</th>\n",
       "      <td>S E R TAUBATE</td>\n",
       "      <td>.</td>\n",
       "      <td>0.0</td>\n",
       "    </tr>\n",
       "    <tr>\n",
       "      <th>17699</th>\n",
       "      <td>CENTRO ESPECIALIZADO TERAPEUTICO INTEGRADO</td>\n",
       "      <td>-</td>\n",
       "      <td>0.0</td>\n",
       "    </tr>\n",
       "  </tbody>\n",
       "</table>\n",
       "<p>13688 rows × 3 columns</p>\n",
       "</div>"
      ],
      "text/plain": [
       "                                    Nome Fantasia  \\\n",
       "0                   CENTRAL IMAGEM CLINICA MEDICA   \n",
       "12374             ASSOCIACAO PESTALOZZI DE CUIABA   \n",
       "12343                                  PSICODONTO   \n",
       "12349                              CLINICA CORTEZ   \n",
       "12353                        VITACLIN INTERAGINDO   \n",
       "...                                           ...   \n",
       "3283                                     VIDA ITU   \n",
       "3270                                    PRONEFRON   \n",
       "13273                                        CISA   \n",
       "19073                               S E R TAUBATE   \n",
       "17699  CENTRO ESPECIALIZADO TERAPEUTICO INTEGRADO   \n",
       "\n",
       "                              fantasia  Fuzzy_Fantasia_CNESvsRF  \n",
       "0        CENTRAL IMAGEM CLINICA MEDICA                    100.0  \n",
       "12374  ASSOCIACAO PESTALOZZI DE CUIABA                    100.0  \n",
       "12343                       PSICODONTO                    100.0  \n",
       "12349                   CLINICA CORTEZ                    100.0  \n",
       "12353             VITACLIN INTERAGINDO                    100.0  \n",
       "...                                ...                      ...  \n",
       "3283                            #NOME?                      0.0  \n",
       "3270                            DAVITA                      0.0  \n",
       "13273                          PROPREV                      0.0  \n",
       "19073                                .                      0.0  \n",
       "17699                                -                      0.0  \n",
       "\n",
       "[13688 rows x 3 columns]"
      ]
     },
     "execution_count": 6,
     "metadata": {},
     "output_type": "execute_result"
    }
   ],
   "source": [
    "# Nome Fantasia\n",
    "df[['Nome Fantasia','fantasia']].info()#muitos nomes fantasias da RF nulos\n",
    "df['Nome Fantasia'] = df['Nome Fantasia'].astype(str)\n",
    "df['fantasia'] = df['fantasia'].astype(str)\n",
    "for index,row in df.iterrows():\n",
    "    if row['fantasia']!='nan':\n",
    "        df.loc[index, \"Fuzzy_Fantasia_CNESvsRF\"] =  fuzz.ratio(unidecode(row['Nome Fantasia'].lower()),unidecode(row['fantasia'].lower()))\n",
    "        # df.loc[index, \"Fuzzy_partial_ratio_Fantasia_CNESvsRF\"] =  fuzz.partial_ratio(unidecode(row['Nome Fantasia'].lower()),unidecode(row['fantasia'].lower()))\n",
    "        # df.loc[index, \"Fuzzy_token_sort_ratio_Fantasia_CNESvsRF\"] =  fuzz.token_sort_ratio(unidecode(row['Nome Fantasia'].lower()),unidecode(row['fantasia'].lower()))\n",
    "        # df.loc[index, \"Fuzzy_token_set_ratio_Fantasia_CNESvsRF\"] =  fuzz.token_set_ratio(unidecode(row['Nome Fantasia'].lower()),unidecode(row['fantasia'].lower()))\n",
    "df[['Nome Fantasia','fantasia','Fuzzy_Fantasia_CNESvsRF']][df['fantasia']!='nan'].sort_values(by='Fuzzy_Fantasia_CNESvsRF',ascending=False)#,\"Fuzzy_partial_ratio_Fantasia_CNESvsRF\",\"Fuzzy_token_sort_ratio_Fantasia_CNESvsRF\",\"Fuzzy_token_set_ratio_Fantasia_CNESvsRF\""
   ]
  },
  {
   "cell_type": "code",
   "execution_count": 7,
   "metadata": {},
   "outputs": [
    {
     "name": "stdout",
     "output_type": "stream",
     "text": [
      "<class 'pandas.core.frame.DataFrame'>\n",
      "RangeIndex: 21053 entries, 0 to 21052\n",
      "Data columns (total 3 columns):\n",
      " #   Column                   Non-Null Count  Dtype  \n",
      "---  ------                   --------------  -----  \n",
      " 0   Nome Fantasia            21053 non-null  object \n",
      " 1   fantasia                 21053 non-null  object \n",
      " 2   Fuzzy_Fantasia_CNESvsRF  13688 non-null  float64\n",
      "dtypes: float64(1), object(2)\n",
      "memory usage: 493.6+ KB\n"
     ]
    }
   ],
   "source": [
    "df[['Nome Fantasia','fantasia','Fuzzy_Fantasia_CNESvsRF']].info()#muitos nomes fantasias da RF nulos\n",
    "df['fantasia'] = df['fantasia'].apply(lambda x: x.replace('nan',''))\n",
    "\n"
   ]
  },
  {
   "cell_type": "code",
   "execution_count": 8,
   "metadata": {},
   "outputs": [
    {
     "data": {
      "text/plain": [
       "<AxesSubplot:>"
      ]
     },
     "execution_count": 8,
     "metadata": {},
     "output_type": "execute_result"
    },
    {
     "data": {
      "image/png": "[encoded data removed]",
      "text/plain": [
       "<Figure size 432x288 with 1 Axes>"
      ]
     },
     "metadata": {
      "needs_background": "light"
     },
     "output_type": "display_data"
    }
   ],
   "source": [
    "df['Fuzzy_Fantasia_CNESvsRF'].hist(bins=20)"
   ]
  },
  {
   "cell_type": "code",
   "execution_count": 9,
   "metadata": {},
   "outputs": [
    {
     "name": "stdout",
     "output_type": "stream",
     "text": [
      "<class 'pandas.core.frame.DataFrame'>\n",
      "RangeIndex: 21053 entries, 0 to 21052\n",
      "Data columns (total 2 columns):\n",
      " #   Column        Non-Null Count  Dtype \n",
      "---  ------        --------------  ----- \n",
      " 0   Razão Social  21053 non-null  object\n",
      " 1   nome:1        21052 non-null  object\n",
      "dtypes: object(2)\n",
      "memory usage: 329.1+ KB\n"
     ]
    }
   ],
   "source": [
    "#Razão Social\n",
    "df[['Razão Social','nome:1']].info()\n",
    "df['Razão Social'] = df['Razão Social'].astype(str)\n",
    "df['nome:1'] = df['nome:1'].astype(str)\n",
    "for index,row in df.iterrows():\n",
    "    if row['nome:1']!='nan':\n",
    "        df.loc[index, \"Fuzzy_Razão_CNESvsRF\"] =  fuzz.ratio(unidecode(row['Razão Social'].lower()),unidecode(row['nome:1'].lower()))\n",
    "#         df.loc[index, \"Fuzzy_partial_ratio_Razão_CNESvsRF\"] =  fuzz.partial_ratio(unidecode(row['Razão Social'].lower()),unidecode(row['nome:1'].lower()))\n",
    "#         df.loc[index, \"Fuzzy_token_sort_ratio_Razão_CNESvsRF\"] =  fuzz.token_sort_ratio(unidecode(row['Razão Social'].lower()),unidecode(row['nome:1'].lower()))\n",
    "#         df.loc[index, \"Fuzzy_token_set_ratio_Razão_CNESvsRF\"] =  fuzz.token_set_ratio(unidecode(row['Razão Social'].lower()),unidecode(row['nome:1'].lower()))\n",
    "# df[['Razão Social','nome:1','Fuzzy_Razão_CNESvsRF',\"Fuzzy_partial_ratio_Razão_CNESvsRF\",\"Fuzzy_token_sort_ratio_Razão_CNESvsRF\",\"Fuzzy_token_set_ratio_Razão_CNESvsRF\"]][df['nome:1']!='nan'].sort_values(by='Fuzzy_Razão_CNESvsRF',ascending=False)"
   ]
  },
  {
   "cell_type": "code",
   "execution_count": 10,
   "metadata": {},
   "outputs": [
    {
     "data": {
      "text/plain": [
       "<AxesSubplot:>"
      ]
     },
     "execution_count": 10,
     "metadata": {},
     "output_type": "execute_result"
    },
    {
     "data": {
      "image/png": "[encoded data removed]",
      "text/plain": [
       "<Figure size 432x288 with 1 Axes>"
      ]
     },
     "metadata": {
      "needs_background": "light"
     },
     "output_type": "display_data"
    }
   ],
   "source": [
    "df[\"Fuzzy_Razão_CNESvsRF\"].hist(bins=20)"
   ]
  },
  {
   "cell_type": "code",
   "execution_count": 11,
   "metadata": {},
   "outputs": [
    {
     "name": "stdout",
     "output_type": "stream",
     "text": [
      "<class 'pandas.core.frame.DataFrame'>\n",
      "RangeIndex: 21053 entries, 0 to 21052\n",
      "Data columns (total 2 columns):\n",
      " #   Column      Non-Null Count  Dtype \n",
      "---  ------      --------------  ----- \n",
      " 0   Logradouro  21053 non-null  object\n",
      " 1   logradouro  19095 non-null  object\n",
      "dtypes: object(2)\n",
      "memory usage: 329.1+ KB\n"
     ]
    }
   ],
   "source": [
    "df[['Logradouro','logradouro']].info()\n"
   ]
  },
  {
   "cell_type": "code",
   "execution_count": 12,
   "metadata": {},
   "outputs": [
    {
     "name": "stdout",
     "output_type": "stream",
     "text": [
      "<class 'pandas.core.frame.DataFrame'>\n",
      "RangeIndex: 21053 entries, 0 to 21052\n",
      "Data columns (total 2 columns):\n",
      " #   Column      Non-Null Count  Dtype \n",
      "---  ------      --------------  ----- \n",
      " 0   Logradouro  21053 non-null  object\n",
      " 1   logradouro  19095 non-null  object\n",
      "dtypes: object(2)\n",
      "memory usage: 329.1+ KB\n"
     ]
    }
   ],
   "source": [
    "#Logradouro\n",
    "df[['Logradouro','logradouro']].info()\n",
    "df['Logradouro'] = df['Logradouro'].astype(str)\n",
    "df['logradouro'] = df['logradouro'].astype(str)\n",
    "for index,row in df.iterrows():\n",
    "    if row['logradouro']!='nan':\n",
    "        df.loc[index, \"Fuzzy_Logradouro_CNESvsRF\"] =  fuzz.ratio(unidecode(row['Logradouro'].lower()),unidecode(row['logradouro'].lower()))\n",
    "#         df.loc[index, \"Fuzzy_partial_ratio_Logradouro_CNESvsRF\"] =  fuzz.partial_ratio(unidecode(row['Logradouro'].lower()),unidecode(row['logradouro'].lower()))\n",
    "#         df.loc[index, \"Fuzzy_token_sort_ratio_Logradouro_CNESvsRF\"] =  fuzz.token_sort_ratio(unidecode(row['Logradouro'].lower()),unidecode(row['logradouro'].lower()))\n",
    "#         df.loc[index, \"Fuzzy_token_set_ratio_Logradouro_CNESvsRF\"] =  fuzz.token_set_ratio(unidecode(row['Logradouro'].lower()),unidecode(row['logradouro'].lower()))\n",
    "# df[['Logradouro','logradouro','Fuzzy_Logradouro_CNESvsRF',\"Fuzzy_partial_ratio_Logradouro_CNESvsRF\",\"Fuzzy_token_sort_ratio_Logradouro_CNESvsRF\",\"Fuzzy_token_set_ratio_Logradouro_CNESvsRF\"]][df['logradouro']!='nan'].sort_values(by='Fuzzy_Logradouro_CNESvsRF',ascending=False)"
   ]
  },
  {
   "cell_type": "code",
   "execution_count": 13,
   "metadata": {},
   "outputs": [],
   "source": [
    "df['logradouro'] = df['logradouro'].apply(lambda x: x.replace('nan',''))"
   ]
  },
  {
   "cell_type": "code",
   "execution_count": 14,
   "metadata": {},
   "outputs": [
    {
     "data": {
      "text/plain": [
       "<AxesSubplot:>"
      ]
     },
     "execution_count": 14,
     "metadata": {},
     "output_type": "execute_result"
    },
    {
     "data": {
      "image/png": "[encoded data removed]",
      "text/plain": [
       "<Figure size 432x288 with 1 Axes>"
      ]
     },
     "metadata": {
      "needs_background": "light"
     },
     "output_type": "display_data"
    }
   ],
   "source": [
    "df[\"Fuzzy_Logradouro_CNESvsRF\"].hist(bins=20)"
   ]
  },
  {
   "cell_type": "code",
   "execution_count": 15,
   "metadata": {},
   "outputs": [
    {
     "name": "stdout",
     "output_type": "stream",
     "text": [
      "<class 'pandas.core.frame.DataFrame'>\n",
      "RangeIndex: 21053 entries, 0 to 21052\n",
      "Data columns (total 2 columns):\n",
      " #   Column              Non-Null Count  Dtype \n",
      "---  ------              --------------  ----- \n",
      " 0   Número do endereço  21049 non-null  object\n",
      " 1   numero              19084 non-null  object\n",
      "dtypes: object(2)\n",
      "memory usage: 329.1+ KB\n"
     ]
    }
   ],
   "source": [
    "#Numero do endereço\n",
    "df[['Número do endereço','numero']].info()\n",
    "df['Número do endereço'] = df['Número do endereço'].astype(str)\n",
    "df['numero'] = df['numero'].astype(str)\n",
    "for index,row in df.iterrows():\n",
    "    if row['numero']!='nan':\n",
    "        df.loc[index, \"Fuzzy_Número_CNESvsRF\"] =  fuzz.ratio(unidecode(row['Número do endereço'].lower()),unidecode(row['numero'].lower()))\n",
    "#         df.loc[index, \"Fuzzy_partial_ratio_Número_CNESvsRF\"] =  fuzz.partial_ratio(unidecode(row['Número do endereço'].lower()),unidecode(row['numero'].lower()))\n",
    "#         df.loc[index, \"Fuzzy_token_sort_ratio_Número_CNESvsRF\"] =  fuzz.token_sort_ratio(unidecode(row['Número do endereço'].lower()),unidecode(row['numero'].lower()))\n",
    "#         df.loc[index, \"Fuzzy_token_set_ratio_Número_CNESvsRF\"] =  fuzz.token_set_ratio(unidecode(row['Número do endereço'].lower()),unidecode(row['numero'].lower()))\n",
    "# df[['Número do endereço','numero','Fuzzy_Número_CNESvsRF',\"Fuzzy_partial_ratio_Número_CNESvsRF\",\"Fuzzy_token_sort_ratio_Número_CNESvsRF\",\"Fuzzy_token_set_ratio_Número_CNESvsRF\"]][df['numero']!='nan'].sort_values(by='Fuzzy_Número_CNESvsRF',ascending=False)"
   ]
  },
  {
   "cell_type": "code",
   "execution_count": 16,
   "metadata": {},
   "outputs": [],
   "source": [
    "df['numero'] = df['numero'].apply(lambda x: x.replace('nan',''))\n"
   ]
  },
  {
   "cell_type": "code",
   "execution_count": 17,
   "metadata": {},
   "outputs": [
    {
     "data": {
      "text/plain": [
       "<AxesSubplot:>"
      ]
     },
     "execution_count": 17,
     "metadata": {},
     "output_type": "execute_result"
    },
    {
     "data": {
      "image/png": "[encoded data removed]",
      "text/plain": [
       "<Figure size 432x288 with 1 Axes>"
      ]
     },
     "metadata": {
      "needs_background": "light"
     },
     "output_type": "display_data"
    }
   ],
   "source": [
    "df[\"Fuzzy_Número_CNESvsRF\"].hist(bins=20)"
   ]
  },
  {
   "cell_type": "code",
   "execution_count": 18,
   "metadata": {},
   "outputs": [
    {
     "name": "stdout",
     "output_type": "stream",
     "text": [
      "<class 'pandas.core.frame.DataFrame'>\n",
      "RangeIndex: 21053 entries, 0 to 21052\n",
      "Data columns (total 2 columns):\n",
      " #   Column     Non-Null Count  Dtype \n",
      "---  ------     --------------  ----- \n",
      " 0   Município  21053 non-null  object\n",
      " 1   municipio  19094 non-null  object\n",
      "dtypes: object(2)\n",
      "memory usage: 329.1+ KB\n"
     ]
    }
   ],
   "source": [
    "#Município\n",
    "df[['Município','municipio']].info()\n",
    "df['Município'] = df['Município'].astype(str)\n",
    "df['municipio'] = df['municipio'].astype(str)\n",
    "for index,row in df.iterrows():\n",
    "    if row['municipio']!='nan':\n",
    "        df.loc[index, \"Fuzzy_Município_CNESvsRF\"] =  fuzz.ratio(unidecode(row['Município'].lower()),unidecode(row['municipio'].lower()))\n",
    "#         df.loc[index, \"Fuzzy_partial_ratio_Município_CNESvsRF\"] =  fuzz.partial_ratio(unidecode(row['Município'].lower()),unidecode(row['municipio'].lower()))\n",
    "#         df.loc[index, \"Fuzzy_token_sort_ratio_Município_CNESvsRF\"] =  fuzz.token_sort_ratio(unidecode(row['Município'].lower()),unidecode(row['municipio'].lower()))\n",
    "#         df.loc[index, \"Fuzzy_token_set_ratio_Município_CNESvsRF\"] =  fuzz.token_set_ratio(unidecode(row['Município'].lower()),unidecode(row['municipio'].lower()))\n",
    "# df[['Município','municipio','Fuzzy_Município_CNESvsRF',\"Fuzzy_partial_ratio_Município_CNESvsRF\",\"Fuzzy_token_sort_ratio_Município_CNESvsRF\",\"Fuzzy_token_set_ratio_Município_CNESvsRF\"]][df['municipio']!='nan'].sort_values(by='Fuzzy_Município_CNESvsRF',ascending=False)"
   ]
  },
  {
   "cell_type": "code",
   "execution_count": 19,
   "metadata": {},
   "outputs": [],
   "source": [
    "df['municipio'] = df['municipio'].apply(lambda x: x.replace('nan',''))\n"
   ]
  },
  {
   "cell_type": "code",
   "execution_count": 20,
   "metadata": {},
   "outputs": [
    {
     "data": {
      "text/plain": [
       "<AxesSubplot:>"
      ]
     },
     "execution_count": 20,
     "metadata": {},
     "output_type": "execute_result"
    },
    {
     "data": {
      "image/png": "[encoded data removed]",
      "text/plain": [
       "<Figure size 432x288 with 1 Axes>"
      ]
     },
     "metadata": {
      "needs_background": "light"
     },
     "output_type": "display_data"
    }
   ],
   "source": [
    "df['Fuzzy_Município_CNESvsRF'].hist(bins=20)"
   ]
  },
  {
   "cell_type": "code",
   "execution_count": 21,
   "metadata": {},
   "outputs": [
    {
     "name": "stdout",
     "output_type": "stream",
     "text": [
      "<class 'pandas.core.frame.DataFrame'>\n",
      "RangeIndex: 21053 entries, 0 to 21052\n",
      "Data columns (total 2 columns):\n",
      " #   Column  Non-Null Count  Dtype \n",
      "---  ------  --------------  ----- \n",
      " 0   UF      21053 non-null  object\n",
      " 1   uf      19094 non-null  object\n",
      "dtypes: object(2)\n",
      "memory usage: 329.1+ KB\n"
     ]
    }
   ],
   "source": [
    "#UF\n",
    "df[['UF','uf']].info()\n",
    "df['UF'] = df['UF'].astype(str)\n",
    "df['uf'] = df['uf'].astype(str)\n",
    "for index,row in df.iterrows():\n",
    "    if row['uf']!='nan':\n",
    "        df.loc[index, \"Fuzzy_UF_CNESvsRF\"] =  fuzz.ratio(unidecode(row['UF'].lower()),unidecode(row['uf'].lower()))\n",
    "#         df.loc[index, \"Fuzzy_partial_ratio_UF_CNESvsRF\"] =  fuzz.partial_ratio(unidecode(row['UF'].lower()),unidecode(row['uf'].lower()))\n",
    "#         df.loc[index, \"Fuzzy_token_sort_ratio_UF_CNESvsRF\"] =  fuzz.token_sort_ratio(unidecode(row['UF'].lower()),unidecode(row['uf'].lower()))\n",
    "#         df.loc[index, \"Fuzzy_token_set_ratio_UF_CNESvsRF\"] =  fuzz.token_set_ratio(unidecode(row['UF'].lower()),unidecode(row['uf'].lower()))\n",
    "# df[['UF','uf','Fuzzy_UF_CNESvsRF',\"Fuzzy_partial_ratio_UF_CNESvsRF\",\"Fuzzy_token_sort_ratio_UF_CNESvsRF\",\"Fuzzy_token_set_ratio_UF_CNESvsRF\"]][df['uf']!='nan'].sort_values(by='Fuzzy_UF_CNESvsRF',ascending=False)"
   ]
  },
  {
   "cell_type": "code",
   "execution_count": 22,
   "metadata": {},
   "outputs": [],
   "source": [
    "df['uf'] = df['uf'].apply(lambda x: x.replace('nan',''))\n"
   ]
  },
  {
   "cell_type": "code",
   "execution_count": 23,
   "metadata": {},
   "outputs": [
    {
     "data": {
      "text/plain": [
       "<AxesSubplot:>"
      ]
     },
     "execution_count": 23,
     "metadata": {},
     "output_type": "execute_result"
    },
    {
     "data": {
      "image/png": "[encoded data removed]",
      "text/plain": [
       "<Figure size 432x288 with 1 Axes>"
      ]
     },
     "metadata": {
      "needs_background": "light"
     },
     "output_type": "display_data"
    }
   ],
   "source": [
    "df['Fuzzy_UF_CNESvsRF'].hist(bins=20)"
   ]
  },
  {
   "cell_type": "markdown",
   "metadata": {},
   "source": [
    "## CNES vs Google Places"
   ]
  },
  {
   "cell_type": "code",
   "execution_count": 24,
   "metadata": {},
   "outputs": [],
   "source": [
    "# df[['PARAM_NOME','Nome Fantasia','Razão Social']][df['PARAM_NOME'].notnull()].sample(5)\n",
    "# (df['PARAM_NOME']==df['Nome Fantasia']).value_counts()"
   ]
  },
  {
   "cell_type": "code",
   "execution_count": 25,
   "metadata": {},
   "outputs": [
    {
     "name": "stdout",
     "output_type": "stream",
     "text": [
      "<class 'pandas.core.frame.DataFrame'>\n",
      "RangeIndex: 21053 entries, 0 to 21052\n",
      "Data columns (total 2 columns):\n",
      " #   Column            Non-Null Count  Dtype \n",
      "---  ------            --------------  ----- \n",
      " 0   Nome Fantasia     21053 non-null  object\n",
      " 1   gmapsCompanyName  265 non-null    object\n",
      "dtypes: object(2)\n",
      "memory usage: 329.1+ KB\n"
     ]
    }
   ],
   "source": [
    "df[['Nome Fantasia','gmapsCompanyName']].info()\n",
    "df['Nome Fantasia'] = df['Nome Fantasia'].astype(str)\n",
    "df['gmapsCompanyName'] = df['gmapsCompanyName'].astype(str)\n",
    "for index,row in df.iterrows():\n",
    "    if row['gmapsCompanyName']!='nan':\n",
    "        # df.loc[index, \"Fuzzy_Nome_CNESvsGMN\"] =  fuzz.ratio(unidecode(row['Nome Fantasia'].lower()),unidecode(row['gmapsCompanyName'].lower()))\n",
    "#         df.loc[index, \"Fuzzy_partial_ratio_Nome_CNESvsGMN\"] =  fuzz.partial_ratio(unidecode(row['Nome Fantasia'].lower()),unidecode(row['gmapsCompanyName'].lower()))\n",
    "#         df.loc[index, \"Fuzzy_token_sort_ratio_Nome_CNESvsGMN\"] =  fuzz.token_sort_ratio(unidecode(row['Nome Fantasia'].lower()),unidecode(row['gmapsCompanyName'].lower()))\n",
    "        df.loc[index, \"Fuzzy_token_set_ratio_Nome_CNESvsGMN\"] =  fuzz.token_set_ratio(unidecode(row['Nome Fantasia'].lower()),unidecode(row['gmapsCompanyName'].lower()))\n",
    "# df[['CNPJ','Nome Fantasia','gmapsCompanyName','Fuzzy_Nome_CNESvsGMN',\"Fuzzy_partial_ratio_Nome_CNESvsGMN\",\"Fuzzy_token_sort_ratio_Nome_CNESvsGMN\",\"Fuzzy_token_set_ratio_Nome_CNESvsGMN\"]][df['gmapsCompanyName']!='nan'].sort_values(by='Fuzzy_Nome_CNESvsGMN',ascending=False).to_excel('fuzzy_fantasia3.xlsx')"
   ]
  },
  {
   "cell_type": "code",
   "execution_count": 26,
   "metadata": {},
   "outputs": [],
   "source": [
    "# df[['Nome Fantasia','gmapsCompanyName',\"Fuzzy_Nome_CNESvsGMN\"]].info()\n",
    "df['gmapsCompanyName'] = df['gmapsCompanyName'].apply(lambda x: x.replace('nan',''))\n",
    "\n"
   ]
  },
  {
   "cell_type": "code",
   "execution_count": 27,
   "metadata": {},
   "outputs": [
    {
     "data": {
      "text/plain": [
       "<AxesSubplot:>"
      ]
     },
     "execution_count": 27,
     "metadata": {},
     "output_type": "execute_result"
    },
    {
     "data": {
      "image/png": "[encoded data removed]",
      "text/plain": [
       "<Figure size 432x288 with 1 Axes>"
      ]
     },
     "metadata": {
      "needs_background": "light"
     },
     "output_type": "display_data"
    }
   ],
   "source": [
    "df[\"Fuzzy_token_set_ratio_Nome_CNESvsGMN\"].hist(bins=20)\n",
    "# df[\"Fuzzy_Nome_CNESvsGMN\"].value_counts()"
   ]
  },
  {
   "cell_type": "code",
   "execution_count": 28,
   "metadata": {},
   "outputs": [],
   "source": [
    "#exportando arquivo excel para fazer checagem manual"
   ]
  },
  {
   "cell_type": "code",
   "execution_count": 29,
   "metadata": {},
   "outputs": [],
   "source": [
    "#importando check manual de nomes para eliminar nomes errados"
   ]
  },
  {
   "cell_type": "code",
   "execution_count": 30,
   "metadata": {},
   "outputs": [
    {
     "name": "stdout",
     "output_type": "stream",
     "text": [
      "<class 'pandas.core.frame.DataFrame'>\n",
      "RangeIndex: 265 entries, 0 to 264\n",
      "Data columns (total 5 columns):\n",
      " #   Column                                Non-Null Count  Dtype \n",
      "---  ------                                --------------  ----- \n",
      " 0   CNPJ                                  265 non-null    object\n",
      " 1   Fuzzy_token_set_ratio_Nome_CNESvsGMN  265 non-null    int64 \n",
      " 2   Nome Fantasia                         265 non-null    object\n",
      " 3   gmapsCompanyName                      265 non-null    object\n",
      " 4   Correto                               265 non-null    int64 \n",
      "dtypes: int64(2), object(3)\n",
      "memory usage: 10.5+ KB\n"
     ]
    }
   ],
   "source": [
    "df_nome_GMN_check = pd.read_excel('fuzzy_fantasia3.xlsx',dtype={'CNPJ': object})\n",
    "df_nome_GMN_check = df_nome_GMN_check[['CNPJ','Fuzzy_token_set_ratio_Nome_CNESvsGMN','Nome Fantasia','gmapsCompanyName','Correto']]\n",
    "df_nome_GMN_check.info()\n"
   ]
  },
  {
   "cell_type": "code",
   "execution_count": 31,
   "metadata": {},
   "outputs": [],
   "source": [
    "dict_nome_GMN_check = df_nome_GMN_check.set_index('CNPJ')['Correto'].to_dict()"
   ]
  },
  {
   "cell_type": "code",
   "execution_count": 32,
   "metadata": {},
   "outputs": [],
   "source": [
    "df['Nome_google_correct'] = df['CNPJ'].map(dict_nome_GMN_check)"
   ]
  },
  {
   "cell_type": "code",
   "execution_count": 33,
   "metadata": {},
   "outputs": [
    {
     "data": {
      "text/plain": [
       "array([nan,  1.,  0.])"
      ]
     },
     "execution_count": 33,
     "metadata": {},
     "output_type": "execute_result"
    }
   ],
   "source": [
    "df['Nome_google_correct'].unique()#.info()"
   ]
  },
  {
   "cell_type": "code",
   "execution_count": 34,
   "metadata": {},
   "outputs": [],
   "source": [
    "for index,row in df.iterrows():\n",
    "    if row['Nome_google_correct']==0:\n",
    "        df.loc[index, \"Fuzzy_token_set_ratio_Nome_CNESvsGMN\"] = np.NaN\n",
    "        df.loc[index, \"gmapsCompanyName\"] = np.NaN"
   ]
  },
  {
   "cell_type": "code",
   "execution_count": 35,
   "metadata": {},
   "outputs": [
    {
     "data": {
      "text/html": [
       "<div>\n",
       "<style scoped>\n",
       "    .dataframe tbody tr th:only-of-type {\n",
       "        vertical-align: middle;\n",
       "    }\n",
       "\n",
       "    .dataframe tbody tr th {\n",
       "        vertical-align: top;\n",
       "    }\n",
       "\n",
       "    .dataframe thead th {\n",
       "        text-align: right;\n",
       "    }\n",
       "</style>\n",
       "<table border=\"1\" class=\"dataframe\">\n",
       "  <thead>\n",
       "    <tr style=\"text-align: right;\">\n",
       "      <th></th>\n",
       "      <th>Nome Fantasia</th>\n",
       "      <th>gmapsCompanyName</th>\n",
       "      <th>Fuzzy_token_set_ratio_Nome_CNESvsGMN</th>\n",
       "      <th>Nome_google_correct</th>\n",
       "      <th>URL Site</th>\n",
       "    </tr>\n",
       "  </thead>\n",
       "  <tbody>\n",
       "    <tr>\n",
       "      <th>1427</th>\n",
       "      <td>CEMED ESSENCIAL</td>\n",
       "      <td>NaN</td>\n",
       "      <td>NaN</td>\n",
       "      <td>0.0</td>\n",
       "      <td>http://www.labcemed.com.br/</td>\n",
       "    </tr>\n",
       "    <tr>\n",
       "      <th>2549</th>\n",
       "      <td>CLINICA DE PSIQUIATRIA MCSR RIBEIRAO PRETO</td>\n",
       "      <td>NaN</td>\n",
       "      <td>NaN</td>\n",
       "      <td>0.0</td>\n",
       "      <td>https://andreboinpsiquiatra.com.br/</td>\n",
       "    </tr>\n",
       "    <tr>\n",
       "      <th>3559</th>\n",
       "      <td>CLINICA SPATIIUM</td>\n",
       "      <td>NaN</td>\n",
       "      <td>NaN</td>\n",
       "      <td>0.0</td>\n",
       "      <td>https://clinicaspatium.com.br/</td>\n",
       "    </tr>\n",
       "    <tr>\n",
       "      <th>3592</th>\n",
       "      <td>MULTIMEDICOS</td>\n",
       "      <td>NaN</td>\n",
       "      <td>NaN</td>\n",
       "      <td>0.0</td>\n",
       "      <td>http://evivamultimedicos.com.br/</td>\n",
       "    </tr>\n",
       "    <tr>\n",
       "      <th>3810</th>\n",
       "      <td>CLINICA LIRA VASCONCELOS</td>\n",
       "      <td>NaN</td>\n",
       "      <td>NaN</td>\n",
       "      <td>0.0</td>\n",
       "      <td>http://www.clinicaliravasconcelos.com.br/</td>\n",
       "    </tr>\n",
       "    <tr>\n",
       "      <th>4267</th>\n",
       "      <td>ARGOS</td>\n",
       "      <td>NaN</td>\n",
       "      <td>NaN</td>\n",
       "      <td>0.0</td>\n",
       "      <td>https://www.argospsi.com.br/</td>\n",
       "    </tr>\n",
       "    <tr>\n",
       "      <th>4297</th>\n",
       "      <td>CLINICA JEQUITIBA ATIBAIA</td>\n",
       "      <td>NaN</td>\n",
       "      <td>NaN</td>\n",
       "      <td>0.0</td>\n",
       "      <td>https://www.drunica.com.br/</td>\n",
       "    </tr>\n",
       "    <tr>\n",
       "      <th>5322</th>\n",
       "      <td>RECANTO VALE VERDE</td>\n",
       "      <td>NaN</td>\n",
       "      <td>NaN</td>\n",
       "      <td>0.0</td>\n",
       "      <td>https://crvaleverde.com.br/</td>\n",
       "    </tr>\n",
       "    <tr>\n",
       "      <th>6375</th>\n",
       "      <td>MEDICINA PREVENTIVA</td>\n",
       "      <td>NaN</td>\n",
       "      <td>NaN</td>\n",
       "      <td>0.0</td>\n",
       "      <td>https://www.unimed.coop.br/site/web/santamaria/#/</td>\n",
       "    </tr>\n",
       "    <tr>\n",
       "      <th>6836</th>\n",
       "      <td>CENTRO DE ASSISTENCIA PSICOSSOCIAL E RESIDENCI...</td>\n",
       "      <td>NaN</td>\n",
       "      <td>NaN</td>\n",
       "      <td>0.0</td>\n",
       "      <td>http://www.fhemig.mg.gov.br/</td>\n",
       "    </tr>\n",
       "    <tr>\n",
       "      <th>6997</th>\n",
       "      <td>CENTRO MEDICO MADRID</td>\n",
       "      <td>NaN</td>\n",
       "      <td>NaN</td>\n",
       "      <td>0.0</td>\n",
       "      <td>http://madridclinica.com/</td>\n",
       "    </tr>\n",
       "    <tr>\n",
       "      <th>7193</th>\n",
       "      <td>SINAPSE NEUROLOGIA</td>\n",
       "      <td>NaN</td>\n",
       "      <td>NaN</td>\n",
       "      <td>0.0</td>\n",
       "      <td>https://neurosinapse.med.br/</td>\n",
       "    </tr>\n",
       "    <tr>\n",
       "      <th>7196</th>\n",
       "      <td>INSTITUTO DE APOIO A RESSOCIALIZACAO EM SAUDE ...</td>\n",
       "      <td>NaN</td>\n",
       "      <td>NaN</td>\n",
       "      <td>0.0</td>\n",
       "      <td>http://prontostress.com.br/</td>\n",
       "    </tr>\n",
       "    <tr>\n",
       "      <th>7789</th>\n",
       "      <td>RESENDE MEDICINA E PSICOLOGIA</td>\n",
       "      <td>NaN</td>\n",
       "      <td>NaN</td>\n",
       "      <td>0.0</td>\n",
       "      <td>http://cardiologiadrmarcos.com.br/</td>\n",
       "    </tr>\n",
       "    <tr>\n",
       "      <th>8895</th>\n",
       "      <td>ESPACO FLOR DA MANHA</td>\n",
       "      <td>NaN</td>\n",
       "      <td>NaN</td>\n",
       "      <td>0.0</td>\n",
       "      <td>http://www.clinicaflordamanha.com.br/</td>\n",
       "    </tr>\n",
       "    <tr>\n",
       "      <th>9102</th>\n",
       "      <td>NEURODF</td>\n",
       "      <td>NaN</td>\n",
       "      <td>NaN</td>\n",
       "      <td>0.0</td>\n",
       "      <td>https://neuromaster.com.br/</td>\n",
       "    </tr>\n",
       "    <tr>\n",
       "      <th>9231</th>\n",
       "      <td>CASA DE SAUDE SAO GERARDO</td>\n",
       "      <td>NaN</td>\n",
       "      <td>NaN</td>\n",
       "      <td>0.0</td>\n",
       "      <td>http://www.hapvida.com.br/</td>\n",
       "    </tr>\n",
       "    <tr>\n",
       "      <th>9533</th>\n",
       "      <td>CRIANCA ADOLESCENTE DOMARANHAO</td>\n",
       "      <td>NaN</td>\n",
       "      <td>NaN</td>\n",
       "      <td>0.0</td>\n",
       "      <td>http://www.funac.ma.gov.br/</td>\n",
       "    </tr>\n",
       "    <tr>\n",
       "      <th>9600</th>\n",
       "      <td>INSTITUTO SAO JOSE</td>\n",
       "      <td>NaN</td>\n",
       "      <td>NaN</td>\n",
       "      <td>0.0</td>\n",
       "      <td>https://institutosj.com.br/</td>\n",
       "    </tr>\n",
       "    <tr>\n",
       "      <th>9933</th>\n",
       "      <td>CLIPS</td>\n",
       "      <td>NaN</td>\n",
       "      <td>NaN</td>\n",
       "      <td>0.0</td>\n",
       "      <td>http://www.clipsonline.com.br/</td>\n",
       "    </tr>\n",
       "    <tr>\n",
       "      <th>11679</th>\n",
       "      <td>READ CLINICA PSIQUIATRICA ESPECIALIZADA</td>\n",
       "      <td>NaN</td>\n",
       "      <td>NaN</td>\n",
       "      <td>0.0</td>\n",
       "      <td>https://www.somenteclinicas.com.br/</td>\n",
       "    </tr>\n",
       "    <tr>\n",
       "      <th>13827</th>\n",
       "      <td>INSTITUTO DO COMPORTAMENTO RUY PALHANO</td>\n",
       "      <td>NaN</td>\n",
       "      <td>NaN</td>\n",
       "      <td>0.0</td>\n",
       "      <td>https://ruypalhano.com.br/</td>\n",
       "    </tr>\n",
       "    <tr>\n",
       "      <th>13856</th>\n",
       "      <td>ESPACO VIVER BEM</td>\n",
       "      <td>NaN</td>\n",
       "      <td>NaN</td>\n",
       "      <td>0.0</td>\n",
       "      <td>http://www.superestrela.com.br/</td>\n",
       "    </tr>\n",
       "    <tr>\n",
       "      <th>14271</th>\n",
       "      <td>CLINICA SAO JOSE</td>\n",
       "      <td>NaN</td>\n",
       "      <td>NaN</td>\n",
       "      <td>0.0</td>\n",
       "      <td>https://www.clinicasaojose.com.br/</td>\n",
       "    </tr>\n",
       "    <tr>\n",
       "      <th>14674</th>\n",
       "      <td>HEAD</td>\n",
       "      <td>NaN</td>\n",
       "      <td>NaN</td>\n",
       "      <td>0.0</td>\n",
       "      <td>http://www.alterna.com.br/</td>\n",
       "    </tr>\n",
       "    <tr>\n",
       "      <th>14773</th>\n",
       "      <td>CLINICA DE RECUPERACAO FIORI</td>\n",
       "      <td>NaN</td>\n",
       "      <td>NaN</td>\n",
       "      <td>0.0</td>\n",
       "      <td>http://www.clinicaderecuperacaofiori.com.br/</td>\n",
       "    </tr>\n",
       "    <tr>\n",
       "      <th>15458</th>\n",
       "      <td>NOVO MUNDO CENTRO DE TRATAMENTO ESPECIALIZADO ...</td>\n",
       "      <td>NaN</td>\n",
       "      <td>NaN</td>\n",
       "      <td>0.0</td>\n",
       "      <td>http://www.ctnovomundo.com.br/</td>\n",
       "    </tr>\n",
       "    <tr>\n",
       "      <th>15616</th>\n",
       "      <td>PENSIONATO N S APARECIDA</td>\n",
       "      <td>NaN</td>\n",
       "      <td>NaN</td>\n",
       "      <td>0.0</td>\n",
       "      <td>http://www.nucleointegrado.med.br/</td>\n",
       "    </tr>\n",
       "    <tr>\n",
       "      <th>15706</th>\n",
       "      <td>CEFAS</td>\n",
       "      <td>NaN</td>\n",
       "      <td>NaN</td>\n",
       "      <td>0.0</td>\n",
       "      <td>http://www.cefas.com.br/</td>\n",
       "    </tr>\n",
       "    <tr>\n",
       "      <th>16444</th>\n",
       "      <td>REVIVER</td>\n",
       "      <td>NaN</td>\n",
       "      <td>NaN</td>\n",
       "      <td>0.0</td>\n",
       "      <td>https://www.clinicapsiquiatricareviver.com.br/</td>\n",
       "    </tr>\n",
       "    <tr>\n",
       "      <th>16522</th>\n",
       "      <td>APM ASSISTENCIA PSIQUIATRICA MULTIDISCIPLINAR</td>\n",
       "      <td>NaN</td>\n",
       "      <td>NaN</td>\n",
       "      <td>0.0</td>\n",
       "      <td>http://www.hospitaldabahia.com.br/</td>\n",
       "    </tr>\n",
       "    <tr>\n",
       "      <th>17772</th>\n",
       "      <td>CLINICA TERAPEUTICA VIRTUDE</td>\n",
       "      <td>NaN</td>\n",
       "      <td>NaN</td>\n",
       "      <td>0.0</td>\n",
       "      <td>https://clinicasvirtude.com.br/</td>\n",
       "    </tr>\n",
       "    <tr>\n",
       "      <th>18971</th>\n",
       "      <td>ASAS SAUDE</td>\n",
       "      <td>NaN</td>\n",
       "      <td>NaN</td>\n",
       "      <td>0.0</td>\n",
       "      <td>http://asassaudeintegrada.com.br/</td>\n",
       "    </tr>\n",
       "    <tr>\n",
       "      <th>19043</th>\n",
       "      <td>VILA VERDE</td>\n",
       "      <td>NaN</td>\n",
       "      <td>NaN</td>\n",
       "      <td>0.0</td>\n",
       "      <td>http://vilaverdejf.com.br/</td>\n",
       "    </tr>\n",
       "    <tr>\n",
       "      <th>20601</th>\n",
       "      <td>ESPACO LIBERTE</td>\n",
       "      <td>NaN</td>\n",
       "      <td>NaN</td>\n",
       "      <td>0.0</td>\n",
       "      <td>http://www.institutohumanita.com.br/</td>\n",
       "    </tr>\n",
       "    <tr>\n",
       "      <th>20922</th>\n",
       "      <td>INC PATIO BATEL</td>\n",
       "      <td>NaN</td>\n",
       "      <td>NaN</td>\n",
       "      <td>0.0</td>\n",
       "      <td>http://linktr.ee/adcoscuritiba</td>\n",
       "    </tr>\n",
       "  </tbody>\n",
       "</table>\n",
       "</div>"
      ],
      "text/plain": [
       "                                           Nome Fantasia gmapsCompanyName  \\\n",
       "1427                                     CEMED ESSENCIAL              NaN   \n",
       "2549          CLINICA DE PSIQUIATRIA MCSR RIBEIRAO PRETO              NaN   \n",
       "3559                                    CLINICA SPATIIUM              NaN   \n",
       "3592                                        MULTIMEDICOS              NaN   \n",
       "3810                            CLINICA LIRA VASCONCELOS              NaN   \n",
       "4267                                               ARGOS              NaN   \n",
       "4297                           CLINICA JEQUITIBA ATIBAIA              NaN   \n",
       "5322                                  RECANTO VALE VERDE              NaN   \n",
       "6375                                 MEDICINA PREVENTIVA              NaN   \n",
       "6836   CENTRO DE ASSISTENCIA PSICOSSOCIAL E RESIDENCI...              NaN   \n",
       "6997                                CENTRO MEDICO MADRID              NaN   \n",
       "7193                                  SINAPSE NEUROLOGIA              NaN   \n",
       "7196   INSTITUTO DE APOIO A RESSOCIALIZACAO EM SAUDE ...              NaN   \n",
       "7789                       RESENDE MEDICINA E PSICOLOGIA              NaN   \n",
       "8895                                ESPACO FLOR DA MANHA              NaN   \n",
       "9102                                             NEURODF              NaN   \n",
       "9231                           CASA DE SAUDE SAO GERARDO              NaN   \n",
       "9533                      CRIANCA ADOLESCENTE DOMARANHAO              NaN   \n",
       "9600                                  INSTITUTO SAO JOSE              NaN   \n",
       "9933                                               CLIPS              NaN   \n",
       "11679            READ CLINICA PSIQUIATRICA ESPECIALIZADA              NaN   \n",
       "13827             INSTITUTO DO COMPORTAMENTO RUY PALHANO              NaN   \n",
       "13856                                   ESPACO VIVER BEM              NaN   \n",
       "14271                                   CLINICA SAO JOSE              NaN   \n",
       "14674                                               HEAD              NaN   \n",
       "14773                       CLINICA DE RECUPERACAO FIORI              NaN   \n",
       "15458  NOVO MUNDO CENTRO DE TRATAMENTO ESPECIALIZADO ...              NaN   \n",
       "15616                           PENSIONATO N S APARECIDA              NaN   \n",
       "15706                                              CEFAS              NaN   \n",
       "16444                                            REVIVER              NaN   \n",
       "16522      APM ASSISTENCIA PSIQUIATRICA MULTIDISCIPLINAR              NaN   \n",
       "17772                        CLINICA TERAPEUTICA VIRTUDE              NaN   \n",
       "18971                                         ASAS SAUDE              NaN   \n",
       "19043                                         VILA VERDE              NaN   \n",
       "20601                                     ESPACO LIBERTE              NaN   \n",
       "20922                                    INC PATIO BATEL              NaN   \n",
       "\n",
       "       Fuzzy_token_set_ratio_Nome_CNESvsGMN  Nome_google_correct  \\\n",
       "1427                                    NaN                  0.0   \n",
       "2549                                    NaN                  0.0   \n",
       "3559                                    NaN                  0.0   \n",
       "3592                                    NaN                  0.0   \n",
       "3810                                    NaN                  0.0   \n",
       "4267                                    NaN                  0.0   \n",
       "4297                                    NaN                  0.0   \n",
       "5322                                    NaN                  0.0   \n",
       "6375                                    NaN                  0.0   \n",
       "6836                                    NaN                  0.0   \n",
       "6997                                    NaN                  0.0   \n",
       "7193                                    NaN                  0.0   \n",
       "7196                                    NaN                  0.0   \n",
       "7789                                    NaN                  0.0   \n",
       "8895                                    NaN                  0.0   \n",
       "9102                                    NaN                  0.0   \n",
       "9231                                    NaN                  0.0   \n",
       "9533                                    NaN                  0.0   \n",
       "9600                                    NaN                  0.0   \n",
       "9933                                    NaN                  0.0   \n",
       "11679                                   NaN                  0.0   \n",
       "13827                                   NaN                  0.0   \n",
       "13856                                   NaN                  0.0   \n",
       "14271                                   NaN                  0.0   \n",
       "14674                                   NaN                  0.0   \n",
       "14773                                   NaN                  0.0   \n",
       "15458                                   NaN                  0.0   \n",
       "15616                                   NaN                  0.0   \n",
       "15706                                   NaN                  0.0   \n",
       "16444                                   NaN                  0.0   \n",
       "16522                                   NaN                  0.0   \n",
       "17772                                   NaN                  0.0   \n",
       "18971                                   NaN                  0.0   \n",
       "19043                                   NaN                  0.0   \n",
       "20601                                   NaN                  0.0   \n",
       "20922                                   NaN                  0.0   \n",
       "\n",
       "                                                URL Site  \n",
       "1427                         http://www.labcemed.com.br/  \n",
       "2549                 https://andreboinpsiquiatra.com.br/  \n",
       "3559                      https://clinicaspatium.com.br/  \n",
       "3592                    http://evivamultimedicos.com.br/  \n",
       "3810           http://www.clinicaliravasconcelos.com.br/  \n",
       "4267                        https://www.argospsi.com.br/  \n",
       "4297                         https://www.drunica.com.br/  \n",
       "5322                         https://crvaleverde.com.br/  \n",
       "6375   https://www.unimed.coop.br/site/web/santamaria/#/  \n",
       "6836                        http://www.fhemig.mg.gov.br/  \n",
       "6997                           http://madridclinica.com/  \n",
       "7193                        https://neurosinapse.med.br/  \n",
       "7196                         http://prontostress.com.br/  \n",
       "7789                  http://cardiologiadrmarcos.com.br/  \n",
       "8895               http://www.clinicaflordamanha.com.br/  \n",
       "9102                         https://neuromaster.com.br/  \n",
       "9231                          http://www.hapvida.com.br/  \n",
       "9533                         http://www.funac.ma.gov.br/  \n",
       "9600                         https://institutosj.com.br/  \n",
       "9933                      http://www.clipsonline.com.br/  \n",
       "11679                https://www.somenteclinicas.com.br/  \n",
       "13827                         https://ruypalhano.com.br/  \n",
       "13856                    http://www.superestrela.com.br/  \n",
       "14271                 https://www.clinicasaojose.com.br/  \n",
       "14674                         http://www.alterna.com.br/  \n",
       "14773       http://www.clinicaderecuperacaofiori.com.br/  \n",
       "15458                     http://www.ctnovomundo.com.br/  \n",
       "15616                 http://www.nucleointegrado.med.br/  \n",
       "15706                           http://www.cefas.com.br/  \n",
       "16444     https://www.clinicapsiquiatricareviver.com.br/  \n",
       "16522                 http://www.hospitaldabahia.com.br/  \n",
       "17772                    https://clinicasvirtude.com.br/  \n",
       "18971                  http://asassaudeintegrada.com.br/  \n",
       "19043                         http://vilaverdejf.com.br/  \n",
       "20601               http://www.institutohumanita.com.br/  \n",
       "20922                     http://linktr.ee/adcoscuritiba  "
      ]
     },
     "execution_count": 35,
     "metadata": {},
     "output_type": "execute_result"
    }
   ],
   "source": [
    "df[['Nome Fantasia','gmapsCompanyName',\"Fuzzy_token_set_ratio_Nome_CNESvsGMN\",'Nome_google_correct','URL Site']][df['Nome_google_correct']==0]"
   ]
  },
  {
   "cell_type": "code",
   "execution_count": 36,
   "metadata": {},
   "outputs": [
    {
     "name": "stderr",
     "output_type": "stream",
     "text": [
      "<ipython-input-36-117b070e0207>:2: SettingWithCopyWarning: \n",
      "A value is trying to be set on a copy of a slice from a DataFrame\n",
      "\n",
      "See the caveats in the documentation: https://pandas.pydata.org/pandas-docs/stable/user_guide/indexing.html#returning-a-view-versus-a-copy\n",
      "  df['Rating GMN'][20922]=np.NaN\n",
      "<ipython-input-36-117b070e0207>:3: SettingWithCopyWarning: \n",
      "A value is trying to be set on a copy of a slice from a DataFrame\n",
      "\n",
      "See the caveats in the documentation: https://pandas.pydata.org/pandas-docs/stable/user_guide/indexing.html#returning-a-view-versus-a-copy\n",
      "  df['Rating GMN'][20601]=np.NaN\n",
      "<ipython-input-36-117b070e0207>:4: SettingWithCopyWarning: \n",
      "A value is trying to be set on a copy of a slice from a DataFrame\n",
      "\n",
      "See the caveats in the documentation: https://pandas.pydata.org/pandas-docs/stable/user_guide/indexing.html#returning-a-view-versus-a-copy\n",
      "  df['Rating GMN'][16522]=np.NaN\n",
      "<ipython-input-36-117b070e0207>:5: SettingWithCopyWarning: \n",
      "A value is trying to be set on a copy of a slice from a DataFrame\n",
      "\n",
      "See the caveats in the documentation: https://pandas.pydata.org/pandas-docs/stable/user_guide/indexing.html#returning-a-view-versus-a-copy\n",
      "  df['Rating GMN'][15616]=np.NaN\n",
      "<ipython-input-36-117b070e0207>:6: SettingWithCopyWarning: \n",
      "A value is trying to be set on a copy of a slice from a DataFrame\n",
      "\n",
      "See the caveats in the documentation: https://pandas.pydata.org/pandas-docs/stable/user_guide/indexing.html#returning-a-view-versus-a-copy\n",
      "  df['Rating GMN'][14674]=np.NaN\n",
      "<ipython-input-36-117b070e0207>:7: SettingWithCopyWarning: \n",
      "A value is trying to be set on a copy of a slice from a DataFrame\n",
      "\n",
      "See the caveats in the documentation: https://pandas.pydata.org/pandas-docs/stable/user_guide/indexing.html#returning-a-view-versus-a-copy\n",
      "  df['Rating GMN'][13856]=np.NaN\n",
      "<ipython-input-36-117b070e0207>:8: SettingWithCopyWarning: \n",
      "A value is trying to be set on a copy of a slice from a DataFrame\n",
      "\n",
      "See the caveats in the documentation: https://pandas.pydata.org/pandas-docs/stable/user_guide/indexing.html#returning-a-view-versus-a-copy\n",
      "  df['Rating GMN'][11679]=np.NaN\n",
      "<ipython-input-36-117b070e0207>:9: SettingWithCopyWarning: \n",
      "A value is trying to be set on a copy of a slice from a DataFrame\n",
      "\n",
      "See the caveats in the documentation: https://pandas.pydata.org/pandas-docs/stable/user_guide/indexing.html#returning-a-view-versus-a-copy\n",
      "  df['Rating GMN'][9533]=np.NaN\n",
      "<ipython-input-36-117b070e0207>:10: SettingWithCopyWarning: \n",
      "A value is trying to be set on a copy of a slice from a DataFrame\n",
      "\n",
      "See the caveats in the documentation: https://pandas.pydata.org/pandas-docs/stable/user_guide/indexing.html#returning-a-view-versus-a-copy\n",
      "  df['Rating GMN'][9231]=np.NaN\n",
      "<ipython-input-36-117b070e0207>:11: SettingWithCopyWarning: \n",
      "A value is trying to be set on a copy of a slice from a DataFrame\n",
      "\n",
      "See the caveats in the documentation: https://pandas.pydata.org/pandas-docs/stable/user_guide/indexing.html#returning-a-view-versus-a-copy\n",
      "  df['Rating GMN'][7789]=np.NaN\n",
      "<ipython-input-36-117b070e0207>:12: SettingWithCopyWarning: \n",
      "A value is trying to be set on a copy of a slice from a DataFrame\n",
      "\n",
      "See the caveats in the documentation: https://pandas.pydata.org/pandas-docs/stable/user_guide/indexing.html#returning-a-view-versus-a-copy\n",
      "  df['Rating GMN'][7196]=np.NaN\n",
      "<ipython-input-36-117b070e0207>:13: SettingWithCopyWarning: \n",
      "A value is trying to be set on a copy of a slice from a DataFrame\n",
      "\n",
      "See the caveats in the documentation: https://pandas.pydata.org/pandas-docs/stable/user_guide/indexing.html#returning-a-view-versus-a-copy\n",
      "  df['Rating GMN'][6836]=np.NaN\n",
      "<ipython-input-36-117b070e0207>:14: SettingWithCopyWarning: \n",
      "A value is trying to be set on a copy of a slice from a DataFrame\n",
      "\n",
      "See the caveats in the documentation: https://pandas.pydata.org/pandas-docs/stable/user_guide/indexing.html#returning-a-view-versus-a-copy\n",
      "  df['Rating GMN'][4297]=np.NaN\n"
     ]
    }
   ],
   "source": [
    "#apagando manualmente sites que não fazem sentido\n",
    "df['Rating GMN'][20922]=np.NaN\n",
    "df['Rating GMN'][20601]=np.NaN\n",
    "df['Rating GMN'][16522]=np.NaN\n",
    "df['Rating GMN'][15616]=np.NaN\n",
    "df['Rating GMN'][14674]=np.NaN\n",
    "df['Rating GMN'][13856]=np.NaN\n",
    "df['Rating GMN'][11679]=np.NaN\n",
    "df['Rating GMN'][9533]=np.NaN\n",
    "df['Rating GMN'][9231]=np.NaN\n",
    "df['Rating GMN'][7789]=np.NaN\n",
    "df['Rating GMN'][7196]=np.NaN\n",
    "df['Rating GMN'][6836]=np.NaN\n",
    "df['Rating GMN'][4297]=np.NaN"
   ]
  },
  {
   "cell_type": "code",
   "execution_count": 37,
   "metadata": {},
   "outputs": [
    {
     "name": "stderr",
     "output_type": "stream",
     "text": [
      "<ipython-input-37-bf285327e577>:2: SettingWithCopyWarning: \n",
      "A value is trying to be set on a copy of a slice from a DataFrame\n",
      "\n",
      "See the caveats in the documentation: https://pandas.pydata.org/pandas-docs/stable/user_guide/indexing.html#returning-a-view-versus-a-copy\n",
      "  df['URL Site'][20922]=np.NaN\n",
      "<ipython-input-37-bf285327e577>:3: SettingWithCopyWarning: \n",
      "A value is trying to be set on a copy of a slice from a DataFrame\n",
      "\n",
      "See the caveats in the documentation: https://pandas.pydata.org/pandas-docs/stable/user_guide/indexing.html#returning-a-view-versus-a-copy\n",
      "  df['URL Site'][20601]=np.NaN\n",
      "<ipython-input-37-bf285327e577>:4: SettingWithCopyWarning: \n",
      "A value is trying to be set on a copy of a slice from a DataFrame\n",
      "\n",
      "See the caveats in the documentation: https://pandas.pydata.org/pandas-docs/stable/user_guide/indexing.html#returning-a-view-versus-a-copy\n",
      "  df['URL Site'][16522]=np.NaN\n",
      "<ipython-input-37-bf285327e577>:5: SettingWithCopyWarning: \n",
      "A value is trying to be set on a copy of a slice from a DataFrame\n",
      "\n",
      "See the caveats in the documentation: https://pandas.pydata.org/pandas-docs/stable/user_guide/indexing.html#returning-a-view-versus-a-copy\n",
      "  df['URL Site'][15616]=np.NaN\n",
      "<ipython-input-37-bf285327e577>:6: SettingWithCopyWarning: \n",
      "A value is trying to be set on a copy of a slice from a DataFrame\n",
      "\n",
      "See the caveats in the documentation: https://pandas.pydata.org/pandas-docs/stable/user_guide/indexing.html#returning-a-view-versus-a-copy\n",
      "  df['URL Site'][14674]=np.NaN\n",
      "<ipython-input-37-bf285327e577>:7: SettingWithCopyWarning: \n",
      "A value is trying to be set on a copy of a slice from a DataFrame\n",
      "\n",
      "See the caveats in the documentation: https://pandas.pydata.org/pandas-docs/stable/user_guide/indexing.html#returning-a-view-versus-a-copy\n",
      "  df['URL Site'][13856]=np.NaN\n",
      "<ipython-input-37-bf285327e577>:8: SettingWithCopyWarning: \n",
      "A value is trying to be set on a copy of a slice from a DataFrame\n",
      "\n",
      "See the caveats in the documentation: https://pandas.pydata.org/pandas-docs/stable/user_guide/indexing.html#returning-a-view-versus-a-copy\n",
      "  df['URL Site'][11679]=np.NaN\n",
      "<ipython-input-37-bf285327e577>:9: SettingWithCopyWarning: \n",
      "A value is trying to be set on a copy of a slice from a DataFrame\n",
      "\n",
      "See the caveats in the documentation: https://pandas.pydata.org/pandas-docs/stable/user_guide/indexing.html#returning-a-view-versus-a-copy\n",
      "  df['URL Site'][9533]=np.NaN\n",
      "<ipython-input-37-bf285327e577>:10: SettingWithCopyWarning: \n",
      "A value is trying to be set on a copy of a slice from a DataFrame\n",
      "\n",
      "See the caveats in the documentation: https://pandas.pydata.org/pandas-docs/stable/user_guide/indexing.html#returning-a-view-versus-a-copy\n",
      "  df['URL Site'][9231]=np.NaN\n",
      "<ipython-input-37-bf285327e577>:11: SettingWithCopyWarning: \n",
      "A value is trying to be set on a copy of a slice from a DataFrame\n",
      "\n",
      "See the caveats in the documentation: https://pandas.pydata.org/pandas-docs/stable/user_guide/indexing.html#returning-a-view-versus-a-copy\n",
      "  df['URL Site'][7789]=np.NaN\n",
      "<ipython-input-37-bf285327e577>:12: SettingWithCopyWarning: \n",
      "A value is trying to be set on a copy of a slice from a DataFrame\n",
      "\n",
      "See the caveats in the documentation: https://pandas.pydata.org/pandas-docs/stable/user_guide/indexing.html#returning-a-view-versus-a-copy\n",
      "  df['URL Site'][7196]=np.NaN\n",
      "<ipython-input-37-bf285327e577>:13: SettingWithCopyWarning: \n",
      "A value is trying to be set on a copy of a slice from a DataFrame\n",
      "\n",
      "See the caveats in the documentation: https://pandas.pydata.org/pandas-docs/stable/user_guide/indexing.html#returning-a-view-versus-a-copy\n",
      "  df['URL Site'][6836]=np.NaN\n",
      "<ipython-input-37-bf285327e577>:14: SettingWithCopyWarning: \n",
      "A value is trying to be set on a copy of a slice from a DataFrame\n",
      "\n",
      "See the caveats in the documentation: https://pandas.pydata.org/pandas-docs/stable/user_guide/indexing.html#returning-a-view-versus-a-copy\n",
      "  df['URL Site'][4297]=np.NaN\n",
      "<ipython-input-37-bf285327e577>:17: SettingWithCopyWarning: \n",
      "A value is trying to be set on a copy of a slice from a DataFrame\n",
      "\n",
      "See the caveats in the documentation: https://pandas.pydata.org/pandas-docs/stable/user_guide/indexing.html#returning-a-view-versus-a-copy\n",
      "  df['URL GMN'][20922]=np.NaN\n",
      "<ipython-input-37-bf285327e577>:18: SettingWithCopyWarning: \n",
      "A value is trying to be set on a copy of a slice from a DataFrame\n",
      "\n",
      "See the caveats in the documentation: https://pandas.pydata.org/pandas-docs/stable/user_guide/indexing.html#returning-a-view-versus-a-copy\n",
      "  df['URL GMN'][20601]=np.NaN\n",
      "<ipython-input-37-bf285327e577>:19: SettingWithCopyWarning: \n",
      "A value is trying to be set on a copy of a slice from a DataFrame\n",
      "\n",
      "See the caveats in the documentation: https://pandas.pydata.org/pandas-docs/stable/user_guide/indexing.html#returning-a-view-versus-a-copy\n",
      "  df['URL GMN'][16522]=np.NaN\n",
      "<ipython-input-37-bf285327e577>:20: SettingWithCopyWarning: \n",
      "A value is trying to be set on a copy of a slice from a DataFrame\n",
      "\n",
      "See the caveats in the documentation: https://pandas.pydata.org/pandas-docs/stable/user_guide/indexing.html#returning-a-view-versus-a-copy\n",
      "  df['URL GMN'][15616]=np.NaN\n",
      "<ipython-input-37-bf285327e577>:21: SettingWithCopyWarning: \n",
      "A value is trying to be set on a copy of a slice from a DataFrame\n",
      "\n",
      "See the caveats in the documentation: https://pandas.pydata.org/pandas-docs/stable/user_guide/indexing.html#returning-a-view-versus-a-copy\n",
      "  df['URL GMN'][14674]=np.NaN\n",
      "<ipython-input-37-bf285327e577>:22: SettingWithCopyWarning: \n",
      "A value is trying to be set on a copy of a slice from a DataFrame\n",
      "\n",
      "See the caveats in the documentation: https://pandas.pydata.org/pandas-docs/stable/user_guide/indexing.html#returning-a-view-versus-a-copy\n",
      "  df['URL GMN'][13856]=np.NaN\n",
      "<ipython-input-37-bf285327e577>:23: SettingWithCopyWarning: \n",
      "A value is trying to be set on a copy of a slice from a DataFrame\n",
      "\n",
      "See the caveats in the documentation: https://pandas.pydata.org/pandas-docs/stable/user_guide/indexing.html#returning-a-view-versus-a-copy\n",
      "  df['URL GMN'][11679]=np.NaN\n",
      "<ipython-input-37-bf285327e577>:24: SettingWithCopyWarning: \n",
      "A value is trying to be set on a copy of a slice from a DataFrame\n",
      "\n",
      "See the caveats in the documentation: https://pandas.pydata.org/pandas-docs/stable/user_guide/indexing.html#returning-a-view-versus-a-copy\n",
      "  df['URL GMN'][9533]=np.NaN\n",
      "<ipython-input-37-bf285327e577>:25: SettingWithCopyWarning: \n",
      "A value is trying to be set on a copy of a slice from a DataFrame\n",
      "\n",
      "See the caveats in the documentation: https://pandas.pydata.org/pandas-docs/stable/user_guide/indexing.html#returning-a-view-versus-a-copy\n",
      "  df['URL GMN'][9231]=np.NaN\n",
      "<ipython-input-37-bf285327e577>:26: SettingWithCopyWarning: \n",
      "A value is trying to be set on a copy of a slice from a DataFrame\n",
      "\n",
      "See the caveats in the documentation: https://pandas.pydata.org/pandas-docs/stable/user_guide/indexing.html#returning-a-view-versus-a-copy\n",
      "  df['URL GMN'][7789]=np.NaN\n",
      "<ipython-input-37-bf285327e577>:27: SettingWithCopyWarning: \n",
      "A value is trying to be set on a copy of a slice from a DataFrame\n",
      "\n",
      "See the caveats in the documentation: https://pandas.pydata.org/pandas-docs/stable/user_guide/indexing.html#returning-a-view-versus-a-copy\n",
      "  df['URL GMN'][7196]=np.NaN\n",
      "<ipython-input-37-bf285327e577>:28: SettingWithCopyWarning: \n",
      "A value is trying to be set on a copy of a slice from a DataFrame\n",
      "\n",
      "See the caveats in the documentation: https://pandas.pydata.org/pandas-docs/stable/user_guide/indexing.html#returning-a-view-versus-a-copy\n",
      "  df['URL GMN'][6836]=np.NaN\n",
      "<ipython-input-37-bf285327e577>:29: SettingWithCopyWarning: \n",
      "A value is trying to be set on a copy of a slice from a DataFrame\n",
      "\n",
      "See the caveats in the documentation: https://pandas.pydata.org/pandas-docs/stable/user_guide/indexing.html#returning-a-view-versus-a-copy\n",
      "  df['URL GMN'][4297]=np.NaN\n",
      "<ipython-input-37-bf285327e577>:32: SettingWithCopyWarning: \n",
      "A value is trying to be set on a copy of a slice from a DataFrame\n",
      "\n",
      "See the caveats in the documentation: https://pandas.pydata.org/pandas-docs/stable/user_guide/indexing.html#returning-a-view-versus-a-copy\n",
      "  df['gmapsTelephone'][20922]=np.NaN\n",
      "<ipython-input-37-bf285327e577>:33: SettingWithCopyWarning: \n",
      "A value is trying to be set on a copy of a slice from a DataFrame\n",
      "\n",
      "See the caveats in the documentation: https://pandas.pydata.org/pandas-docs/stable/user_guide/indexing.html#returning-a-view-versus-a-copy\n",
      "  df['gmapsTelephone'][20601]=np.NaN\n",
      "<ipython-input-37-bf285327e577>:34: SettingWithCopyWarning: \n",
      "A value is trying to be set on a copy of a slice from a DataFrame\n",
      "\n",
      "See the caveats in the documentation: https://pandas.pydata.org/pandas-docs/stable/user_guide/indexing.html#returning-a-view-versus-a-copy\n",
      "  df['gmapsTelephone'][16522]=np.NaN\n",
      "<ipython-input-37-bf285327e577>:35: SettingWithCopyWarning: \n",
      "A value is trying to be set on a copy of a slice from a DataFrame\n",
      "\n",
      "See the caveats in the documentation: https://pandas.pydata.org/pandas-docs/stable/user_guide/indexing.html#returning-a-view-versus-a-copy\n",
      "  df['gmapsTelephone'][15616]=np.NaN\n",
      "<ipython-input-37-bf285327e577>:36: SettingWithCopyWarning: \n",
      "A value is trying to be set on a copy of a slice from a DataFrame\n",
      "\n",
      "See the caveats in the documentation: https://pandas.pydata.org/pandas-docs/stable/user_guide/indexing.html#returning-a-view-versus-a-copy\n",
      "  df['gmapsTelephone'][14674]=np.NaN\n",
      "<ipython-input-37-bf285327e577>:37: SettingWithCopyWarning: \n",
      "A value is trying to be set on a copy of a slice from a DataFrame\n",
      "\n",
      "See the caveats in the documentation: https://pandas.pydata.org/pandas-docs/stable/user_guide/indexing.html#returning-a-view-versus-a-copy\n",
      "  df['gmapsTelephone'][13856]=np.NaN\n",
      "<ipython-input-37-bf285327e577>:38: SettingWithCopyWarning: \n",
      "A value is trying to be set on a copy of a slice from a DataFrame\n",
      "\n",
      "See the caveats in the documentation: https://pandas.pydata.org/pandas-docs/stable/user_guide/indexing.html#returning-a-view-versus-a-copy\n",
      "  df['gmapsTelephone'][11679]=np.NaN\n",
      "<ipython-input-37-bf285327e577>:39: SettingWithCopyWarning: \n",
      "A value is trying to be set on a copy of a slice from a DataFrame\n",
      "\n",
      "See the caveats in the documentation: https://pandas.pydata.org/pandas-docs/stable/user_guide/indexing.html#returning-a-view-versus-a-copy\n",
      "  df['gmapsTelephone'][9533]=np.NaN\n",
      "<ipython-input-37-bf285327e577>:40: SettingWithCopyWarning: \n",
      "A value is trying to be set on a copy of a slice from a DataFrame\n",
      "\n",
      "See the caveats in the documentation: https://pandas.pydata.org/pandas-docs/stable/user_guide/indexing.html#returning-a-view-versus-a-copy\n",
      "  df['gmapsTelephone'][9231]=np.NaN\n",
      "<ipython-input-37-bf285327e577>:41: SettingWithCopyWarning: \n",
      "A value is trying to be set on a copy of a slice from a DataFrame\n",
      "\n",
      "See the caveats in the documentation: https://pandas.pydata.org/pandas-docs/stable/user_guide/indexing.html#returning-a-view-versus-a-copy\n",
      "  df['gmapsTelephone'][7789]=np.NaN\n",
      "<ipython-input-37-bf285327e577>:42: SettingWithCopyWarning: \n",
      "A value is trying to be set on a copy of a slice from a DataFrame\n",
      "\n",
      "See the caveats in the documentation: https://pandas.pydata.org/pandas-docs/stable/user_guide/indexing.html#returning-a-view-versus-a-copy\n",
      "  df['gmapsTelephone'][7196]=np.NaN\n",
      "<ipython-input-37-bf285327e577>:43: SettingWithCopyWarning: \n",
      "A value is trying to be set on a copy of a slice from a DataFrame\n",
      "\n",
      "See the caveats in the documentation: https://pandas.pydata.org/pandas-docs/stable/user_guide/indexing.html#returning-a-view-versus-a-copy\n",
      "  df['gmapsTelephone'][6836]=np.NaN\n",
      "<ipython-input-37-bf285327e577>:44: SettingWithCopyWarning: \n",
      "A value is trying to be set on a copy of a slice from a DataFrame\n",
      "\n",
      "See the caveats in the documentation: https://pandas.pydata.org/pandas-docs/stable/user_guide/indexing.html#returning-a-view-versus-a-copy\n",
      "  df['gmapsTelephone'][4297]=np.NaN\n",
      "<ipython-input-37-bf285327e577>:47: SettingWithCopyWarning: \n",
      "A value is trying to be set on a copy of a slice from a DataFrame\n",
      "\n",
      "See the caveats in the documentation: https://pandas.pydata.org/pandas-docs/stable/user_guide/indexing.html#returning-a-view-versus-a-copy\n",
      "  df['# Ratings GMN'][20922]=np.NaN\n",
      "<ipython-input-37-bf285327e577>:48: SettingWithCopyWarning: \n",
      "A value is trying to be set on a copy of a slice from a DataFrame\n",
      "\n",
      "See the caveats in the documentation: https://pandas.pydata.org/pandas-docs/stable/user_guide/indexing.html#returning-a-view-versus-a-copy\n",
      "  df['# Ratings GMN'][20601]=np.NaN\n",
      "<ipython-input-37-bf285327e577>:49: SettingWithCopyWarning: \n",
      "A value is trying to be set on a copy of a slice from a DataFrame\n",
      "\n",
      "See the caveats in the documentation: https://pandas.pydata.org/pandas-docs/stable/user_guide/indexing.html#returning-a-view-versus-a-copy\n",
      "  df['# Ratings GMN'][16522]=np.NaN\n",
      "<ipython-input-37-bf285327e577>:50: SettingWithCopyWarning: \n",
      "A value is trying to be set on a copy of a slice from a DataFrame\n",
      "\n",
      "See the caveats in the documentation: https://pandas.pydata.org/pandas-docs/stable/user_guide/indexing.html#returning-a-view-versus-a-copy\n",
      "  df['# Ratings GMN'][15616]=np.NaN\n",
      "<ipython-input-37-bf285327e577>:51: SettingWithCopyWarning: \n",
      "A value is trying to be set on a copy of a slice from a DataFrame\n",
      "\n",
      "See the caveats in the documentation: https://pandas.pydata.org/pandas-docs/stable/user_guide/indexing.html#returning-a-view-versus-a-copy\n",
      "  df['# Ratings GMN'][14674]=np.NaN\n",
      "<ipython-input-37-bf285327e577>:52: SettingWithCopyWarning: \n",
      "A value is trying to be set on a copy of a slice from a DataFrame\n",
      "\n",
      "See the caveats in the documentation: https://pandas.pydata.org/pandas-docs/stable/user_guide/indexing.html#returning-a-view-versus-a-copy\n",
      "  df['# Ratings GMN'][13856]=np.NaN\n",
      "<ipython-input-37-bf285327e577>:53: SettingWithCopyWarning: \n",
      "A value is trying to be set on a copy of a slice from a DataFrame\n",
      "\n",
      "See the caveats in the documentation: https://pandas.pydata.org/pandas-docs/stable/user_guide/indexing.html#returning-a-view-versus-a-copy\n",
      "  df['# Ratings GMN'][11679]=np.NaN\n",
      "<ipython-input-37-bf285327e577>:54: SettingWithCopyWarning: \n",
      "A value is trying to be set on a copy of a slice from a DataFrame\n",
      "\n",
      "See the caveats in the documentation: https://pandas.pydata.org/pandas-docs/stable/user_guide/indexing.html#returning-a-view-versus-a-copy\n",
      "  df['# Ratings GMN'][9533]=np.NaN\n",
      "<ipython-input-37-bf285327e577>:55: SettingWithCopyWarning: \n",
      "A value is trying to be set on a copy of a slice from a DataFrame\n",
      "\n",
      "See the caveats in the documentation: https://pandas.pydata.org/pandas-docs/stable/user_guide/indexing.html#returning-a-view-versus-a-copy\n",
      "  df['# Ratings GMN'][9231]=np.NaN\n",
      "<ipython-input-37-bf285327e577>:56: SettingWithCopyWarning: \n",
      "A value is trying to be set on a copy of a slice from a DataFrame\n",
      "\n",
      "See the caveats in the documentation: https://pandas.pydata.org/pandas-docs/stable/user_guide/indexing.html#returning-a-view-versus-a-copy\n",
      "  df['# Ratings GMN'][7789]=np.NaN\n",
      "<ipython-input-37-bf285327e577>:57: SettingWithCopyWarning: \n",
      "A value is trying to be set on a copy of a slice from a DataFrame\n",
      "\n",
      "See the caveats in the documentation: https://pandas.pydata.org/pandas-docs/stable/user_guide/indexing.html#returning-a-view-versus-a-copy\n",
      "  df['# Ratings GMN'][7196]=np.NaN\n",
      "<ipython-input-37-bf285327e577>:58: SettingWithCopyWarning: \n",
      "A value is trying to be set on a copy of a slice from a DataFrame\n",
      "\n",
      "See the caveats in the documentation: https://pandas.pydata.org/pandas-docs/stable/user_guide/indexing.html#returning-a-view-versus-a-copy\n",
      "  df['# Ratings GMN'][6836]=np.NaN\n",
      "<ipython-input-37-bf285327e577>:59: SettingWithCopyWarning: \n",
      "A value is trying to be set on a copy of a slice from a DataFrame\n",
      "\n",
      "See the caveats in the documentation: https://pandas.pydata.org/pandas-docs/stable/user_guide/indexing.html#returning-a-view-versus-a-copy\n",
      "  df['# Ratings GMN'][4297]=np.NaN\n",
      "<ipython-input-37-bf285327e577>:62: SettingWithCopyWarning: \n",
      "A value is trying to be set on a copy of a slice from a DataFrame\n",
      "\n",
      "See the caveats in the documentation: https://pandas.pydata.org/pandas-docs/stable/user_guide/indexing.html#returning-a-view-versus-a-copy\n",
      "  df['Rating GMN'][20922]=np.NaN\n",
      "<ipython-input-37-bf285327e577>:63: SettingWithCopyWarning: \n",
      "A value is trying to be set on a copy of a slice from a DataFrame\n",
      "\n",
      "See the caveats in the documentation: https://pandas.pydata.org/pandas-docs/stable/user_guide/indexing.html#returning-a-view-versus-a-copy\n",
      "  df['Rating GMN'][20601]=np.NaN\n",
      "<ipython-input-37-bf285327e577>:64: SettingWithCopyWarning: \n",
      "A value is trying to be set on a copy of a slice from a DataFrame\n",
      "\n",
      "See the caveats in the documentation: https://pandas.pydata.org/pandas-docs/stable/user_guide/indexing.html#returning-a-view-versus-a-copy\n",
      "  df['Rating GMN'][16522]=np.NaN\n",
      "<ipython-input-37-bf285327e577>:65: SettingWithCopyWarning: \n",
      "A value is trying to be set on a copy of a slice from a DataFrame\n",
      "\n",
      "See the caveats in the documentation: https://pandas.pydata.org/pandas-docs/stable/user_guide/indexing.html#returning-a-view-versus-a-copy\n",
      "  df['Rating GMN'][15616]=np.NaN\n",
      "<ipython-input-37-bf285327e577>:66: SettingWithCopyWarning: \n",
      "A value is trying to be set on a copy of a slice from a DataFrame\n",
      "\n",
      "See the caveats in the documentation: https://pandas.pydata.org/pandas-docs/stable/user_guide/indexing.html#returning-a-view-versus-a-copy\n",
      "  df['Rating GMN'][14674]=np.NaN\n",
      "<ipython-input-37-bf285327e577>:67: SettingWithCopyWarning: \n",
      "A value is trying to be set on a copy of a slice from a DataFrame\n",
      "\n",
      "See the caveats in the documentation: https://pandas.pydata.org/pandas-docs/stable/user_guide/indexing.html#returning-a-view-versus-a-copy\n",
      "  df['Rating GMN'][13856]=np.NaN\n",
      "<ipython-input-37-bf285327e577>:68: SettingWithCopyWarning: \n",
      "A value is trying to be set on a copy of a slice from a DataFrame\n",
      "\n",
      "See the caveats in the documentation: https://pandas.pydata.org/pandas-docs/stable/user_guide/indexing.html#returning-a-view-versus-a-copy\n",
      "  df['Rating GMN'][11679]=np.NaN\n",
      "<ipython-input-37-bf285327e577>:69: SettingWithCopyWarning: \n",
      "A value is trying to be set on a copy of a slice from a DataFrame\n",
      "\n",
      "See the caveats in the documentation: https://pandas.pydata.org/pandas-docs/stable/user_guide/indexing.html#returning-a-view-versus-a-copy\n",
      "  df['Rating GMN'][9533]=np.NaN\n",
      "<ipython-input-37-bf285327e577>:70: SettingWithCopyWarning: \n",
      "A value is trying to be set on a copy of a slice from a DataFrame\n",
      "\n",
      "See the caveats in the documentation: https://pandas.pydata.org/pandas-docs/stable/user_guide/indexing.html#returning-a-view-versus-a-copy\n",
      "  df['Rating GMN'][9231]=np.NaN\n",
      "<ipython-input-37-bf285327e577>:71: SettingWithCopyWarning: \n",
      "A value is trying to be set on a copy of a slice from a DataFrame\n",
      "\n",
      "See the caveats in the documentation: https://pandas.pydata.org/pandas-docs/stable/user_guide/indexing.html#returning-a-view-versus-a-copy\n",
      "  df['Rating GMN'][7789]=np.NaN\n",
      "<ipython-input-37-bf285327e577>:72: SettingWithCopyWarning: \n",
      "A value is trying to be set on a copy of a slice from a DataFrame\n",
      "\n",
      "See the caveats in the documentation: https://pandas.pydata.org/pandas-docs/stable/user_guide/indexing.html#returning-a-view-versus-a-copy\n",
      "  df['Rating GMN'][7196]=np.NaN\n",
      "<ipython-input-37-bf285327e577>:73: SettingWithCopyWarning: \n",
      "A value is trying to be set on a copy of a slice from a DataFrame\n",
      "\n",
      "See the caveats in the documentation: https://pandas.pydata.org/pandas-docs/stable/user_guide/indexing.html#returning-a-view-versus-a-copy\n",
      "  df['Rating GMN'][6836]=np.NaN\n",
      "<ipython-input-37-bf285327e577>:74: SettingWithCopyWarning: \n",
      "A value is trying to be set on a copy of a slice from a DataFrame\n",
      "\n",
      "See the caveats in the documentation: https://pandas.pydata.org/pandas-docs/stable/user_guide/indexing.html#returning-a-view-versus-a-copy\n",
      "  df['Rating GMN'][4297]=np.NaN\n"
     ]
    }
   ],
   "source": [
    "#apagando manualmente sites que não fazem sentido\n",
    "df['URL Site'][20922]=np.NaN\n",
    "df['URL Site'][20601]=np.NaN\n",
    "df['URL Site'][16522]=np.NaN\n",
    "df['URL Site'][15616]=np.NaN\n",
    "df['URL Site'][14674]=np.NaN\n",
    "df['URL Site'][13856]=np.NaN\n",
    "df['URL Site'][11679]=np.NaN\n",
    "df['URL Site'][9533]=np.NaN\n",
    "df['URL Site'][9231]=np.NaN\n",
    "df['URL Site'][7789]=np.NaN\n",
    "df['URL Site'][7196]=np.NaN\n",
    "df['URL Site'][6836]=np.NaN\n",
    "df['URL Site'][4297]=np.NaN\n",
    "\n",
    "#apagando manualmente sites que não fazem sentido\n",
    "df['URL GMN'][20922]=np.NaN\n",
    "df['URL GMN'][20601]=np.NaN\n",
    "df['URL GMN'][16522]=np.NaN\n",
    "df['URL GMN'][15616]=np.NaN\n",
    "df['URL GMN'][14674]=np.NaN\n",
    "df['URL GMN'][13856]=np.NaN\n",
    "df['URL GMN'][11679]=np.NaN\n",
    "df['URL GMN'][9533]=np.NaN\n",
    "df['URL GMN'][9231]=np.NaN\n",
    "df['URL GMN'][7789]=np.NaN\n",
    "df['URL GMN'][7196]=np.NaN\n",
    "df['URL GMN'][6836]=np.NaN\n",
    "df['URL GMN'][4297]=np.NaN\n",
    "\n",
    "#apagando manualmente sites que não fazem sentido\n",
    "df['gmapsTelephone'][20922]=np.NaN\n",
    "df['gmapsTelephone'][20601]=np.NaN\n",
    "df['gmapsTelephone'][16522]=np.NaN\n",
    "df['gmapsTelephone'][15616]=np.NaN\n",
    "df['gmapsTelephone'][14674]=np.NaN\n",
    "df['gmapsTelephone'][13856]=np.NaN\n",
    "df['gmapsTelephone'][11679]=np.NaN\n",
    "df['gmapsTelephone'][9533]=np.NaN\n",
    "df['gmapsTelephone'][9231]=np.NaN\n",
    "df['gmapsTelephone'][7789]=np.NaN\n",
    "df['gmapsTelephone'][7196]=np.NaN\n",
    "df['gmapsTelephone'][6836]=np.NaN\n",
    "df['gmapsTelephone'][4297]=np.NaN\n",
    "\n",
    "#apagando manualmente sites que não fazem sentido\n",
    "df['# Ratings GMN'][20922]=np.NaN\n",
    "df['# Ratings GMN'][20601]=np.NaN\n",
    "df['# Ratings GMN'][16522]=np.NaN\n",
    "df['# Ratings GMN'][15616]=np.NaN\n",
    "df['# Ratings GMN'][14674]=np.NaN\n",
    "df['# Ratings GMN'][13856]=np.NaN\n",
    "df['# Ratings GMN'][11679]=np.NaN\n",
    "df['# Ratings GMN'][9533]=np.NaN\n",
    "df['# Ratings GMN'][9231]=np.NaN\n",
    "df['# Ratings GMN'][7789]=np.NaN\n",
    "df['# Ratings GMN'][7196]=np.NaN\n",
    "df['# Ratings GMN'][6836]=np.NaN\n",
    "df['# Ratings GMN'][4297]=np.NaN\n",
    "\n",
    "#apagando manualmente sites que não fazem sentido\n",
    "df['Rating GMN'][20922]=np.NaN\n",
    "df['Rating GMN'][20601]=np.NaN\n",
    "df['Rating GMN'][16522]=np.NaN\n",
    "df['Rating GMN'][15616]=np.NaN\n",
    "df['Rating GMN'][14674]=np.NaN\n",
    "df['Rating GMN'][13856]=np.NaN\n",
    "df['Rating GMN'][11679]=np.NaN\n",
    "df['Rating GMN'][9533]=np.NaN\n",
    "df['Rating GMN'][9231]=np.NaN\n",
    "df['Rating GMN'][7789]=np.NaN\n",
    "df['Rating GMN'][7196]=np.NaN\n",
    "df['Rating GMN'][6836]=np.NaN\n",
    "df['Rating GMN'][4297]=np.NaN"
   ]
  },
  {
   "cell_type": "markdown",
   "metadata": {},
   "source": [
    "### fuzzt endereço google vs CNES"
   ]
  },
  {
   "cell_type": "code",
   "execution_count": 38,
   "metadata": {},
   "outputs": [
    {
     "data": {
      "text/html": [
       "<div>\n",
       "<style scoped>\n",
       "    .dataframe tbody tr th:only-of-type {\n",
       "        vertical-align: middle;\n",
       "    }\n",
       "\n",
       "    .dataframe tbody tr th {\n",
       "        vertical-align: top;\n",
       "    }\n",
       "\n",
       "    .dataframe thead th {\n",
       "        text-align: right;\n",
       "    }\n",
       "</style>\n",
       "<table border=\"1\" class=\"dataframe\">\n",
       "  <thead>\n",
       "    <tr style=\"text-align: right;\">\n",
       "      <th></th>\n",
       "      <th>gmapsAddress</th>\n",
       "    </tr>\n",
       "  </thead>\n",
       "  <tbody>\n",
       "    <tr>\n",
       "      <th>13363</th>\n",
       "      <td>R. Carlos Belão, 464 - Vila Juliana, Piraquara...</td>\n",
       "    </tr>\n",
       "    <tr>\n",
       "      <th>7222</th>\n",
       "      <td>Av. Sen. Souza Naves, 1080 - Cristo Rei, Curit...</td>\n",
       "    </tr>\n",
       "    <tr>\n",
       "      <th>1515</th>\n",
       "      <td>Av. Santo Amaro, 22 - Itaim Bibi, São Paulo - ...</td>\n",
       "    </tr>\n",
       "    <tr>\n",
       "      <th>9404</th>\n",
       "      <td>Rua Romero Carvalho, 122 - Centro, Pedro Leopo...</td>\n",
       "    </tr>\n",
       "    <tr>\n",
       "      <th>17817</th>\n",
       "      <td>R. Maranhão, 339 - Santa Efigênia, Belo Horizo...</td>\n",
       "    </tr>\n",
       "  </tbody>\n",
       "</table>\n",
       "</div>"
      ],
      "text/plain": [
       "                                            gmapsAddress\n",
       "13363  R. Carlos Belão, 464 - Vila Juliana, Piraquara...\n",
       "7222   Av. Sen. Souza Naves, 1080 - Cristo Rei, Curit...\n",
       "1515   Av. Santo Amaro, 22 - Itaim Bibi, São Paulo - ...\n",
       "9404   Rua Romero Carvalho, 122 - Centro, Pedro Leopo...\n",
       "17817  R. Maranhão, 339 - Santa Efigênia, Belo Horizo..."
      ]
     },
     "execution_count": 38,
     "metadata": {},
     "output_type": "execute_result"
    }
   ],
   "source": [
    "df[['gmapsAddress']][df['gmapsAddress'].notnull()].sample(5)"
   ]
  },
  {
   "cell_type": "markdown",
   "metadata": {},
   "source": [
    "Juntando varias colunas do CNES para compor uma coluna de endereço só e fazer o fuzzy com a coluna acima do google"
   ]
  },
  {
   "cell_type": "code",
   "execution_count": 39,
   "metadata": {},
   "outputs": [],
   "source": [
    "df['Full_address_CNES'] = df['Logradouro'] + ', ' + df['Número do endereço'] + ' - '+ df['Município'] +' - '+df['UF']+', '+df['CEP']"
   ]
  },
  {
   "cell_type": "code",
   "execution_count": 40,
   "metadata": {},
   "outputs": [
    {
     "data": {
      "text/plain": [
       "0        QNM 17 CONJUNTO H LOTE, 52 - BRASILIA - DF, 72...\n",
       "1        RUA OSCAR KUNIO KAWAKAMI, 1045 - TABAPORA - MT...\n",
       "2           DOUTOR BACELAR, 227 - SAO PAULO - SP, 04026000\n",
       "3        JULIO DE CASTILHOS, 2912 - URUGUAIANA - RS, 97...\n",
       "4         AV DOS AUTONOMISTAS, 896 - OSASCO - SP, 06020012\n",
       "                               ...                        \n",
       "21048        RUA APUCARANA, 282 - SAO PAULO - SP, 03311000\n",
       "21049            RUA PIRATININS, 695 - TUPA - SP, 17600100\n",
       "21050    RUA DR FERNANDO COSTA, 477 - UCHOA - SP, 15890000\n",
       "21051    AVENIDA CAROLINA VON ZUBEN, 858 - VINHEDO - SP...\n",
       "21052    RUA PONTA GROSSA, 377 - TELEMACO BORBA - PR, 8...\n",
       "Name: Full_address_CNES, Length: 21053, dtype: object"
      ]
     },
     "execution_count": 40,
     "metadata": {},
     "output_type": "execute_result"
    }
   ],
   "source": [
    "df['Full_address_CNES']"
   ]
  },
  {
   "cell_type": "code",
   "execution_count": 41,
   "metadata": {},
   "outputs": [
    {
     "name": "stdout",
     "output_type": "stream",
     "text": [
      "<class 'pandas.core.frame.DataFrame'>\n",
      "RangeIndex: 21053 entries, 0 to 21052\n",
      "Data columns (total 2 columns):\n",
      " #   Column             Non-Null Count  Dtype \n",
      "---  ------             --------------  ----- \n",
      " 0   Full_address_CNES  21053 non-null  object\n",
      " 1   gmapsAddress       259 non-null    object\n",
      "dtypes: object(2)\n",
      "memory usage: 329.1+ KB\n"
     ]
    }
   ],
   "source": [
    "df[['Full_address_CNES','gmapsAddress']].info()\n",
    "df['Full_address_CNES'] = df['Full_address_CNES'].astype(str)\n",
    "df['gmapsAddress'] = df['gmapsAddress'].astype(str)\n",
    "for index,row in df.iterrows():\n",
    "    if row['gmapsAddress']!='nan':\n",
    "        # df.loc[index, \"Fuzzy_Address_CNESvsGMN\"] =  fuzz.ratio(unidecode(row['Full_address_CNES'].lower()),unidecode(row['gmapsAddress'].lower()))\n",
    "        # df.loc[index, \"Fuzzy_partial_ratio_Address_CNESvsGMN\"] =  fuzz.partial_ratio(unidecode(row['Full_address_CNES'].lower()),unidecode(row['gmapsAddress'].lower()))\n",
    "        # df.loc[index, \"Fuzzy_token_sort_ratio_Address_CNESvsGMN\"] =  fuzz.token_sort_ratio(unidecode(row['Full_address_CNES'].lower()),unidecode(row['gmapsAddress'].lower()))\n",
    "        df.loc[index, \"Fuzzy_token_set_ratio_Address_CNESvsGMN\"] =  fuzz.token_set_ratio(unidecode(row['Full_address_CNES'].lower()),unidecode(row['gmapsAddress'].lower()))\n",
    "# df[['Full_address_CNES','gmapsAddress','Fuzzy_Address_CNESvsGMN',\"Fuzzy_partial_ratio_Address_CNESvsGMN\",\"Fuzzy_token_sort_ratio_Address_CNESvsGMN\",\"Fuzzy_token_set_ratio_Address_CNESvsGMN\"]][df['gmapsAddress']!='nan'].sort_values(by='Fuzzy_Address_CNESvsGMN',ascending=False)"
   ]
  },
  {
   "cell_type": "code",
   "execution_count": 42,
   "metadata": {},
   "outputs": [],
   "source": [
    "df[['CNPJ','Full_address_CNES','gmapsAddress',\"Fuzzy_token_set_ratio_Address_CNESvsGMN\"]][df['gmapsAddress']!='nan'].sort_values(by='Fuzzy_token_set_ratio_Address_CNESvsGMN',ascending=False).to_excel('fuzzy_address2.xlsx')\n"
   ]
  },
  {
   "cell_type": "code",
   "execution_count": 43,
   "metadata": {},
   "outputs": [
    {
     "name": "stdout",
     "output_type": "stream",
     "text": [
      "<class 'pandas.core.frame.DataFrame'>\n",
      "RangeIndex: 21053 entries, 0 to 21052\n",
      "Data columns (total 3 columns):\n",
      " #   Column                                   Non-Null Count  Dtype  \n",
      "---  ------                                   --------------  -----  \n",
      " 0   Full_address_CNES                        21053 non-null  object \n",
      " 1   gmapsAddress                             21053 non-null  object \n",
      " 2   Fuzzy_token_set_ratio_Address_CNESvsGMN  259 non-null    float64\n",
      "dtypes: float64(1), object(2)\n",
      "memory usage: 493.6+ KB\n"
     ]
    }
   ],
   "source": [
    "df[['Full_address_CNES','gmapsAddress',\"Fuzzy_token_set_ratio_Address_CNESvsGMN\"]].info()\n"
   ]
  },
  {
   "cell_type": "code",
   "execution_count": 44,
   "metadata": {},
   "outputs": [],
   "source": [
    "df['gmapsAddress'] = df['gmapsAddress'].apply(lambda x: x.replace('nan',''))\n"
   ]
  },
  {
   "cell_type": "code",
   "execution_count": 45,
   "metadata": {},
   "outputs": [
    {
     "data": {
      "text/plain": [
       "<AxesSubplot:>"
      ]
     },
     "execution_count": 45,
     "metadata": {},
     "output_type": "execute_result"
    },
    {
     "data": {
      "image/png": "[encoded data removed]",
      "text/plain": [
       "<Figure size 432x288 with 1 Axes>"
      ]
     },
     "metadata": {
      "needs_background": "light"
     },
     "output_type": "display_data"
    }
   ],
   "source": [
    "df[\"Fuzzy_token_set_ratio_Address_CNESvsGMN\"].hist(bins=20)\n"
   ]
  },
  {
   "cell_type": "markdown",
   "metadata": {},
   "source": [
    "###### Regra para deletar endereços que não fazem sentido baseado no limite de fuzzy\n"
   ]
  },
  {
   "cell_type": "code",
   "execution_count": 46,
   "metadata": {},
   "outputs": [],
   "source": [
    "for index,row in df.iterrows():\n",
    "    if row[\"Fuzzy_token_set_ratio_Address_CNESvsGMN\"]<69:\n",
    "        df.loc[index,'gmapsAddress']=np.NaN\n",
    "        df.loc[index,\"Fuzzy_token_set_ratio_Address_CNESvsGMN\"]=np.NaN\n"
   ]
  },
  {
   "cell_type": "code",
   "execution_count": 47,
   "metadata": {},
   "outputs": [
    {
     "data": {
      "text/plain": [
       "206"
      ]
     },
     "execution_count": 47,
     "metadata": {},
     "output_type": "execute_result"
    }
   ],
   "source": [
    "df[df[\"Fuzzy_token_set_ratio_Address_CNESvsGMN\"].notnull()].shape[0]"
   ]
  },
  {
   "cell_type": "markdown",
   "metadata": {},
   "source": [
    "# CNES vs Transunion"
   ]
  },
  {
   "cell_type": "code",
   "execution_count": 48,
   "metadata": {},
   "outputs": [
    {
     "name": "stdout",
     "output_type": "stream",
     "text": [
      "<class 'pandas.core.frame.DataFrame'>\n",
      "RangeIndex: 21053 entries, 0 to 21052\n",
      "Data columns (total 2 columns):\n",
      " #   Column                   Non-Null Count  Dtype \n",
      "---  ------                   --------------  ----- \n",
      " 0   Razão Social             21053 non-null  object\n",
      " 1   Razao_Social_transunion  400 non-null    object\n",
      "dtypes: object(2)\n",
      "memory usage: 329.1+ KB\n"
     ]
    }
   ],
   "source": [
    "#Razão Social\n",
    "df[['Razão Social','Razao_Social_transunion']].info()\n",
    "df['Razão Social'] = df['Razão Social'].astype(str)\n",
    "df['Razao_Social_transunion'] = df['Razao_Social_transunion'].astype(str)\n",
    "df[['Razão Social','Razao_Social_transunion']].sample(5)\n",
    "\n",
    "for index,row in df.iterrows():\n",
    "    if row['Razao_Social_transunion']!='nan':\n",
    "        df.loc[index, \"Fuzzy_Razão_CNESvsTransunion\"] =  fuzz.ratio(unidecode(row['Razão Social'].lower()),unidecode(row['Razao_Social_transunion'].lower()))\n",
    "#         df.loc[index, \"Fuzzy_partial_ratio_Razão_CNESvsTransunion\"] =  fuzz.partial_ratio(unidecode(row['Razão Social'].lower()),unidecode(row['Razao_Social_transunion'].lower()))\n",
    "#         df.loc[index, \"Fuzzy_token_sort_ratio_Razão_CNESvsTransunion\"] =  fuzz.token_sort_ratio(unidecode(row['Razão Social'].lower()),unidecode(row['Razao_Social_transunion'].lower()))\n",
    "#         df.loc[index, \"Fuzzy_token_set_ratio_Razão_CNESvsTransunion\"] =  fuzz.token_set_ratio(unidecode(row['Razão Social'].lower()),unidecode(row['Razao_Social_transunion'].lower()))\n",
    "# df[['Razão Social','Razao_Social_transunion','Fuzzy_Razão_CNESvsTransunion',\"Fuzzy_partial_ratio_Razão_CNESvsTransunion\",\"Fuzzy_token_sort_ratio_Razão_CNESvsTransunion\",\"Fuzzy_token_set_ratio_Razão_CNESvsTransunion\"]][df['Razao_Social_transunion']!='nan'].sort_values(by='Fuzzy_Razão_CNESvsTransunion',ascending=False)"
   ]
  },
  {
   "cell_type": "code",
   "execution_count": 49,
   "metadata": {},
   "outputs": [
    {
     "data": {
      "text/html": [
       "<div>\n",
       "<style scoped>\n",
       "    .dataframe tbody tr th:only-of-type {\n",
       "        vertical-align: middle;\n",
       "    }\n",
       "\n",
       "    .dataframe tbody tr th {\n",
       "        vertical-align: top;\n",
       "    }\n",
       "\n",
       "    .dataframe thead th {\n",
       "        text-align: right;\n",
       "    }\n",
       "</style>\n",
       "<table border=\"1\" class=\"dataframe\">\n",
       "  <thead>\n",
       "    <tr style=\"text-align: right;\">\n",
       "      <th></th>\n",
       "      <th>Razão Social</th>\n",
       "      <th>Razao_Social_transunion</th>\n",
       "      <th>Fuzzy_Razão_CNESvsTransunion</th>\n",
       "    </tr>\n",
       "  </thead>\n",
       "  <tbody>\n",
       "    <tr>\n",
       "      <th>140</th>\n",
       "      <td>GAIA CLINICA DE PSICOLOGIA E ESPECIALIDADES ME...</td>\n",
       "      <td>GAIA CLINICA DE PSICOLOGIA E ESPECIALIDADES ME...</td>\n",
       "      <td>100.0</td>\n",
       "    </tr>\n",
       "    <tr>\n",
       "      <th>14194</th>\n",
       "      <td>CENTRO PSICOTERAPICO LTDA</td>\n",
       "      <td>CENTRO PSICOTERAPICO LTDA</td>\n",
       "      <td>100.0</td>\n",
       "    </tr>\n",
       "    <tr>\n",
       "      <th>14631</th>\n",
       "      <td>CIPP CENTRO INTEGRADO DE PSIQUIATRIA E PSICOLO...</td>\n",
       "      <td>CIPP CENTRO INTEGRADO DE PSIQUIATRIA E PSICOLO...</td>\n",
       "      <td>100.0</td>\n",
       "    </tr>\n",
       "    <tr>\n",
       "      <th>14622</th>\n",
       "      <td>WHBOT SAUDE PLENA E MEDICINA LTDA</td>\n",
       "      <td>WHBOT SAUDE PLENA E MEDICINA LTDA</td>\n",
       "      <td>100.0</td>\n",
       "    </tr>\n",
       "    <tr>\n",
       "      <th>14584</th>\n",
       "      <td>PACTO POA PROGRAMA DE AUXILIO COMUNITARIO TERA...</td>\n",
       "      <td>PACTO POA PROGRAMA DE AUXILIO COMUNITARIO TERA...</td>\n",
       "      <td>100.0</td>\n",
       "    </tr>\n",
       "    <tr>\n",
       "      <th>...</th>\n",
       "      <td>...</td>\n",
       "      <td>...</td>\n",
       "      <td>...</td>\n",
       "    </tr>\n",
       "    <tr>\n",
       "      <th>7150</th>\n",
       "      <td>CSM CENTRO ESPECIALIZADO EM SAUDE MENTAL E GER...</td>\n",
       "      <td>CSM CENTRO ESPECIALIZADO EM SAUDE MENTAL E GER...</td>\n",
       "      <td>100.0</td>\n",
       "    </tr>\n",
       "    <tr>\n",
       "      <th>6997</th>\n",
       "      <td>CENTRO MEDICO MADRID LTDA</td>\n",
       "      <td>CENTRO MEDICO MADRID LTDA</td>\n",
       "      <td>100.0</td>\n",
       "    </tr>\n",
       "    <tr>\n",
       "      <th>6987</th>\n",
       "      <td>UP UNIDADE DE PSQUIATRIA LTDA EPP</td>\n",
       "      <td>UP UNIDADE DE PSQUIATRIA LTDA EPP</td>\n",
       "      <td>100.0</td>\n",
       "    </tr>\n",
       "    <tr>\n",
       "      <th>6914</th>\n",
       "      <td>CLIMEPE CLINICA DE MEDICINA PSICOLOGIA E ESP LTDA</td>\n",
       "      <td>CLIMEPE CLINICA DE MEDICINA PSICOLOGIA E ESP LTDA</td>\n",
       "      <td>100.0</td>\n",
       "    </tr>\n",
       "    <tr>\n",
       "      <th>21000</th>\n",
       "      <td>CENTRO DE CONVIVENCIA E ATENCAO PSICOSSOCIAL LTDA</td>\n",
       "      <td>CENTRO DE CONVIVENCIA E ATENCAO PSICOSSOCIAL LTDA</td>\n",
       "      <td>100.0</td>\n",
       "    </tr>\n",
       "  </tbody>\n",
       "</table>\n",
       "<p>400 rows × 3 columns</p>\n",
       "</div>"
      ],
      "text/plain": [
       "                                            Razão Social  \\\n",
       "140    GAIA CLINICA DE PSICOLOGIA E ESPECIALIDADES ME...   \n",
       "14194                          CENTRO PSICOTERAPICO LTDA   \n",
       "14631  CIPP CENTRO INTEGRADO DE PSIQUIATRIA E PSICOLO...   \n",
       "14622                  WHBOT SAUDE PLENA E MEDICINA LTDA   \n",
       "14584  PACTO POA PROGRAMA DE AUXILIO COMUNITARIO TERA...   \n",
       "...                                                  ...   \n",
       "7150   CSM CENTRO ESPECIALIZADO EM SAUDE MENTAL E GER...   \n",
       "6997                           CENTRO MEDICO MADRID LTDA   \n",
       "6987                   UP UNIDADE DE PSQUIATRIA LTDA EPP   \n",
       "6914   CLIMEPE CLINICA DE MEDICINA PSICOLOGIA E ESP LTDA   \n",
       "21000  CENTRO DE CONVIVENCIA E ATENCAO PSICOSSOCIAL LTDA   \n",
       "\n",
       "                                 Razao_Social_transunion  \\\n",
       "140    GAIA CLINICA DE PSICOLOGIA E ESPECIALIDADES ME...   \n",
       "14194                          CENTRO PSICOTERAPICO LTDA   \n",
       "14631  CIPP CENTRO INTEGRADO DE PSIQUIATRIA E PSICOLO...   \n",
       "14622                  WHBOT SAUDE PLENA E MEDICINA LTDA   \n",
       "14584  PACTO POA PROGRAMA DE AUXILIO COMUNITARIO TERA...   \n",
       "...                                                  ...   \n",
       "7150   CSM CENTRO ESPECIALIZADO EM SAUDE MENTAL E GER...   \n",
       "6997                           CENTRO MEDICO MADRID LTDA   \n",
       "6987                   UP UNIDADE DE PSQUIATRIA LTDA EPP   \n",
       "6914   CLIMEPE CLINICA DE MEDICINA PSICOLOGIA E ESP LTDA   \n",
       "21000  CENTRO DE CONVIVENCIA E ATENCAO PSICOSSOCIAL LTDA   \n",
       "\n",
       "       Fuzzy_Razão_CNESvsTransunion  \n",
       "140                           100.0  \n",
       "14194                         100.0  \n",
       "14631                         100.0  \n",
       "14622                         100.0  \n",
       "14584                         100.0  \n",
       "...                             ...  \n",
       "7150                          100.0  \n",
       "6997                          100.0  \n",
       "6987                          100.0  \n",
       "6914                          100.0  \n",
       "21000                         100.0  \n",
       "\n",
       "[400 rows x 3 columns]"
      ]
     },
     "execution_count": 49,
     "metadata": {},
     "output_type": "execute_result"
    }
   ],
   "source": [
    "df[['Razão Social','Razao_Social_transunion','Fuzzy_Razão_CNESvsTransunion']][df['Razao_Social_transunion']!='nan'].sort_values(by='Fuzzy_Razão_CNESvsTransunion',ascending=False)\n"
   ]
  },
  {
   "cell_type": "code",
   "execution_count": 50,
   "metadata": {},
   "outputs": [
    {
     "name": "stdout",
     "output_type": "stream",
     "text": [
      "<class 'pandas.core.frame.DataFrame'>\n",
      "RangeIndex: 21053 entries, 0 to 21052\n",
      "Data columns (total 3 columns):\n",
      " #   Column                        Non-Null Count  Dtype  \n",
      "---  ------                        --------------  -----  \n",
      " 0   Razão Social                  21053 non-null  object \n",
      " 1   Razao_Social_transunion       21053 non-null  object \n",
      " 2   Fuzzy_Razão_CNESvsTransunion  400 non-null    float64\n",
      "dtypes: float64(1), object(2)\n",
      "memory usage: 493.6+ KB\n"
     ]
    }
   ],
   "source": [
    "df[['Razão Social','Razao_Social_transunion','Fuzzy_Razão_CNESvsTransunion']].info()"
   ]
  },
  {
   "cell_type": "code",
   "execution_count": 51,
   "metadata": {},
   "outputs": [],
   "source": [
    "df['Razao_Social_transunion'] = df['Razao_Social_transunion'].apply(lambda x: x.replace('nan',''))\n"
   ]
  },
  {
   "cell_type": "code",
   "execution_count": 52,
   "metadata": {},
   "outputs": [
    {
     "data": {
      "text/plain": [
       "100.0    400\n",
       "Name: Fuzzy_Razão_CNESvsTransunion, dtype: int64"
      ]
     },
     "execution_count": 52,
     "metadata": {},
     "output_type": "execute_result"
    },
    {
     "data": {
      "image/png": "[encoded data removed]",
      "text/plain": [
       "<Figure size 432x288 with 1 Axes>"
      ]
     },
     "metadata": {
      "needs_background": "light"
     },
     "output_type": "display_data"
    }
   ],
   "source": [
    "df[\"Fuzzy_Razão_CNESvsTransunion\"].hist(bins=20)\n",
    "df[\"Fuzzy_Razão_CNESvsTransunion\"].value_counts()\n"
   ]
  },
  {
   "cell_type": "markdown",
   "metadata": {},
   "source": [
    "# CNES vs Escavador"
   ]
  },
  {
   "cell_type": "code",
   "execution_count": 53,
   "metadata": {},
   "outputs": [
    {
     "name": "stdout",
     "output_type": "stream",
     "text": [
      "<class 'pandas.core.frame.DataFrame'>\n",
      "RangeIndex: 21053 entries, 0 to 21052\n",
      "Data columns (total 2 columns):\n",
      " #   Column          Non-Null Count  Dtype \n",
      "---  ------          --------------  ----- \n",
      " 0   Razão Social    21053 non-null  object\n",
      " 1   nome_escavador  21053 non-null  object\n",
      "dtypes: object(2)\n",
      "memory usage: 329.1+ KB\n"
     ]
    }
   ],
   "source": [
    "df[['Razão Social','nome_escavador']].info()"
   ]
  },
  {
   "cell_type": "code",
   "execution_count": 54,
   "metadata": {},
   "outputs": [
    {
     "name": "stdout",
     "output_type": "stream",
     "text": [
      "<class 'pandas.core.frame.DataFrame'>\n",
      "RangeIndex: 21053 entries, 0 to 21052\n",
      "Data columns (total 2 columns):\n",
      " #   Column          Non-Null Count  Dtype \n",
      "---  ------          --------------  ----- \n",
      " 0   Razão Social    21053 non-null  object\n",
      " 1   nome_escavador  21053 non-null  object\n",
      "dtypes: object(2)\n",
      "memory usage: 329.1+ KB\n"
     ]
    }
   ],
   "source": [
    "#Razão Social\n",
    "df[['Razão Social','nome_escavador']].info()\n",
    "df['Razão Social'] = df['Razão Social'].astype(str)\n",
    "df['nome_escavador'] = df['nome_escavador'].astype(str)\n",
    "# df[['Razão Social','nome_escavador']].sample(5)\n",
    "\n",
    "for index,row in df.iterrows():\n",
    "    if row['nome_escavador']!='nan':\n",
    "        df.loc[index, \"Fuzzy_Razão_CNESvsEscavador\"] =  fuzz.ratio(unidecode(row['Razão Social'].lower()),unidecode(row['nome_escavador'].lower()))\n",
    "#         df.loc[index, \"Fuzzy_partial_ratio_Razão_CNESvsTransunion\"] =  fuzz.partial_ratio(unidecode(row['Razão Social'].lower()),unidecode(row['nome_escavador'].lower()))\n",
    "#         df.loc[index, \"Fuzzy_token_sort_ratio_Razão_CNESvsTransunion\"] =  fuzz.token_sort_ratio(unidecode(row['Razão Social'].lower()),unidecode(row['nome_escavador'].lower()))\n",
    "#         df.loc[index, \"Fuzzy_token_set_ratio_Razão_CNESvsTransunion\"] =  fuzz.token_set_ratio(unidecode(row['Razão Social'].lower()),unidecode(row['nome_escavador'].lower()))\n",
    "# df[['Razão Social','nome_escavador','Fuzzy_Razão_CNESvsTransunion',\"Fuzzy_partial_ratio_Razão_CNESvsTransunion\",\"Fuzzy_token_sort_ratio_Razão_CNESvsTransunion\",\"Fuzzy_token_set_ratio_Razão_CNESvsTransunion\"]][df['nome_escavador']!='nan'].sort_values(by='Fuzzy_Razão_CNESvsTransunion',ascending=False)"
   ]
  },
  {
   "cell_type": "code",
   "execution_count": 55,
   "metadata": {},
   "outputs": [
    {
     "name": "stdout",
     "output_type": "stream",
     "text": [
      "<class 'pandas.core.frame.DataFrame'>\n",
      "RangeIndex: 21053 entries, 0 to 21052\n",
      "Data columns (total 3 columns):\n",
      " #   Column                       Non-Null Count  Dtype  \n",
      "---  ------                       --------------  -----  \n",
      " 0   Razão Social                 21053 non-null  object \n",
      " 1   nome_escavador               21053 non-null  object \n",
      " 2   Fuzzy_Razão_CNESvsEscavador  21053 non-null  float64\n",
      "dtypes: float64(1), object(2)\n",
      "memory usage: 493.6+ KB\n"
     ]
    }
   ],
   "source": [
    "df[['Razão Social','nome_escavador',\"Fuzzy_Razão_CNESvsEscavador\"]].info()\n"
   ]
  },
  {
   "cell_type": "code",
   "execution_count": 56,
   "metadata": {},
   "outputs": [
    {
     "data": {
      "text/plain": [
       "100.0    18321\n",
       "98.0       680\n",
       "97.0       456\n",
       "96.0       219\n",
       "95.0       192\n",
       "         ...  \n",
       "51.0         1\n",
       "14.0         1\n",
       "18.0         1\n",
       "26.0         1\n",
       "22.0         1\n",
       "Name: Fuzzy_Razão_CNESvsEscavador, Length: 77, dtype: int64"
      ]
     },
     "execution_count": 56,
     "metadata": {},
     "output_type": "execute_result"
    },
    {
     "data": {
      "image/png": "[encoded data removed]",
      "text/plain": [
       "<Figure size 432x288 with 1 Axes>"
      ]
     },
     "metadata": {
      "needs_background": "light"
     },
     "output_type": "display_data"
    }
   ],
   "source": [
    "df[\"Fuzzy_Razão_CNESvsEscavador\"].hist(bins=20)\n",
    "df[\"Fuzzy_Razão_CNESvsEscavador\"].value_counts()"
   ]
  },
  {
   "cell_type": "markdown",
   "metadata": {},
   "source": [
    "# Extraindo a base"
   ]
  },
  {
   "cell_type": "code",
   "execution_count": 57,
   "metadata": {},
   "outputs": [],
   "source": [
    "df.to_csv(r'App\\base3.csv',index=False)"
   ]
  }
 ],
 "metadata": {
  "interpreter": {
   "hash": "21b8f758fb4715b4b81f2c423d88e7315ea58c9a3d8976542b4ef22d08a865e7"
  },
  "kernelspec": {
   "display_name": "Python 3.8.8 ('Data_Science')",
   "language": "python",
   "name": "python3"
  },
  "language_info": {
   "codemirror_mode": {
    "name": "ipython",
    "version": 3
   },
   "file_extension": ".py",
   "mimetype": "text/x-python",
   "name": "python",
   "nbconvert_exporter": "python",
   "pygments_lexer": "ipython3",
   "version": "3.8.8"
  },
  "orig_nbformat": 4
 },
 "nbformat": 4,
 "nbformat_minor": 2
}
