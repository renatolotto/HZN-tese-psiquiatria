{
 "cells": [
  {
   "cell_type": "code",
   "execution_count": 1,
   "metadata": {},
   "outputs": [],
   "source": [
    "import pandas as pd\n",
    "from sqlalchemy import create_engine"
   ]
  },
  {
   "cell_type": "code",
   "execution_count": 2,
   "metadata": {},
   "outputs": [
    {
     "name": "stdout",
     "output_type": "stream",
     "text": [
      "<class 'pandas.core.frame.DataFrame'>\n",
      "RangeIndex: 393062 entries, 0 to 393061\n",
      "Data columns (total 77 columns):\n",
      " #   Column                                       Non-Null Count   Dtype  \n",
      "---  ------                                       --------------   -----  \n",
      " 0   id                                           393062 non-null  int64  \n",
      " 1   cnes                                         393062 non-null  int64  \n",
      " 2   Nome Fantasia                                393043 non-null  object \n",
      " 3   Razão Social                                 393059 non-null  object \n",
      " 4   Natureza Jurídica                            393058 non-null  float64\n",
      " 5   Natureza Jurídica Mantenedora                95526 non-null   object \n",
      " 6   CNPJ                                         164043 non-null  float64\n",
      " 7   Tipo de Pessoa                               393062 non-null  int64  \n",
      " 8   Nível de dependência                         393062 non-null  int64  \n",
      " 9   Número do Alvará                             272820 non-null  object \n",
      " 10  Data de expedição do Alvará                  271492 non-null  object \n",
      " 11  Orgão expedidor Alvará                       276945 non-null  object \n",
      " 12  Tipo de Unidade                              393062 non-null  object \n",
      " 13  Subtipo de Unidade                           73363 non-null   object \n",
      " 14  Logradouro                                   393062 non-null  object \n",
      " 15  Número do endereço                           392802 non-null  object \n",
      " 16  CEP                                          393062 non-null  int64  \n",
      " 17  Regional de Saude                            200988 non-null  object \n",
      " 18  Bairro                                       393061 non-null  object \n",
      " 19  Complemento                                  176450 non-null  object \n",
      " 20  Cod. Município                               393062 non-null  int64  \n",
      " 21  Município                                    393062 non-null  object \n",
      " 22  UF                                           393062 non-null  object \n",
      " 23  Tipo de Gestão                               393062 non-null  object \n",
      " 24  Telefone                                     308999 non-null  object \n",
      " 25  Sempre aberto?                               341936 non-null  object \n",
      " 26  cód Motivo Desabilitação                     83667 non-null   object \n",
      " 27  Motitivo desabilitação                       83667 non-null   object \n",
      " 28  CPF Diretor                                  345878 non-null  object \n",
      " 29  Situação contrato formalizado                94066 non-null   object \n",
      " 30  Número de Desabilitação                      83086 non-null   object \n",
      " 31  Data da Carga                                393062 non-null  object \n",
      " 32  Data da origem da atualização                393062 non-null  object \n",
      " 33  Data da Atualização                          393062 non-null  object \n",
      " 34  CNPJ MANTENEDORA                             94963 non-null   object \n",
      " 35  NOME MANTENEDORA                             94963 non-null   object \n",
      " 36  leitos_saude_mental                          9513 non-null    float64\n",
      " 37  leitos_saude_mental_SUS                      9513 non-null    float64\n",
      " 38  leitos_hospital_dia                          9513 non-null    float64\n",
      " 39  leitos_hospital_dia_SUS                      9513 non-null    float64\n",
      " 40  leitos_psiquiatria                           9513 non-null    float64\n",
      " 41  leitos_psiquiatria_SUS                       9513 non-null    float64\n",
      " 42  leitos_neurologia                            9513 non-null    float64\n",
      " 43  leitos_neurologia_SUS                        9513 non-null    float64\n",
      " 44  leitos_geriatria                             9513 non-null    float64\n",
      " 45  leitos_geriatria_SUS                         9513 non-null    float64\n",
      " 46  leitos_geriatria_dia                         9513 non-null    float64\n",
      " 47  leitos_geriatria_dia_SUS                     9513 non-null    float64\n",
      " 48  leitos_total                                 9513 non-null    float64\n",
      " 49  leitos_total_SUS                             9513 non-null    float64\n",
      " 50  MEDICO NEUROLOGISTA                          308633 non-null  float64\n",
      " 51  MEDICO PSIQUIATRA                            308633 non-null  float64\n",
      " 52  MEDICO NEUROFISIOLOGISTA CLINICO             308633 non-null  float64\n",
      " 53  PSICOLOGO EDUCACIONAL                        308633 non-null  float64\n",
      " 54  PSICOLOGO CLINICO                            308633 non-null  float64\n",
      " 55  PSICOLOGO HOSPITALAR                         308633 non-null  float64\n",
      " 56  PSICOLOGO SOCIAL                             308633 non-null  float64\n",
      " 57  PSICOLOGO DO TRABALHO                        308633 non-null  float64\n",
      " 58  NEUROPSICOLOGO                               308633 non-null  float64\n",
      " 59  PSICANALISTA                                 308633 non-null  float64\n",
      " 60  PSICOLOGO ACUPUNTURISTA                      308633 non-null  float64\n",
      " 61  TOTAL FUNCIONARIOS                           308633 non-null  float64\n",
      " 62  predict                                      11550 non-null   object \n",
      " 63  GERENTE DE ENFERMAGEM                        32293 non-null   object \n",
      " 64  ENFERMEIRO                                   32293 non-null   object \n",
      " 65  ENFERMEIRO AUDITOR                           32293 non-null   object \n",
      " 66  ENFERMEIRO INTENSIVISTA                      32293 non-null   object \n",
      " 67  ENFERMEIRO PSIQUIATRICO                      32293 non-null   object \n",
      " 68  TECNICO DE ENFERMAGEM                        32293 non-null   object \n",
      " 69  TECNICO DE ENFERMAGEM DE TERAPIA INTENSIVA   32293 non-null   object \n",
      " 70  TECNICO DE ENFERMAGEM EM SAUDE MENTAL        32293 non-null   object \n",
      " 71  TECNICO DE ENFERMAGEM EM SAUDE OCUPACIONAL   32293 non-null   object \n",
      " 72  AUXILIAR DE ENFERMAGEM EM SAUDE MENTAL       0 non-null       object \n",
      " 73  AUXILIAR DE ENFERMAGEM EM SAUDE OCUPACIONAL  0 non-null       object \n",
      " 74  ATENDENTE DE ENFERMAGEM                      32293 non-null   object \n",
      " 75  AUXILIAR DE ENFERMAGEM SOCORRISTA            32293 non-null   object \n",
      " 76  TERAPEUTA OCUPACIONAL                        32293 non-null   object \n",
      "dtypes: float64(28), int64(6), object(43)\n",
      "memory usage: 230.9+ MB\n"
     ]
    }
   ],
   "source": [
    "disk_engine = create_engine(r'sqlite:///C:\\Users\\Renato\\OneDrive\\Pessoal\\RSL Consultoria\\Horizon\\05-Tese Psiquiatria\\HZN-tese-psiquiatria\\psiquiatria.db')\n",
    "df_data = pd.read_sql_query(\"SELECT * FROM data\",disk_engine) \n",
    "df_data.info()"
   ]
  }
 ],
 "metadata": {
  "interpreter": {
   "hash": "21b8f758fb4715b4b81f2c423d88e7315ea58c9a3d8976542b4ef22d08a865e7"
  },
  "kernelspec": {
   "display_name": "Python 3.8.8 ('Data_Science')",
   "language": "python",
   "name": "python3"
  },
  "language_info": {
   "codemirror_mode": {
    "name": "ipython",
    "version": 3
   },
   "file_extension": ".py",
   "mimetype": "text/x-python",
   "name": "python",
   "nbconvert_exporter": "python",
   "pygments_lexer": "ipython3",
   "version": "3.8.8"
  },
  "orig_nbformat": 4
 },
 "nbformat": 4,
 "nbformat_minor": 2
}
