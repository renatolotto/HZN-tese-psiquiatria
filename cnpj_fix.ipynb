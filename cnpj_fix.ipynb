{
 "cells": [
  {
   "cell_type": "code",
   "execution_count": 1,
   "metadata": {},
   "outputs": [],
   "source": [
    "from sqlalchemy import create_engine\n",
    "import pandas as pd\n",
    "import numpy as np"
   ]
  },
  {
   "cell_type": "markdown",
   "metadata": {},
   "source": [
    "# Receita"
   ]
  },
  {
   "cell_type": "markdown",
   "metadata": {},
   "source": [
    "### CNPJ"
   ]
  },
  {
   "cell_type": "code",
   "execution_count": 13,
   "metadata": {},
   "outputs": [
    {
     "name": "stdout",
     "output_type": "stream",
     "text": [
      "<class 'pandas.core.frame.DataFrame'>\n",
      "RangeIndex: 21071 entries, 0 to 21070\n",
      "Data columns (total 5 columns):\n",
      " #   Column           Non-Null Count  Dtype  \n",
      "---  ------           --------------  -----  \n",
      " 0   CO_UNIDADE       21071 non-null  object \n",
      " 1   CO_CNES          21071 non-null  int64  \n",
      " 2   cnpj             21071 non-null  float64\n",
      " 3   NO_RAZAO_SOCIAL  21071 non-null  object \n",
      " 4   cep              19113 non-null  object \n",
      "dtypes: float64(1), int64(1), object(3)\n",
      "memory usage: 823.2+ KB\n"
     ]
    }
   ],
   "source": [
    "disk_engine = create_engine(r'sqlite:///C:\\Users\\Renato\\OneDrive\\Pessoal\\RSL Consultoria\\Horizon\\05-Tese Psiquiatria\\HZN-tese-psiquiatria\\psiquiatria.db')\n",
    "df_RF = pd.read_sql_query(\"SELECT CO_UNIDADE,CO_CNES,cnpj,NO_RAZAO_SOCIAL,cep  FROM receita\",disk_engine) #42 EMPRESAS PRA FAZER SCRAPING\n",
    "df_RF.info()"
   ]
  },
  {
   "cell_type": "code",
   "execution_count": 14,
   "metadata": {},
   "outputs": [
    {
     "data": {
      "text/html": [
       "<div>\n",
       "<style scoped>\n",
       "    .dataframe tbody tr th:only-of-type {\n",
       "        vertical-align: middle;\n",
       "    }\n",
       "\n",
       "    .dataframe tbody tr th {\n",
       "        vertical-align: top;\n",
       "    }\n",
       "\n",
       "    .dataframe thead th {\n",
       "        text-align: right;\n",
       "    }\n",
       "</style>\n",
       "<table border=\"1\" class=\"dataframe\">\n",
       "  <thead>\n",
       "    <tr style=\"text-align: right;\">\n",
       "      <th></th>\n",
       "      <th>CO_UNIDADE</th>\n",
       "      <th>CO_CNES</th>\n",
       "      <th>cnpj</th>\n",
       "      <th>NO_RAZAO_SOCIAL</th>\n",
       "      <th>cep</th>\n",
       "    </tr>\n",
       "  </thead>\n",
       "  <tbody>\n",
       "    <tr>\n",
       "      <th>0</th>\n",
       "      <td>3,53431E+12</td>\n",
       "      <td>7970994</td>\n",
       "      <td>1.358472e+13</td>\n",
       "      <td>TASINAFFO ANTONIASSI LTDA</td>\n",
       "      <td>14.620-000</td>\n",
       "    </tr>\n",
       "    <tr>\n",
       "      <th>1</th>\n",
       "      <td>2,92741E+12</td>\n",
       "      <td>7978359</td>\n",
       "      <td>2.308397e+13</td>\n",
       "      <td>JM PSICOLOGIA LTDA ME</td>\n",
       "      <td>None</td>\n",
       "    </tr>\n",
       "    <tr>\n",
       "      <th>2</th>\n",
       "      <td>5,10791E+12</td>\n",
       "      <td>7824580</td>\n",
       "      <td>2.301707e+13</td>\n",
       "      <td>M G DE CARVALHO SANTOS EIRELI ME</td>\n",
       "      <td>None</td>\n",
       "    </tr>\n",
       "    <tr>\n",
       "      <th>3</th>\n",
       "      <td>3,55031E+12</td>\n",
       "      <td>7912900</td>\n",
       "      <td>2.365926e+13</td>\n",
       "      <td>ONO REVELES MEDICINA E SAUDE</td>\n",
       "      <td>05.409-001</td>\n",
       "    </tr>\n",
       "    <tr>\n",
       "      <th>4</th>\n",
       "      <td>3,15401E+12</td>\n",
       "      <td>7909454</td>\n",
       "      <td>2.397397e+13</td>\n",
       "      <td>BRAZ BIFANO BASTOS ME</td>\n",
       "      <td>None</td>\n",
       "    </tr>\n",
       "  </tbody>\n",
       "</table>\n",
       "</div>"
      ],
      "text/plain": [
       "    CO_UNIDADE  CO_CNES          cnpj                   NO_RAZAO_SOCIAL  \\\n",
       "0  3,53431E+12  7970994  1.358472e+13         TASINAFFO ANTONIASSI LTDA   \n",
       "1  2,92741E+12  7978359  2.308397e+13             JM PSICOLOGIA LTDA ME   \n",
       "2  5,10791E+12  7824580  2.301707e+13  M G DE CARVALHO SANTOS EIRELI ME   \n",
       "3  3,55031E+12  7912900  2.365926e+13      ONO REVELES MEDICINA E SAUDE   \n",
       "4  3,15401E+12  7909454  2.397397e+13             BRAZ BIFANO BASTOS ME   \n",
       "\n",
       "          cep  \n",
       "0  14.620-000  \n",
       "1        None  \n",
       "2        None  \n",
       "3  05.409-001  \n",
       "4        None  "
      ]
     },
     "execution_count": 14,
     "metadata": {},
     "output_type": "execute_result"
    }
   ],
   "source": [
    "df_RF.head()"
   ]
  },
  {
   "cell_type": "code",
   "execution_count": 4,
   "metadata": {},
   "outputs": [
    {
     "name": "stdout",
     "output_type": "stream",
     "text": [
      "No. of characters in each word in the given series:\n"
     ]
    },
    {
     "data": {
      "text/plain": [
       "array([7], dtype=int64)"
      ]
     },
     "execution_count": 4,
     "metadata": {},
     "output_type": "execute_result"
    }
   ],
   "source": [
    "df_RF['cnes_string'] = df_RF['CO_CNES'].astype(str)\n",
    "rst = df_RF['cnes_string'].map(lambda calc: len(calc))\n",
    "print(\"No. of characters in each word in the given series:\")\n",
    "rst.unique() #CNES FORMATO OK"
   ]
  },
  {
   "cell_type": "code",
   "execution_count": 5,
   "metadata": {},
   "outputs": [
    {
     "name": "stdout",
     "output_type": "stream",
     "text": [
      "No. of characters in each word in the given series:\n"
     ]
    },
    {
     "data": {
      "text/plain": [
       "array([14, 13, 12, 11, 10], dtype=int64)"
      ]
     },
     "execution_count": 5,
     "metadata": {},
     "output_type": "execute_result"
    }
   ],
   "source": [
    "#CNPJ\n",
    "df_RF['cnpj_int'] = df_RF['cnpj'].apply(np.int64)\n",
    "df_RF['CNPJ_string'] = df_RF['cnpj_int'].astype(str)\n",
    "df_RF['CNPJ_Lenght'] = df_RF['CNPJ_string'].map(lambda calc: len(calc))\n",
    "print(\"No. of characters in each word in the given series:\")\n",
    "df_RF['CNPJ_Lenght'].unique() #CNPJ FORMATO OK"
   ]
  },
  {
   "cell_type": "code",
   "execution_count": 6,
   "metadata": {},
   "outputs": [],
   "source": [
    "df_RF.loc[df_RF['CNPJ_Lenght']==10,'CNPJ_string']='0000'+df_RF['CNPJ_string']\n",
    "df_RF.loc[df_RF['CNPJ_Lenght']==11,'CNPJ_string']='000'+df_RF['CNPJ_string']\n",
    "df_RF.loc[df_RF['CNPJ_Lenght']==12,'CNPJ_string']='00'+df_RF['CNPJ_string']\n",
    "df_RF.loc[df_RF['CNPJ_Lenght']==13,'CNPJ_string']='0'+df_RF['CNPJ_string']"
   ]
  },
  {
   "cell_type": "code",
   "execution_count": 7,
   "metadata": {},
   "outputs": [
    {
     "data": {
      "text/plain": [
       "array([14], dtype=int64)"
      ]
     },
     "execution_count": 7,
     "metadata": {},
     "output_type": "execute_result"
    }
   ],
   "source": [
    "df_RF['CNPJ_NEW_Lenght'] = df_RF['CNPJ_string'].map(lambda calc: len(calc))\n",
    "df_RF['CNPJ_NEW_Lenght'].unique()# adicionado todos zeros antes de cada cnpj para todos ficarem com 14 digitos\n"
   ]
  },
  {
   "cell_type": "code",
   "execution_count": 8,
   "metadata": {},
   "outputs": [
    {
     "data": {
      "text/plain": [
       "Index(['CO_UNIDADE', 'CO_CNES', 'cnpj', 'NO_RAZAO_SOCIAL', 'cep', 'cep',\n",
       "       'cnes_string', 'cnpj_int', 'CNPJ_string', 'CNPJ_Lenght',\n",
       "       'CNPJ_NEW_Lenght'],\n",
       "      dtype='object')"
      ]
     },
     "execution_count": 8,
     "metadata": {},
     "output_type": "execute_result"
    }
   ],
   "source": [
    "df_RF.columns"
   ]
  },
  {
   "cell_type": "code",
   "execution_count": 9,
   "metadata": {},
   "outputs": [],
   "source": [
    "df_RF['cnpj']=df_RF['CNPJ_string'] #jogando fora cnpj antigo e usando o que geramos acima\n",
    "# criando dict\n",
    "dict_RF_CNPJ = df_RF.set_index('CO_CNES')['cnpj'].to_dict() # PASSAR ESSE DICT NA BASE.CSV\n",
    "# dict_CNES_CNPJ "
   ]
  },
  {
   "cell_type": "markdown",
   "metadata": {},
   "source": [
    "### CEP"
   ]
  },
  {
   "cell_type": "code",
   "execution_count": 18,
   "metadata": {},
   "outputs": [
    {
     "name": "stdout",
     "output_type": "stream",
     "text": [
      "No. of characters in each word in the given series:\n"
     ]
    },
    {
     "data": {
      "text/plain": [
       "array([10,  1], dtype=int64)"
      ]
     },
     "execution_count": 18,
     "metadata": {},
     "output_type": "execute_result"
    }
   ],
   "source": [
    "#CEP\n",
    "df_RF['cep_Lenght'] = df_RF['cep'].fillna('0').map(lambda calc: len(calc))\n",
    "print(\"No. of characters in each word in the given series:\")\n",
    "df_RF['cep_Lenght'].unique() #cep FORMATO OK"
   ]
  },
  {
   "cell_type": "code",
   "execution_count": 45,
   "metadata": {},
   "outputs": [
    {
     "data": {
      "text/html": [
       "<div>\n",
       "<style scoped>\n",
       "    .dataframe tbody tr th:only-of-type {\n",
       "        vertical-align: middle;\n",
       "    }\n",
       "\n",
       "    .dataframe tbody tr th {\n",
       "        vertical-align: top;\n",
       "    }\n",
       "\n",
       "    .dataframe thead th {\n",
       "        text-align: right;\n",
       "    }\n",
       "</style>\n",
       "<table border=\"1\" class=\"dataframe\">\n",
       "  <thead>\n",
       "    <tr style=\"text-align: right;\">\n",
       "      <th></th>\n",
       "      <th>CO_UNIDADE</th>\n",
       "      <th>CO_CNES</th>\n",
       "      <th>cnpj</th>\n",
       "      <th>NO_RAZAO_SOCIAL</th>\n",
       "      <th>cep</th>\n",
       "      <th>cep_Lenght</th>\n",
       "    </tr>\n",
       "  </thead>\n",
       "  <tbody>\n",
       "    <tr>\n",
       "      <th>0</th>\n",
       "      <td>3,53431E+12</td>\n",
       "      <td>7970994</td>\n",
       "      <td>1.358472e+13</td>\n",
       "      <td>TASINAFFO ANTONIASSI LTDA</td>\n",
       "      <td>14.620-000</td>\n",
       "      <td>10</td>\n",
       "    </tr>\n",
       "    <tr>\n",
       "      <th>3</th>\n",
       "      <td>3,55031E+12</td>\n",
       "      <td>7912900</td>\n",
       "      <td>2.365926e+13</td>\n",
       "      <td>ONO REVELES MEDICINA E SAUDE</td>\n",
       "      <td>05.409-001</td>\n",
       "      <td>10</td>\n",
       "    </tr>\n",
       "    <tr>\n",
       "      <th>5</th>\n",
       "      <td>4,20541E+12</td>\n",
       "      <td>7949278</td>\n",
       "      <td>1.014587e+13</td>\n",
       "      <td>BECKER E BENDER CLINICA PSIQUIATRICA SS ME</td>\n",
       "      <td>88.015-200</td>\n",
       "      <td>10</td>\n",
       "    </tr>\n",
       "  </tbody>\n",
       "</table>\n",
       "</div>"
      ],
      "text/plain": [
       "    CO_UNIDADE  CO_CNES          cnpj  \\\n",
       "0  3,53431E+12  7970994  1.358472e+13   \n",
       "3  3,55031E+12  7912900  2.365926e+13   \n",
       "5  4,20541E+12  7949278  1.014587e+13   \n",
       "\n",
       "                              NO_RAZAO_SOCIAL         cep  cep_Lenght  \n",
       "0                   TASINAFFO ANTONIASSI LTDA  14.620-000          10  \n",
       "3                ONO REVELES MEDICINA E SAUDE  05.409-001          10  \n",
       "5  BECKER E BENDER CLINICA PSIQUIATRICA SS ME  88.015-200          10  "
      ]
     },
     "execution_count": 45,
     "metadata": {},
     "output_type": "execute_result"
    }
   ],
   "source": [
    "df_RF[df_RF['cep_Lenght']==10].head(3)"
   ]
  },
  {
   "cell_type": "code",
   "execution_count": 49,
   "metadata": {},
   "outputs": [
    {
     "name": "stderr",
     "output_type": "stream",
     "text": [
      "<ipython-input-49-7ca8f39337c9>:2: FutureWarning: The default value of regex will change from True to False in a future version. In addition, single character regular expressions will *not* be treated as literal strings when regex=True.\n",
      "  df_RF['cep'] = df_RF['cep'].str.replace('.','').str.replace('-','')\n"
     ]
    }
   ],
   "source": [
    "#tirando . e - do cep RF\n",
    "df_RF['cep'] = df_RF['cep'].str.replace('.','').str.replace('-','')"
   ]
  },
  {
   "cell_type": "code",
   "execution_count": 50,
   "metadata": {},
   "outputs": [
    {
     "name": "stdout",
     "output_type": "stream",
     "text": [
      "No. of characters in each word in the given series:\n"
     ]
    },
    {
     "data": {
      "text/plain": [
       "array([8, 1], dtype=int64)"
      ]
     },
     "execution_count": 50,
     "metadata": {},
     "output_type": "execute_result"
    }
   ],
   "source": [
    "df_RF['cep_Lenght'] = df_RF['cep'].fillna('0').map(lambda calc: len(calc))\n",
    "print(\"No. of characters in each word in the given series:\")\n",
    "df_RF['cep_Lenght'].unique() #cep FORMATO OK"
   ]
  },
  {
   "cell_type": "code",
   "execution_count": 53,
   "metadata": {},
   "outputs": [],
   "source": [
    "dict_RF_CEP = df_RF.set_index('CO_CNES')['cep'].to_dict() # PASSAR ESSE DICT NA BASE.CSV\n",
    "# dict_RF_CEP\n"
   ]
  },
  {
   "cell_type": "markdown",
   "metadata": {},
   "source": [
    "# CNES\n"
   ]
  },
  {
   "cell_type": "markdown",
   "metadata": {},
   "source": [
    "### CNPJ"
   ]
  },
  {
   "cell_type": "code",
   "execution_count": 22,
   "metadata": {},
   "outputs": [
    {
     "name": "stdout",
     "output_type": "stream",
     "text": [
      "<class 'pandas.core.frame.DataFrame'>\n",
      "RangeIndex: 393062 entries, 0 to 393061\n",
      "Data columns (total 6 columns):\n",
      " #   Column         Non-Null Count   Dtype  \n",
      "---  ------         --------------   -----  \n",
      " 0   id             393062 non-null  int64  \n",
      " 1   cnes           393062 non-null  int64  \n",
      " 2   Nome Fantasia  393043 non-null  object \n",
      " 3   Razão Social   393059 non-null  object \n",
      " 4   CNPJ           164043 non-null  float64\n",
      " 5   CEP            393062 non-null  int64  \n",
      "dtypes: float64(1), int64(3), object(2)\n",
      "memory usage: 18.0+ MB\n"
     ]
    }
   ],
   "source": [
    "disk_engine = create_engine(r'sqlite:///C:\\Users\\Renato\\OneDrive\\Pessoal\\RSL Consultoria\\Horizon\\05-Tese Psiquiatria\\HZN-tese-psiquiatria\\psiquiatria.db')\n",
    "df_CNES = pd.read_sql_query(\"SELECT id,cnes,\\\"Nome Fantasia\\\", \\\"Razão Social\\\",CNPJ,CEP  FROM DATA\",disk_engine) #42 EMPRESAS PRA FAZER SCRAPING\n",
    "df_CNES.info()"
   ]
  },
  {
   "cell_type": "code",
   "execution_count": 23,
   "metadata": {},
   "outputs": [
    {
     "data": {
      "text/plain": [
       "393062"
      ]
     },
     "execution_count": 23,
     "metadata": {},
     "output_type": "execute_result"
    }
   ],
   "source": [
    "df_CNES['cnes'].nunique()"
   ]
  },
  {
   "cell_type": "code",
   "execution_count": 24,
   "metadata": {},
   "outputs": [
    {
     "name": "stdout",
     "output_type": "stream",
     "text": [
      "No. of characters in each word in the given series:\n"
     ]
    },
    {
     "data": {
      "text/plain": [
       "array([7], dtype=int64)"
      ]
     },
     "execution_count": 24,
     "metadata": {},
     "output_type": "execute_result"
    }
   ],
   "source": [
    "df_CNES['cnes_string'] = df_CNES['cnes'].astype(str)\n",
    "rst = df_CNES['cnes_string'].map(lambda calc: len(calc))\n",
    "print(\"No. of characters in each word in the given series:\")\n",
    "rst.unique() #CNES FORMATO OK"
   ]
  },
  {
   "cell_type": "code",
   "execution_count": 25,
   "metadata": {},
   "outputs": [],
   "source": [
    "df_CNES = df_CNES[df_CNES['CNPJ'].notnull()]"
   ]
  },
  {
   "cell_type": "code",
   "execution_count": 26,
   "metadata": {},
   "outputs": [
    {
     "name": "stdout",
     "output_type": "stream",
     "text": [
      "No. of characters in each word in the given series:\n"
     ]
    },
    {
     "data": {
      "text/plain": [
       "array([13, 14, 12, 11,  9, 10,  8,  6], dtype=int64)"
      ]
     },
     "execution_count": 26,
     "metadata": {},
     "output_type": "execute_result"
    }
   ],
   "source": [
    "#CNPJ\n",
    "df_CNES['CNPJ_int'] = df_CNES['CNPJ'].apply(np.int64)\n",
    "df_CNES['CNPJ_string'] = df_CNES['CNPJ_int'].astype(str)\n",
    "df_CNES['CNPJ_Lenght'] = df_CNES['CNPJ_string'].map(lambda calc: len(calc))\n",
    "print(\"No. of characters in each word in the given series:\")\n",
    "df_CNES['CNPJ_Lenght'].unique() #CNPJ FORMATO OK"
   ]
  },
  {
   "cell_type": "code",
   "execution_count": 27,
   "metadata": {},
   "outputs": [],
   "source": [
    "df_CNES.loc[df_CNES['CNPJ_Lenght']==6,'CNPJ_string']='00000000'+df_CNES['CNPJ_string']\n",
    "df_CNES.loc[df_CNES['CNPJ_Lenght']==8,'CNPJ_string']='000000'+df_CNES['CNPJ_string']\n",
    "df_CNES.loc[df_CNES['CNPJ_Lenght']==9,'CNPJ_string']='00000'+df_CNES['CNPJ_string']\n",
    "df_CNES.loc[df_CNES['CNPJ_Lenght']==10,'CNPJ_string']='0000'+df_CNES['CNPJ_string']\n",
    "df_CNES.loc[df_CNES['CNPJ_Lenght']==11,'CNPJ_string']='000'+df_CNES['CNPJ_string']\n",
    "df_CNES.loc[df_CNES['CNPJ_Lenght']==12,'CNPJ_string']='00'+df_CNES['CNPJ_string']\n",
    "df_CNES.loc[df_CNES['CNPJ_Lenght']==13,'CNPJ_string']='0'+df_CNES['CNPJ_string']\n"
   ]
  },
  {
   "cell_type": "code",
   "execution_count": 28,
   "metadata": {},
   "outputs": [
    {
     "data": {
      "text/plain": [
       "array([14], dtype=int64)"
      ]
     },
     "execution_count": 28,
     "metadata": {},
     "output_type": "execute_result"
    }
   ],
   "source": [
    "df_CNES['CNPJ_NEW_Lenght'] = df_CNES['CNPJ_string'].map(lambda calc: len(calc))\n",
    "df_CNES['CNPJ_NEW_Lenght'].unique()# adicionado todos zeros antes de cada cnpj para todos ficarem com 14 digitos"
   ]
  },
  {
   "cell_type": "code",
   "execution_count": 29,
   "metadata": {},
   "outputs": [],
   "source": [
    "dict_CNES_CNPJ = df_CNES.set_index('cnes')['CNPJ_string'].to_dict() # PASSAR ESSE DICT NA BASE.CSV\n",
    "# dict_CNES_CNPJ\n"
   ]
  },
  {
   "cell_type": "markdown",
   "metadata": {},
   "source": [
    "### CEP"
   ]
  },
  {
   "cell_type": "code",
   "execution_count": 32,
   "metadata": {},
   "outputs": [
    {
     "name": "stdout",
     "output_type": "stream",
     "text": [
      "No. of characters in each word in the given series:\n"
     ]
    },
    {
     "data": {
      "text/plain": [
       "array([8, 7], dtype=int64)"
      ]
     },
     "execution_count": 32,
     "metadata": {},
     "output_type": "execute_result"
    }
   ],
   "source": [
    "#CEP\n",
    "# df_CNES['CEP_int'] = df_CNES['CEP'].apply(np.int64)\n",
    "df_CNES['CEP_string'] = df_CNES['CEP'].astype(str)\n",
    "df_CNES['CEP_Lenght'] = df_CNES['CEP_string'].map(lambda calc: len(calc))\n",
    "print(\"No. of characters in each word in the given series:\")\n",
    "df_CNES['CEP_Lenght'].unique() #CEP FORMATO OK"
   ]
  },
  {
   "cell_type": "code",
   "execution_count": 37,
   "metadata": {},
   "outputs": [
    {
     "data": {
      "text/html": [
       "<div>\n",
       "<style scoped>\n",
       "    .dataframe tbody tr th:only-of-type {\n",
       "        vertical-align: middle;\n",
       "    }\n",
       "\n",
       "    .dataframe tbody tr th {\n",
       "        vertical-align: top;\n",
       "    }\n",
       "\n",
       "    .dataframe thead th {\n",
       "        text-align: right;\n",
       "    }\n",
       "</style>\n",
       "<table border=\"1\" class=\"dataframe\">\n",
       "  <thead>\n",
       "    <tr style=\"text-align: right;\">\n",
       "      <th></th>\n",
       "      <th>id</th>\n",
       "      <th>cnes</th>\n",
       "      <th>Nome Fantasia</th>\n",
       "      <th>Razão Social</th>\n",
       "      <th>CNPJ</th>\n",
       "      <th>CEP</th>\n",
       "      <th>cnes_string</th>\n",
       "      <th>CNPJ_int</th>\n",
       "      <th>CNPJ_string</th>\n",
       "      <th>CNPJ_Lenght</th>\n",
       "      <th>CNPJ_NEW_Lenght</th>\n",
       "      <th>CEP_string</th>\n",
       "      <th>CEP_Lenght</th>\n",
       "    </tr>\n",
       "  </thead>\n",
       "  <tbody>\n",
       "    <tr>\n",
       "      <th>25</th>\n",
       "      <td>3550307732104</td>\n",
       "      <td>7732104</td>\n",
       "      <td>M FERRARI ODONTOLOGIA</td>\n",
       "      <td>M FERRARI ODONTOLOGIA LTDA</td>\n",
       "      <td>2.139645e+13</td>\n",
       "      <td>5042001</td>\n",
       "      <td>7732104</td>\n",
       "      <td>21396448000146</td>\n",
       "      <td>21396448000146</td>\n",
       "      <td>14</td>\n",
       "      <td>14</td>\n",
       "      <td>5042001</td>\n",
       "      <td>7</td>\n",
       "    </tr>\n",
       "    <tr>\n",
       "      <th>31</th>\n",
       "      <td>3550309577130</td>\n",
       "      <td>9577130</td>\n",
       "      <td>INCREASING SERVICOS MEDICOS</td>\n",
       "      <td>INCREASING SERVICOS MEDICOS LTDA</td>\n",
       "      <td>2.513797e+13</td>\n",
       "      <td>4026000</td>\n",
       "      <td>9577130</td>\n",
       "      <td>25137965000151</td>\n",
       "      <td>25137965000151</td>\n",
       "      <td>14</td>\n",
       "      <td>14</td>\n",
       "      <td>4026000</td>\n",
       "      <td>7</td>\n",
       "    </tr>\n",
       "  </tbody>\n",
       "</table>\n",
       "</div>"
      ],
      "text/plain": [
       "               id     cnes                Nome Fantasia  \\\n",
       "25  3550307732104  7732104        M FERRARI ODONTOLOGIA   \n",
       "31  3550309577130  9577130  INCREASING SERVICOS MEDICOS   \n",
       "\n",
       "                        Razão Social          CNPJ      CEP cnes_string  \\\n",
       "25        M FERRARI ODONTOLOGIA LTDA  2.139645e+13  5042001     7732104   \n",
       "31  INCREASING SERVICOS MEDICOS LTDA  2.513797e+13  4026000     9577130   \n",
       "\n",
       "          CNPJ_int     CNPJ_string  CNPJ_Lenght  CNPJ_NEW_Lenght CEP_string  \\\n",
       "25  21396448000146  21396448000146           14               14    5042001   \n",
       "31  25137965000151  25137965000151           14               14    4026000   \n",
       "\n",
       "    CEP_Lenght  \n",
       "25           7  \n",
       "31           7  "
      ]
     },
     "execution_count": 37,
     "metadata": {},
     "output_type": "execute_result"
    }
   ],
   "source": [
    "df_CNES[df_CNES['CEP_Lenght']==7].head(2)"
   ]
  },
  {
   "cell_type": "code",
   "execution_count": 40,
   "metadata": {},
   "outputs": [],
   "source": [
    "df_CNES.loc[df_CNES['CEP_Lenght']==7,'CEP_string']='0'+df_CNES['CEP_string']"
   ]
  },
  {
   "cell_type": "code",
   "execution_count": 42,
   "metadata": {},
   "outputs": [
    {
     "data": {
      "text/plain": [
       "array([8], dtype=int64)"
      ]
     },
     "execution_count": 42,
     "metadata": {},
     "output_type": "execute_result"
    }
   ],
   "source": [
    "df_CNES['CEP_NEW_Lenght'] = df_CNES['CEP_string'].map(lambda calc: len(calc))\n",
    "df_CNES['CEP_NEW_Lenght'].unique()# adicionado todos zeros antes de cada CEP para todos ficarem com 8 digitos\n"
   ]
  },
  {
   "cell_type": "code",
   "execution_count": 44,
   "metadata": {},
   "outputs": [],
   "source": [
    "dict_CNES_CEP = df_CNES.set_index('cnes')['CEP_string'].to_dict() # PASSAR ESSE DICT NA BASE.CSV\n",
    "# dict_CNES_CEP"
   ]
  },
  {
   "cell_type": "markdown",
   "metadata": {},
   "source": [
    "# Importando BASE.csv"
   ]
  },
  {
   "cell_type": "code",
   "execution_count": 54,
   "metadata": {},
   "outputs": [
    {
     "name": "stderr",
     "output_type": "stream",
     "text": [
      "<ipython-input-54-dd13301c0222>:1: DtypeWarning: Columns (92,93,123,153,155,156,180) have mixed types. Specify dtype option on import or set low_memory=False.\n",
      "  df = pd.read_csv(r'App\\base.csv', sep = ';', encoding = 'latin1')\n"
     ]
    }
   ],
   "source": [
    "df = pd.read_csv(r'App\\base.csv', sep = ';', encoding = 'latin1')"
   ]
  },
  {
   "cell_type": "markdown",
   "metadata": {},
   "source": [
    "#### Passando dicts de CNPJ"
   ]
  },
  {
   "cell_type": "code",
   "execution_count": 55,
   "metadata": {},
   "outputs": [
    {
     "name": "stdout",
     "output_type": "stream",
     "text": [
      "<class 'pandas.core.frame.DataFrame'>\n",
      "RangeIndex: 21053 entries, 0 to 21052\n",
      "Data columns (total 3 columns):\n",
      " #   Column  Non-Null Count  Dtype \n",
      "---  ------  --------------  ----- \n",
      " 0   cnes    21053 non-null  int64 \n",
      " 1   CNPJ    21053 non-null  object\n",
      " 2   cnpj    21053 non-null  object\n",
      "dtypes: int64(1), object(2)\n",
      "memory usage: 493.6+ KB\n"
     ]
    }
   ],
   "source": [
    "df[['cnes','CNPJ','cnpj']].info()"
   ]
  },
  {
   "cell_type": "code",
   "execution_count": 56,
   "metadata": {},
   "outputs": [
    {
     "data": {
      "text/html": [
       "<div>\n",
       "<style scoped>\n",
       "    .dataframe tbody tr th:only-of-type {\n",
       "        vertical-align: middle;\n",
       "    }\n",
       "\n",
       "    .dataframe tbody tr th {\n",
       "        vertical-align: top;\n",
       "    }\n",
       "\n",
       "    .dataframe thead th {\n",
       "        text-align: right;\n",
       "    }\n",
       "</style>\n",
       "<table border=\"1\" class=\"dataframe\">\n",
       "  <thead>\n",
       "    <tr style=\"text-align: right;\">\n",
       "      <th></th>\n",
       "      <th>cnes</th>\n",
       "      <th>CNPJ</th>\n",
       "      <th>cnpj</th>\n",
       "    </tr>\n",
       "  </thead>\n",
       "  <tbody>\n",
       "    <tr>\n",
       "      <th>0</th>\n",
       "      <td>7035594</td>\n",
       "      <td>1,40884E+13</td>\n",
       "      <td>1,40884E+13</td>\n",
       "    </tr>\n",
       "    <tr>\n",
       "      <th>1</th>\n",
       "      <td>9575782</td>\n",
       "      <td>2,44686E+13</td>\n",
       "      <td>2,44686E+13</td>\n",
       "    </tr>\n",
       "    <tr>\n",
       "      <th>2</th>\n",
       "      <td>9577130</td>\n",
       "      <td>2,5138E+13</td>\n",
       "      <td>2,5138E+13</td>\n",
       "    </tr>\n",
       "  </tbody>\n",
       "</table>\n",
       "</div>"
      ],
      "text/plain": [
       "      cnes         CNPJ         cnpj\n",
       "0  7035594  1,40884E+13  1,40884E+13\n",
       "1  9575782  2,44686E+13  2,44686E+13\n",
       "2  9577130   2,5138E+13   2,5138E+13"
      ]
     },
     "execution_count": 56,
     "metadata": {},
     "output_type": "execute_result"
    }
   ],
   "source": [
    "df[['cnes','CNPJ','cnpj']].head(3)"
   ]
  },
  {
   "cell_type": "code",
   "execution_count": 57,
   "metadata": {},
   "outputs": [],
   "source": [
    "df['cnpj'] = df['cnes'].map(dict_RF_CNPJ) #reescrevendo a col cnpj da receita a partir do dict\n",
    "df['CNPJ'] = df['cnes'].map(dict_CNES_CNPJ) #reescrevendo a col cnpj da base do CNES a partir do dict"
   ]
  },
  {
   "cell_type": "code",
   "execution_count": 58,
   "metadata": {},
   "outputs": [
    {
     "data": {
      "text/html": [
       "<div>\n",
       "<style scoped>\n",
       "    .dataframe tbody tr th:only-of-type {\n",
       "        vertical-align: middle;\n",
       "    }\n",
       "\n",
       "    .dataframe tbody tr th {\n",
       "        vertical-align: top;\n",
       "    }\n",
       "\n",
       "    .dataframe thead th {\n",
       "        text-align: right;\n",
       "    }\n",
       "</style>\n",
       "<table border=\"1\" class=\"dataframe\">\n",
       "  <thead>\n",
       "    <tr style=\"text-align: right;\">\n",
       "      <th></th>\n",
       "      <th>cnes</th>\n",
       "      <th>CNPJ</th>\n",
       "      <th>cnpj</th>\n",
       "    </tr>\n",
       "  </thead>\n",
       "  <tbody>\n",
       "    <tr>\n",
       "      <th>0</th>\n",
       "      <td>7035594</td>\n",
       "      <td>14088437000133</td>\n",
       "      <td>14088437000133</td>\n",
       "    </tr>\n",
       "    <tr>\n",
       "      <th>1</th>\n",
       "      <td>9575782</td>\n",
       "      <td>24468575000100</td>\n",
       "      <td>24468575000100</td>\n",
       "    </tr>\n",
       "    <tr>\n",
       "      <th>2</th>\n",
       "      <td>9577130</td>\n",
       "      <td>25137965000151</td>\n",
       "      <td>25137965000151</td>\n",
       "    </tr>\n",
       "  </tbody>\n",
       "</table>\n",
       "</div>"
      ],
      "text/plain": [
       "      cnes            CNPJ            cnpj\n",
       "0  7035594  14088437000133  14088437000133\n",
       "1  9575782  24468575000100  24468575000100\n",
       "2  9577130  25137965000151  25137965000151"
      ]
     },
     "execution_count": 58,
     "metadata": {},
     "output_type": "execute_result"
    }
   ],
   "source": [
    "df[['cnes','CNPJ','cnpj']].head(3)"
   ]
  },
  {
   "cell_type": "code",
   "execution_count": 59,
   "metadata": {},
   "outputs": [
    {
     "name": "stdout",
     "output_type": "stream",
     "text": [
      "<class 'pandas.core.frame.DataFrame'>\n",
      "RangeIndex: 21053 entries, 0 to 21052\n",
      "Data columns (total 3 columns):\n",
      " #   Column  Non-Null Count  Dtype \n",
      "---  ------  --------------  ----- \n",
      " 0   cnes    21053 non-null  int64 \n",
      " 1   CNPJ    21053 non-null  object\n",
      " 2   cnpj    21053 non-null  object\n",
      "dtypes: int64(1), object(2)\n",
      "memory usage: 493.6+ KB\n"
     ]
    }
   ],
   "source": [
    "df[['cnes','CNPJ','cnpj']].info()\n"
   ]
  },
  {
   "cell_type": "markdown",
   "metadata": {},
   "source": [
    "#### Passando dicts de cep"
   ]
  },
  {
   "cell_type": "code",
   "execution_count": 60,
   "metadata": {},
   "outputs": [
    {
     "name": "stdout",
     "output_type": "stream",
     "text": [
      "<class 'pandas.core.frame.DataFrame'>\n",
      "RangeIndex: 21053 entries, 0 to 21052\n",
      "Data columns (total 3 columns):\n",
      " #   Column  Non-Null Count  Dtype \n",
      "---  ------  --------------  ----- \n",
      " 0   cnes    21053 non-null  int64 \n",
      " 1   CEP     21053 non-null  int64 \n",
      " 2   cep     19095 non-null  object\n",
      "dtypes: int64(2), object(1)\n",
      "memory usage: 493.6+ KB\n"
     ]
    }
   ],
   "source": [
    "df[['cnes','CEP','cep']].info()\n"
   ]
  },
  {
   "cell_type": "code",
   "execution_count": 61,
   "metadata": {},
   "outputs": [
    {
     "data": {
      "text/html": [
       "<div>\n",
       "<style scoped>\n",
       "    .dataframe tbody tr th:only-of-type {\n",
       "        vertical-align: middle;\n",
       "    }\n",
       "\n",
       "    .dataframe tbody tr th {\n",
       "        vertical-align: top;\n",
       "    }\n",
       "\n",
       "    .dataframe thead th {\n",
       "        text-align: right;\n",
       "    }\n",
       "</style>\n",
       "<table border=\"1\" class=\"dataframe\">\n",
       "  <thead>\n",
       "    <tr style=\"text-align: right;\">\n",
       "      <th></th>\n",
       "      <th>cnes</th>\n",
       "      <th>CEP</th>\n",
       "      <th>cep</th>\n",
       "    </tr>\n",
       "  </thead>\n",
       "  <tbody>\n",
       "    <tr>\n",
       "      <th>0</th>\n",
       "      <td>7035594</td>\n",
       "      <td>72215170</td>\n",
       "      <td>72.215-170</td>\n",
       "    </tr>\n",
       "    <tr>\n",
       "      <th>1</th>\n",
       "      <td>9575782</td>\n",
       "      <td>78563000</td>\n",
       "      <td>78.563-000</td>\n",
       "    </tr>\n",
       "    <tr>\n",
       "      <th>2</th>\n",
       "      <td>9577130</td>\n",
       "      <td>4026000</td>\n",
       "      <td>04.026-000</td>\n",
       "    </tr>\n",
       "  </tbody>\n",
       "</table>\n",
       "</div>"
      ],
      "text/plain": [
       "      cnes       CEP         cep\n",
       "0  7035594  72215170  72.215-170\n",
       "1  9575782  78563000  78.563-000\n",
       "2  9577130   4026000  04.026-000"
      ]
     },
     "execution_count": 61,
     "metadata": {},
     "output_type": "execute_result"
    }
   ],
   "source": [
    "df[['cnes','CEP','cep']].head(3)\n"
   ]
  },
  {
   "cell_type": "code",
   "execution_count": 62,
   "metadata": {},
   "outputs": [],
   "source": [
    "#passar os dicts acima\n",
    "df['cep'] = df['cnes'].map(dict_RF_CEP) #reescrevendo a col cep da receita a partir do dict\n",
    "df['CEP'] = df['cnes'].map(dict_CNES_CEP) #reescrevendo a col cep da base do CEP a partir do dict"
   ]
  },
  {
   "cell_type": "code",
   "execution_count": 63,
   "metadata": {},
   "outputs": [
    {
     "data": {
      "text/html": [
       "<div>\n",
       "<style scoped>\n",
       "    .dataframe tbody tr th:only-of-type {\n",
       "        vertical-align: middle;\n",
       "    }\n",
       "\n",
       "    .dataframe tbody tr th {\n",
       "        vertical-align: top;\n",
       "    }\n",
       "\n",
       "    .dataframe thead th {\n",
       "        text-align: right;\n",
       "    }\n",
       "</style>\n",
       "<table border=\"1\" class=\"dataframe\">\n",
       "  <thead>\n",
       "    <tr style=\"text-align: right;\">\n",
       "      <th></th>\n",
       "      <th>cnes</th>\n",
       "      <th>CEP</th>\n",
       "      <th>cep</th>\n",
       "    </tr>\n",
       "  </thead>\n",
       "  <tbody>\n",
       "    <tr>\n",
       "      <th>0</th>\n",
       "      <td>7035594</td>\n",
       "      <td>72215170</td>\n",
       "      <td>72215170</td>\n",
       "    </tr>\n",
       "    <tr>\n",
       "      <th>1</th>\n",
       "      <td>9575782</td>\n",
       "      <td>78563000</td>\n",
       "      <td>78563000</td>\n",
       "    </tr>\n",
       "    <tr>\n",
       "      <th>2</th>\n",
       "      <td>9577130</td>\n",
       "      <td>04026000</td>\n",
       "      <td>04026000</td>\n",
       "    </tr>\n",
       "  </tbody>\n",
       "</table>\n",
       "</div>"
      ],
      "text/plain": [
       "      cnes       CEP       cep\n",
       "0  7035594  72215170  72215170\n",
       "1  9575782  78563000  78563000\n",
       "2  9577130  04026000  04026000"
      ]
     },
     "execution_count": 63,
     "metadata": {},
     "output_type": "execute_result"
    }
   ],
   "source": [
    "df[['cnes','CEP','cep']].head(3)\n"
   ]
  },
  {
   "cell_type": "markdown",
   "metadata": {},
   "source": [
    "# Extraindo a base"
   ]
  },
  {
   "cell_type": "code",
   "execution_count": 64,
   "metadata": {},
   "outputs": [],
   "source": [
    "df.to_csv(r'App\\base2.csv',index=False)"
   ]
  },
  {
   "cell_type": "markdown",
   "metadata": {},
   "source": [
    "Testando impor da base no streamlit"
   ]
  },
  {
   "cell_type": "code",
   "execution_count": null,
   "metadata": {},
   "outputs": [],
   "source": [
    "df_stream = pd.read_csv(r'App\\base2.csv',dtype={'cnpj': object,'CNPJ': object,'cep': object,'CEP': object})"
   ]
  },
  {
   "cell_type": "code",
   "execution_count": null,
   "metadata": {},
   "outputs": [],
   "source": [
    "df_stream[['cnpj','CNPJ']]#.info()"
   ]
  }
 ],
 "metadata": {
  "interpreter": {
   "hash": "21b8f758fb4715b4b81f2c423d88e7315ea58c9a3d8976542b4ef22d08a865e7"
  },
  "kernelspec": {
   "display_name": "Python 3.8.8 ('Data_Science')",
   "language": "python",
   "name": "python3"
  },
  "language_info": {
   "codemirror_mode": {
    "name": "ipython",
    "version": 3
   },
   "file_extension": ".py",
   "mimetype": "text/x-python",
   "name": "python",
   "nbconvert_exporter": "python",
   "pygments_lexer": "ipython3",
   "version": "3.8.8"
  },
  "orig_nbformat": 4
 },
 "nbformat": 4,
 "nbformat_minor": 2
}
